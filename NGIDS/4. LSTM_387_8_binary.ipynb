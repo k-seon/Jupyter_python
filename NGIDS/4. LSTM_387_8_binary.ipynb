{
 "cells": [
  {
   "cell_type": "code",
   "execution_count": 1,
   "metadata": {
    "ExecuteTime": {
     "end_time": "2021-01-23T10:21:08.680720Z",
     "start_time": "2021-01-23T10:21:07.694358Z"
    }
   },
   "outputs": [],
   "source": [
    "from pyarrow import csv\n",
    "import pandas as pd\n",
    "import numpy as np"
   ]
  },
  {
   "cell_type": "code",
   "execution_count": 2,
   "metadata": {
    "ExecuteTime": {
     "end_time": "2021-01-23T10:21:10.400975Z",
     "start_time": "2021-01-23T10:21:08.681717Z"
    }
   },
   "outputs": [],
   "source": [
    "import numpy as np\n",
    "import matplotlib.pyplot as plt\n",
    "from itertools import cycle\n",
    "from sklearn.metrics import roc_curve, auc\n",
    "from sklearn.metrics import roc_auc_score\n",
    "from sklearn.preprocessing import LabelBinarizer\n",
    "from sklearn.preprocessing import MinMaxScaler\n",
    "from sklearn.model_selection import train_test_split\n",
    "from scipy import interp\n",
    "from sklearn.metrics import roc_auc_score"
   ]
  },
  {
   "cell_type": "code",
   "execution_count": 3,
   "metadata": {
    "ExecuteTime": {
     "end_time": "2021-01-23T10:21:15.218514Z",
     "start_time": "2021-01-23T10:21:10.401973Z"
    }
   },
   "outputs": [],
   "source": [
    "import tensorflow as tf\n",
    "from tensorflow.keras import Model ,models, layers, optimizers, regularizers\n",
    "from tensorflow.keras.models import Sequential\n",
    "from tensorflow.keras.layers import LSTM, GRU, RepeatVector, TimeDistributed, InputLayer, Reshape, Dropout\n",
    "from tensorflow.keras.layers import Embedding, Dense, Flatten, BatchNormalization, LeakyReLU, Flatten, Bidirectional\n",
    "from tensorflow.keras.callbacks import ModelCheckpoint\n",
    "from tensorflow.keras.preprocessing.text import Tokenizer"
   ]
  },
  {
   "cell_type": "code",
   "execution_count": 4,
   "metadata": {
    "ExecuteTime": {
     "end_time": "2021-01-23T10:21:15.233473Z",
     "start_time": "2021-01-23T10:21:15.219511Z"
    }
   },
   "outputs": [],
   "source": [
    "def roc_curve_multiclass(model, test_iter, y_test):\n",
    "    y_score = model.predict(test_iter)\n",
    "    \n",
    "    fpr = dict()\n",
    "    tpr = dict()\n",
    "    roc_auc = dict()\n",
    "    lw = 2\n",
    "    n_classes = y_test.shape[1]\n",
    "    for i in range(n_classes):\n",
    "        fpr[i], tpr[i], _ = roc_curve(y_test[:, i], y_score[:, i])\n",
    "        roc_auc[i] = auc(fpr[i], tpr[i])\n",
    "\n",
    "    fpr[\"micro\"], tpr[\"micro\"], _ = roc_curve(y_test.ravel(), y_score.ravel())\n",
    "    roc_auc[\"micro\"] = auc(fpr[\"micro\"], tpr[\"micro\"])\n",
    "    \n",
    "    all_fpr = np.unique(np.concatenate([fpr[i] for i in range(n_classes)]))\n",
    "\n",
    "    mean_tpr = np.zeros_like(all_fpr)\n",
    "    for i in range(n_classes):\n",
    "        mean_tpr += interp(all_fpr, fpr[i], tpr[i])\n",
    "\n",
    "    mean_tpr /= n_classes\n",
    "\n",
    "    fpr[\"macro\"] = all_fpr\n",
    "    tpr[\"macro\"] = mean_tpr\n",
    "    roc_auc[\"macro\"] = auc(fpr[\"macro\"], tpr[\"macro\"])\n",
    "    \n",
    "    plt.figure(figsize=(10,6))\n",
    "    plt.plot(fpr[\"micro\"], tpr[\"micro\"],\n",
    "            label = \"micro-average ROC curve (area = {0:0.2f})\"\"\".format(roc_auc[\"micro\"]),\n",
    "            color=\"deeppink\", linestyle = \":\", linewidth=4)\n",
    "    plt.plot(fpr[\"macro\"], tpr[\"macro\"],\n",
    "             label='macro-average ROC curve (area = {0:0.2f})'\n",
    "                   ''.format(roc_auc[\"macro\"]),\n",
    "             color='navy', linestyle=':', linewidth=4)\n",
    "    colors = cycle(['tab:red', 'tab:orange', 'gold', \"tab:green\",\n",
    "                    \"tab:blue\", \"tab:purple\", \"tab:brown\", \"magenta\"])\n",
    "    for i, color in zip(range(n_classes), colors):\n",
    "        plt.plot(fpr[i], tpr[i], color=color, lw=lw,\n",
    "                 label='ROC curve of class {0} (area = {1:0.2f})'\n",
    "                 ''.format(i, roc_auc[i]))\n",
    "\n",
    "    plt.plot([0, 1], [0, 1], 'k--', lw=lw)\n",
    "    plt.xlim([0.0, 1.0])\n",
    "    plt.ylim([0.0, 1.05])\n",
    "    plt.xlabel('False Positive Rate')\n",
    "    plt.ylabel('True Positive Rate')\n",
    "    plt.title('Multi-Class, ROC-AUC')\n",
    "    plt.legend(loc=\"lower right\")\n",
    "    plt.show()"
   ]
  },
  {
   "cell_type": "code",
   "execution_count": 5,
   "metadata": {
    "ExecuteTime": {
     "end_time": "2021-01-23T10:21:23.431433Z",
     "start_time": "2021-01-23T10:21:21.001931Z"
    }
   },
   "outputs": [],
   "source": [
    "NGIDS = csv.read_csv(\"./NGIDS_PAT_sliding_387_8.csv\").to_pandas()"
   ]
  },
  {
   "cell_type": "code",
   "execution_count": 6,
   "metadata": {
    "ExecuteTime": {
     "end_time": "2021-01-23T10:21:35.581458Z",
     "start_time": "2021-01-23T10:21:35.505625Z"
    }
   },
   "outputs": [
    {
     "data": {
      "text/html": [
       "<div>\n",
       "<style scoped>\n",
       "    .dataframe tbody tr th:only-of-type {\n",
       "        vertical-align: middle;\n",
       "    }\n",
       "\n",
       "    .dataframe tbody tr th {\n",
       "        vertical-align: top;\n",
       "    }\n",
       "\n",
       "    .dataframe thead th {\n",
       "        text-align: right;\n",
       "    }\n",
       "</style>\n",
       "<table border=\"1\" class=\"dataframe\">\n",
       "  <thead>\n",
       "    <tr style=\"text-align: right;\">\n",
       "      <th></th>\n",
       "      <th>sys1</th>\n",
       "      <th>sys2</th>\n",
       "      <th>sys3</th>\n",
       "      <th>sys4</th>\n",
       "      <th>sys5</th>\n",
       "      <th>sys6</th>\n",
       "      <th>sys7</th>\n",
       "      <th>sys8</th>\n",
       "      <th>sys9</th>\n",
       "      <th>sys10</th>\n",
       "      <th>...</th>\n",
       "      <th>sys379</th>\n",
       "      <th>sys380</th>\n",
       "      <th>sys381</th>\n",
       "      <th>sys382</th>\n",
       "      <th>sys383</th>\n",
       "      <th>sys384</th>\n",
       "      <th>sys385</th>\n",
       "      <th>sys386</th>\n",
       "      <th>sys387</th>\n",
       "      <th>attack_cat</th>\n",
       "    </tr>\n",
       "  </thead>\n",
       "  <tbody>\n",
       "    <tr>\n",
       "      <th>0</th>\n",
       "      <td>46</td>\n",
       "      <td>73</td>\n",
       "      <td>45</td>\n",
       "      <td>32</td>\n",
       "      <td>74</td>\n",
       "      <td>73</td>\n",
       "      <td>75</td>\n",
       "      <td>71</td>\n",
       "      <td>32</td>\n",
       "      <td>76</td>\n",
       "      <td>...</td>\n",
       "      <td>46</td>\n",
       "      <td>73</td>\n",
       "      <td>46</td>\n",
       "      <td>35</td>\n",
       "      <td>69</td>\n",
       "      <td>35</td>\n",
       "      <td>68</td>\n",
       "      <td>70</td>\n",
       "      <td>33</td>\n",
       "      <td>0</td>\n",
       "    </tr>\n",
       "    <tr>\n",
       "      <th>1</th>\n",
       "      <td>32</td>\n",
       "      <td>76</td>\n",
       "      <td>49</td>\n",
       "      <td>29</td>\n",
       "      <td>19</td>\n",
       "      <td>76</td>\n",
       "      <td>57</td>\n",
       "      <td>76</td>\n",
       "      <td>25</td>\n",
       "      <td>76</td>\n",
       "      <td>...</td>\n",
       "      <td>33</td>\n",
       "      <td>32</td>\n",
       "      <td>32</td>\n",
       "      <td>66</td>\n",
       "      <td>32</td>\n",
       "      <td>66</td>\n",
       "      <td>46</td>\n",
       "      <td>66</td>\n",
       "      <td>46</td>\n",
       "      <td>0</td>\n",
       "    </tr>\n",
       "    <tr>\n",
       "      <th>2</th>\n",
       "      <td>25</td>\n",
       "      <td>76</td>\n",
       "      <td>76</td>\n",
       "      <td>57</td>\n",
       "      <td>76</td>\n",
       "      <td>25</td>\n",
       "      <td>57</td>\n",
       "      <td>77</td>\n",
       "      <td>76</td>\n",
       "      <td>32</td>\n",
       "      <td>...</td>\n",
       "      <td>46</td>\n",
       "      <td>66</td>\n",
       "      <td>46</td>\n",
       "      <td>46</td>\n",
       "      <td>66</td>\n",
       "      <td>66</td>\n",
       "      <td>46</td>\n",
       "      <td>46</td>\n",
       "      <td>46</td>\n",
       "      <td>0</td>\n",
       "    </tr>\n",
       "    <tr>\n",
       "      <th>3</th>\n",
       "      <td>76</td>\n",
       "      <td>32</td>\n",
       "      <td>32</td>\n",
       "      <td>78</td>\n",
       "      <td>32</td>\n",
       "      <td>18</td>\n",
       "      <td>66</td>\n",
       "      <td>43</td>\n",
       "      <td>26</td>\n",
       "      <td>44</td>\n",
       "      <td>...</td>\n",
       "      <td>46</td>\n",
       "      <td>66</td>\n",
       "      <td>66</td>\n",
       "      <td>46</td>\n",
       "      <td>55</td>\n",
       "      <td>46</td>\n",
       "      <td>4</td>\n",
       "      <td>55</td>\n",
       "      <td>46</td>\n",
       "      <td>0</td>\n",
       "    </tr>\n",
       "    <tr>\n",
       "      <th>4</th>\n",
       "      <td>26</td>\n",
       "      <td>44</td>\n",
       "      <td>25</td>\n",
       "      <td>55</td>\n",
       "      <td>26</td>\n",
       "      <td>46</td>\n",
       "      <td>43</td>\n",
       "      <td>20</td>\n",
       "      <td>20</td>\n",
       "      <td>47</td>\n",
       "      <td>...</td>\n",
       "      <td>46</td>\n",
       "      <td>46</td>\n",
       "      <td>71</td>\n",
       "      <td>58</td>\n",
       "      <td>66</td>\n",
       "      <td>46</td>\n",
       "      <td>58</td>\n",
       "      <td>55</td>\n",
       "      <td>71</td>\n",
       "      <td>0</td>\n",
       "    </tr>\n",
       "    <tr>\n",
       "      <th>...</th>\n",
       "      <td>...</td>\n",
       "      <td>...</td>\n",
       "      <td>...</td>\n",
       "      <td>...</td>\n",
       "      <td>...</td>\n",
       "      <td>...</td>\n",
       "      <td>...</td>\n",
       "      <td>...</td>\n",
       "      <td>...</td>\n",
       "      <td>...</td>\n",
       "      <td>...</td>\n",
       "      <td>...</td>\n",
       "      <td>...</td>\n",
       "      <td>...</td>\n",
       "      <td>...</td>\n",
       "      <td>...</td>\n",
       "      <td>...</td>\n",
       "      <td>...</td>\n",
       "      <td>...</td>\n",
       "      <td>...</td>\n",
       "      <td>...</td>\n",
       "    </tr>\n",
       "    <tr>\n",
       "      <th>486017</th>\n",
       "      <td>65</td>\n",
       "      <td>254</td>\n",
       "      <td>33</td>\n",
       "      <td>33</td>\n",
       "      <td>32</td>\n",
       "      <td>74</td>\n",
       "      <td>32</td>\n",
       "      <td>32</td>\n",
       "      <td>32</td>\n",
       "      <td>32</td>\n",
       "      <td>...</td>\n",
       "      <td>71</td>\n",
       "      <td>71</td>\n",
       "      <td>71</td>\n",
       "      <td>71</td>\n",
       "      <td>71</td>\n",
       "      <td>71</td>\n",
       "      <td>71</td>\n",
       "      <td>71</td>\n",
       "      <td>58</td>\n",
       "      <td>0</td>\n",
       "    </tr>\n",
       "    <tr>\n",
       "      <th>486018</th>\n",
       "      <td>32</td>\n",
       "      <td>32</td>\n",
       "      <td>32</td>\n",
       "      <td>65</td>\n",
       "      <td>254</td>\n",
       "      <td>65</td>\n",
       "      <td>254</td>\n",
       "      <td>65</td>\n",
       "      <td>254</td>\n",
       "      <td>65</td>\n",
       "      <td>...</td>\n",
       "      <td>58</td>\n",
       "      <td>58</td>\n",
       "      <td>71</td>\n",
       "      <td>58</td>\n",
       "      <td>33</td>\n",
       "      <td>32</td>\n",
       "      <td>32</td>\n",
       "      <td>32</td>\n",
       "      <td>33</td>\n",
       "      <td>0</td>\n",
       "    </tr>\n",
       "    <tr>\n",
       "      <th>486019</th>\n",
       "      <td>254</td>\n",
       "      <td>65</td>\n",
       "      <td>254</td>\n",
       "      <td>65</td>\n",
       "      <td>254</td>\n",
       "      <td>65</td>\n",
       "      <td>254</td>\n",
       "      <td>65</td>\n",
       "      <td>254</td>\n",
       "      <td>65</td>\n",
       "      <td>...</td>\n",
       "      <td>33</td>\n",
       "      <td>32</td>\n",
       "      <td>32</td>\n",
       "      <td>32</td>\n",
       "      <td>33</td>\n",
       "      <td>33</td>\n",
       "      <td>32</td>\n",
       "      <td>32</td>\n",
       "      <td>32</td>\n",
       "      <td>0</td>\n",
       "    </tr>\n",
       "    <tr>\n",
       "      <th>486020</th>\n",
       "      <td>254</td>\n",
       "      <td>65</td>\n",
       "      <td>254</td>\n",
       "      <td>65</td>\n",
       "      <td>254</td>\n",
       "      <td>65</td>\n",
       "      <td>254</td>\n",
       "      <td>65</td>\n",
       "      <td>254</td>\n",
       "      <td>65</td>\n",
       "      <td>...</td>\n",
       "      <td>32</td>\n",
       "      <td>32</td>\n",
       "      <td>32</td>\n",
       "      <td>32</td>\n",
       "      <td>33</td>\n",
       "      <td>33</td>\n",
       "      <td>4</td>\n",
       "      <td>36</td>\n",
       "      <td>31</td>\n",
       "      <td>0</td>\n",
       "    </tr>\n",
       "    <tr>\n",
       "      <th>486021</th>\n",
       "      <td>254</td>\n",
       "      <td>65</td>\n",
       "      <td>4</td>\n",
       "      <td>41</td>\n",
       "      <td>58</td>\n",
       "      <td>4</td>\n",
       "      <td>31</td>\n",
       "      <td>41</td>\n",
       "      <td>46</td>\n",
       "      <td>48</td>\n",
       "      <td>...</td>\n",
       "      <td>31</td>\n",
       "      <td>1</td>\n",
       "      <td>1</td>\n",
       "      <td>5</td>\n",
       "      <td>2</td>\n",
       "      <td>3</td>\n",
       "      <td>2</td>\n",
       "      <td>2</td>\n",
       "      <td>2</td>\n",
       "      <td>0</td>\n",
       "    </tr>\n",
       "  </tbody>\n",
       "</table>\n",
       "<p>486022 rows × 388 columns</p>\n",
       "</div>"
      ],
      "text/plain": [
       "        sys1  sys2  sys3  sys4  sys5  sys6  sys7  sys8  sys9  sys10  ...  \\\n",
       "0         46    73    45    32    74    73    75    71    32     76  ...   \n",
       "1         32    76    49    29    19    76    57    76    25     76  ...   \n",
       "2         25    76    76    57    76    25    57    77    76     32  ...   \n",
       "3         76    32    32    78    32    18    66    43    26     44  ...   \n",
       "4         26    44    25    55    26    46    43    20    20     47  ...   \n",
       "...      ...   ...   ...   ...   ...   ...   ...   ...   ...    ...  ...   \n",
       "486017    65   254    33    33    32    74    32    32    32     32  ...   \n",
       "486018    32    32    32    65   254    65   254    65   254     65  ...   \n",
       "486019   254    65   254    65   254    65   254    65   254     65  ...   \n",
       "486020   254    65   254    65   254    65   254    65   254     65  ...   \n",
       "486021   254    65     4    41    58     4    31    41    46     48  ...   \n",
       "\n",
       "        sys379  sys380  sys381  sys382  sys383  sys384  sys385  sys386  \\\n",
       "0           46      73      46      35      69      35      68      70   \n",
       "1           33      32      32      66      32      66      46      66   \n",
       "2           46      66      46      46      66      66      46      46   \n",
       "3           46      66      66      46      55      46       4      55   \n",
       "4           46      46      71      58      66      46      58      55   \n",
       "...        ...     ...     ...     ...     ...     ...     ...     ...   \n",
       "486017      71      71      71      71      71      71      71      71   \n",
       "486018      58      58      71      58      33      32      32      32   \n",
       "486019      33      32      32      32      33      33      32      32   \n",
       "486020      32      32      32      32      33      33       4      36   \n",
       "486021      31       1       1       5       2       3       2       2   \n",
       "\n",
       "        sys387  attack_cat  \n",
       "0           33           0  \n",
       "1           46           0  \n",
       "2           46           0  \n",
       "3           46           0  \n",
       "4           71           0  \n",
       "...        ...         ...  \n",
       "486017      58           0  \n",
       "486018      33           0  \n",
       "486019      32           0  \n",
       "486020      31           0  \n",
       "486021       2           0  \n",
       "\n",
       "[486022 rows x 388 columns]"
      ]
     },
     "execution_count": 6,
     "metadata": {},
     "output_type": "execute_result"
    }
   ],
   "source": [
    "NGIDS"
   ]
  },
  {
   "cell_type": "code",
   "execution_count": 7,
   "metadata": {
    "ExecuteTime": {
     "end_time": "2021-01-23T10:21:37.197100Z",
     "start_time": "2021-01-23T10:21:37.179148Z"
    }
   },
   "outputs": [
    {
     "data": {
      "text/plain": [
       "0    475879\n",
       "1      6079\n",
       "4      1885\n",
       "2      1455\n",
       "5       435\n",
       "3       180\n",
       "7        60\n",
       "6        49\n",
       "Name: attack_cat, dtype: int64"
      ]
     },
     "execution_count": 7,
     "metadata": {},
     "output_type": "execute_result"
    }
   ],
   "source": [
    "NGIDS[\"attack_cat\"].value_counts()"
   ]
  },
  {
   "cell_type": "code",
   "execution_count": 8,
   "metadata": {
    "ExecuteTime": {
     "end_time": "2021-01-23T10:21:38.050788Z",
     "start_time": "2021-01-23T10:21:37.670721Z"
    }
   },
   "outputs": [],
   "source": [
    "X = NGIDS[NGIDS.columns[-388:-1]].values"
   ]
  },
  {
   "cell_type": "code",
   "execution_count": 9,
   "metadata": {
    "ExecuteTime": {
     "end_time": "2021-01-23T10:21:39.651425Z",
     "start_time": "2021-01-23T10:21:39.637463Z"
    }
   },
   "outputs": [],
   "source": [
    "y = NGIDS[\"attack_cat\"]"
   ]
  },
  {
   "cell_type": "code",
   "execution_count": 10,
   "metadata": {
    "ExecuteTime": {
     "end_time": "2021-01-23T10:21:39.980570Z",
     "start_time": "2021-01-23T10:21:39.890783Z"
    }
   },
   "outputs": [],
   "source": [
    "Y = np.zeros(len(y))\n",
    "for i, v in enumerate(y):\n",
    "    if v != 0:\n",
    "        Y[i] = 1"
   ]
  },
  {
   "cell_type": "code",
   "execution_count": 11,
   "metadata": {
    "ExecuteTime": {
     "end_time": "2021-01-23T10:21:40.189985Z",
     "start_time": "2021-01-23T10:21:40.177020Z"
    }
   },
   "outputs": [],
   "source": [
    "del NGIDS"
   ]
  },
  {
   "cell_type": "code",
   "execution_count": 12,
   "metadata": {
    "ExecuteTime": {
     "end_time": "2021-01-23T10:21:40.668705Z",
     "start_time": "2021-01-23T10:21:40.653742Z"
    }
   },
   "outputs": [],
   "source": [
    "from sklearn.model_selection import train_test_split"
   ]
  },
  {
   "cell_type": "code",
   "execution_count": 13,
   "metadata": {
    "ExecuteTime": {
     "end_time": "2021-01-23T10:21:45.202194Z",
     "start_time": "2021-01-23T10:21:42.097130Z"
    }
   },
   "outputs": [],
   "source": [
    "X_train, X_test, y_train, y_test = train_test_split(X, Y, test_size=0.4, random_state=42)\n",
    "X_test, X_vali, y_test, y_vali = train_test_split(X_test, y_test, test_size=0.5, random_state=43)"
   ]
  },
  {
   "cell_type": "code",
   "execution_count": 20,
   "metadata": {
    "ExecuteTime": {
     "end_time": "2021-01-07T06:17:22.000512Z",
     "start_time": "2021-01-07T06:17:21.760433Z"
    }
   },
   "outputs": [],
   "source": [
    "from sklearn.decomposition import PCA"
   ]
  },
  {
   "cell_type": "code",
   "execution_count": null,
   "metadata": {
    "ExecuteTime": {
     "end_time": "2021-01-05T13:49:08.952595Z",
     "start_time": "2021-01-05T13:49:08.939630Z"
    }
   },
   "outputs": [],
   "source": [
    "pca = PCA(n_components=256)"
   ]
  },
  {
   "cell_type": "code",
   "execution_count": null,
   "metadata": {
    "ExecuteTime": {
     "end_time": "2021-01-05T13:49:39.723313Z",
     "start_time": "2021-01-05T13:49:08.954627Z"
    }
   },
   "outputs": [],
   "source": [
    "X_train = pca.fit_transform(X_train)\n",
    "X_vali = pca.transform(X_vali)\n",
    "X_test = pca.transform(X_test)"
   ]
  },
  {
   "cell_type": "code",
   "execution_count": null,
   "metadata": {
    "ExecuteTime": {
     "end_time": "2021-01-05T13:49:40.738855Z",
     "start_time": "2021-01-05T13:49:39.731820Z"
    }
   },
   "outputs": [],
   "source": [
    "from imblearn.over_sampling import BorderlineSMOTE, ADASYN, SMOTE"
   ]
  },
  {
   "cell_type": "code",
   "execution_count": null,
   "metadata": {
    "ExecuteTime": {
     "end_time": "2021-01-05T13:49:40.754579Z",
     "start_time": "2021-01-05T13:49:40.740630Z"
    }
   },
   "outputs": [],
   "source": [
    "smote = BorderlineSMOTE(sampling_strategy=0.3, random_state=44)"
   ]
  },
  {
   "cell_type": "code",
   "execution_count": null,
   "metadata": {
    "ExecuteTime": {
     "end_time": "2021-01-05T13:50:15.426816Z",
     "start_time": "2021-01-05T13:49:40.755576Z"
    }
   },
   "outputs": [],
   "source": [
    "X_train, y_train = smote.fit_resample(X_train, y_train)"
   ]
  },
  {
   "cell_type": "code",
   "execution_count": null,
   "metadata": {
    "ExecuteTime": {
     "end_time": "2021-01-05T13:50:15.473611Z",
     "start_time": "2021-01-05T13:50:15.427764Z"
    }
   },
   "outputs": [],
   "source": [
    "pd.Series(y_train).value_counts()"
   ]
  },
  {
   "cell_type": "code",
   "execution_count": null,
   "metadata": {
    "ExecuteTime": {
     "end_time": "2021-01-05T13:50:15.534691Z",
     "start_time": "2021-01-05T13:50:15.475605Z"
    }
   },
   "outputs": [],
   "source": [
    "def y_encoding(y_, classes):\n",
    "    tmp=tf.keras.utils.to_categorical(y_, num_classes=classes)\n",
    "    tmp=tmp.reshape(-1,classes).astype(np.float32)\n",
    "    return tmp"
   ]
  },
  {
   "cell_type": "code",
   "execution_count": null,
   "metadata": {
    "ExecuteTime": {
     "end_time": "2021-01-05T13:50:15.565644Z",
     "start_time": "2021-01-05T13:50:15.536685Z"
    }
   },
   "outputs": [],
   "source": [
    "y_train = y_encoding(y_train, 2)\n",
    "y_vali = y_encoding(y_vali, 2)\n",
    "y_test = y_encoding(y_test, 2)"
   ]
  },
  {
   "cell_type": "code",
   "execution_count": null,
   "metadata": {
    "ExecuteTime": {
     "end_time": "2021-01-05T13:50:15.581567Z",
     "start_time": "2021-01-05T13:50:15.567604Z"
    }
   },
   "outputs": [],
   "source": [
    "# from sklearn.preprocessing import MinMaxScaler\n",
    "# scaler = MinMaxScaler()\n",
    "# X_train = scaler.fit_transform(X_train)\n",
    "# X_vali = scaler.transform(X_vali)\n",
    "# X_test = scaler.transform(X_test)"
   ]
  },
  {
   "cell_type": "code",
   "execution_count": 14,
   "metadata": {
    "ExecuteTime": {
     "end_time": "2021-01-23T10:21:57.815656Z",
     "start_time": "2021-01-23T10:21:57.798700Z"
    }
   },
   "outputs": [],
   "source": [
    "LR = 1e-3\n",
    "EPOCHS=200\n",
    "EARLY_STOP=3\n",
    "BATCH = 512"
   ]
  },
  {
   "cell_type": "code",
   "execution_count": 15,
   "metadata": {
    "ExecuteTime": {
     "end_time": "2021-01-23T10:22:00.449579Z",
     "start_time": "2021-01-23T10:22:00.430595Z"
    }
   },
   "outputs": [],
   "source": [
    "def seq_model():\n",
    "    return Sequential([\n",
    "        Embedding(1700, 64, input_length=387),\n",
    "        Bidirectional(LSTM(64, return_sequences=True)),\n",
    "        Bidirectional(LSTM(64)),\n",
    "        Dense(32, activation='relu'),\n",
    "        Dense(16, activation='relu'),\n",
    "        Dense(1, activation='sigmoid')\n",
    "    ])"
   ]
  },
  {
   "cell_type": "code",
   "execution_count": 16,
   "metadata": {
    "ExecuteTime": {
     "end_time": "2021-01-23T10:22:05.476782Z",
     "start_time": "2021-01-23T10:22:01.192557Z"
    }
   },
   "outputs": [],
   "source": [
    "model = seq_model()"
   ]
  },
  {
   "cell_type": "code",
   "execution_count": 17,
   "metadata": {
    "ExecuteTime": {
     "end_time": "2021-01-23T10:22:10.847923Z",
     "start_time": "2021-01-23T10:22:10.824984Z"
    }
   },
   "outputs": [],
   "source": [
    "opt = tf.keras.optimizers.Adam(learning_rate=LR)\n",
    "model.compile(optimizer=opt, loss='binary_crossentropy',metrics=[\"accuracy\", tf.keras.metrics.AUC()])"
   ]
  },
  {
   "cell_type": "code",
   "execution_count": 18,
   "metadata": {
    "ExecuteTime": {
     "end_time": "2021-01-23T10:22:11.207002Z",
     "start_time": "2021-01-23T10:22:11.190010Z"
    }
   },
   "outputs": [],
   "source": [
    "checkpoint_path = 'my_checkpoint.ckpt'\n",
    "checkpoint = ModelCheckpoint(checkpoint_path, \n",
    "                             save_weights_only=True, \n",
    "                             save_best_only=True, \n",
    "                             monitor='val_loss',\n",
    "                             verbose=1)"
   ]
  },
  {
   "cell_type": "code",
   "execution_count": 19,
   "metadata": {
    "ExecuteTime": {
     "end_time": "2021-01-23T14:32:51.576525Z",
     "start_time": "2021-01-23T10:22:12.887381Z"
    },
    "scrolled": true
   },
   "outputs": [
    {
     "name": "stdout",
     "output_type": "stream",
     "text": [
      "Epoch 1/200\n",
      "570/570 [==============================] - ETA: 0s - loss: 0.0756 - accuracy: 0.9870 - auc: 0.7215\n",
      "Epoch 00001: val_loss improved from inf to 0.06485, saving model to my_checkpoint.ckpt\n",
      "570/570 [==============================] - 160s 280ms/step - loss: 0.0756 - accuracy: 0.9870 - auc: 0.7215 - val_loss: 0.0649 - val_accuracy: 0.9878 - val_auc: 0.7732\n",
      "Epoch 2/200\n",
      "570/570 [==============================] - ETA: 0s - loss: 0.0640 - accuracy: 0.9879 - auc: 0.7668\n",
      "Epoch 00002: val_loss did not improve from 0.06485\n",
      "570/570 [==============================] - 159s 279ms/step - loss: 0.0640 - accuracy: 0.9879 - auc: 0.7668 - val_loss: 0.0650 - val_accuracy: 0.9879 - val_auc: 0.7654\n",
      "Epoch 3/200\n",
      "570/570 [==============================] - ETA: 0s - loss: 0.0638 - accuracy: 0.9881 - auc: 0.7675\n",
      "Epoch 00003: val_loss did not improve from 0.06485\n",
      "570/570 [==============================] - 156s 273ms/step - loss: 0.0638 - accuracy: 0.9881 - auc: 0.7675 - val_loss: 0.0653 - val_accuracy: 0.9879 - val_auc: 0.7830\n",
      "Epoch 4/200\n",
      "570/570 [==============================] - ETA: 0s - loss: 0.0635 - accuracy: 0.9881 - auc: 0.7756\n",
      "Epoch 00004: val_loss improved from 0.06485 to 0.06437, saving model to my_checkpoint.ckpt\n",
      "570/570 [==============================] - 155s 272ms/step - loss: 0.0635 - accuracy: 0.9881 - auc: 0.7756 - val_loss: 0.0644 - val_accuracy: 0.9879 - val_auc: 0.7808\n",
      "Epoch 5/200\n",
      "570/570 [==============================] - ETA: 0s - loss: 0.0638 - accuracy: 0.9880 - auc: 0.7666\n",
      "Epoch 00005: val_loss did not improve from 0.06437\n",
      "570/570 [==============================] - 155s 272ms/step - loss: 0.0638 - accuracy: 0.9880 - auc: 0.7666 - val_loss: 0.0648 - val_accuracy: 0.9879 - val_auc: 0.7541\n",
      "Epoch 6/200\n",
      "570/570 [==============================] - ETA: 0s - loss: 0.0635 - accuracy: 0.9881 - auc: 0.7714\n",
      "Epoch 00006: val_loss did not improve from 0.06437\n",
      "570/570 [==============================] - 155s 272ms/step - loss: 0.0635 - accuracy: 0.9881 - auc: 0.7714 - val_loss: 0.0658 - val_accuracy: 0.9879 - val_auc: 0.7829\n",
      "Epoch 7/200\n",
      "570/570 [==============================] - ETA: 0s - loss: 0.0635 - accuracy: 0.9881 - auc: 0.7762\n",
      "Epoch 00007: val_loss did not improve from 0.06437\n",
      "570/570 [==============================] - 156s 273ms/step - loss: 0.0635 - accuracy: 0.9881 - auc: 0.7762 - val_loss: 0.0646 - val_accuracy: 0.9879 - val_auc: 0.7822\n",
      "Epoch 8/200\n",
      "570/570 [==============================] - ETA: 0s - loss: 0.0634 - accuracy: 0.9881 - auc: 0.7757\n",
      "Epoch 00008: val_loss did not improve from 0.06437\n",
      "570/570 [==============================] - 156s 274ms/step - loss: 0.0634 - accuracy: 0.9881 - auc: 0.7757 - val_loss: 0.0645 - val_accuracy: 0.9879 - val_auc: 0.7798\n",
      "Epoch 9/200\n",
      "570/570 [==============================] - ETA: 0s - loss: 0.0631 - accuracy: 0.9881 - auc: 0.7814\n",
      "Epoch 00009: val_loss did not improve from 0.06437\n",
      "570/570 [==============================] - 155s 272ms/step - loss: 0.0631 - accuracy: 0.9881 - auc: 0.7814 - val_loss: 0.0650 - val_accuracy: 0.9879 - val_auc: 0.7654\n",
      "Epoch 10/200\n",
      "570/570 [==============================] - ETA: 0s - loss: 0.0629 - accuracy: 0.9881 - auc: 0.7842\n",
      "Epoch 00010: val_loss did not improve from 0.06437\n",
      "570/570 [==============================] - 155s 272ms/step - loss: 0.0629 - accuracy: 0.9881 - auc: 0.7842 - val_loss: 0.0645 - val_accuracy: 0.9879 - val_auc: 0.7840\n",
      "Epoch 11/200\n",
      "570/570 [==============================] - ETA: 0s - loss: 0.0630 - accuracy: 0.9881 - auc: 0.7816\n",
      "Epoch 00011: val_loss improved from 0.06437 to 0.06425, saving model to my_checkpoint.ckpt\n",
      "570/570 [==============================] - 155s 271ms/step - loss: 0.0630 - accuracy: 0.9881 - auc: 0.7816 - val_loss: 0.0642 - val_accuracy: 0.9879 - val_auc: 0.7806\n",
      "Epoch 12/200\n",
      "570/570 [==============================] - ETA: 0s - loss: 0.0629 - accuracy: 0.9881 - auc: 0.7817\n",
      "Epoch 00012: val_loss improved from 0.06425 to 0.06408, saving model to my_checkpoint.ckpt\n",
      "570/570 [==============================] - 155s 271ms/step - loss: 0.0629 - accuracy: 0.9881 - auc: 0.7817 - val_loss: 0.0641 - val_accuracy: 0.9878 - val_auc: 0.7887\n",
      "Epoch 13/200\n",
      "570/570 [==============================] - ETA: 0s - loss: 0.0627 - accuracy: 0.9881 - auc: 0.7871\n",
      "Epoch 00013: val_loss did not improve from 0.06408\n",
      "570/570 [==============================] - 154s 271ms/step - loss: 0.0627 - accuracy: 0.9881 - auc: 0.7871 - val_loss: 0.0641 - val_accuracy: 0.9878 - val_auc: 0.7872\n",
      "Epoch 14/200\n",
      "570/570 [==============================] - ETA: 0s - loss: 0.0627 - accuracy: 0.9881 - auc: 0.7872\n",
      "Epoch 00014: val_loss did not improve from 0.06408\n",
      "570/570 [==============================] - 154s 271ms/step - loss: 0.0627 - accuracy: 0.9881 - auc: 0.7872 - val_loss: 0.0646 - val_accuracy: 0.9879 - val_auc: 0.7905\n",
      "Epoch 15/200\n",
      "570/570 [==============================] - ETA: 0s - loss: 0.0626 - accuracy: 0.9881 - auc: 0.7893\n",
      "Epoch 00015: val_loss improved from 0.06408 to 0.06395, saving model to my_checkpoint.ckpt\n",
      "570/570 [==============================] - 154s 271ms/step - loss: 0.0626 - accuracy: 0.9881 - auc: 0.7893 - val_loss: 0.0640 - val_accuracy: 0.9879 - val_auc: 0.7921\n",
      "Epoch 16/200\n",
      "570/570 [==============================] - ETA: 0s - loss: 0.0624 - accuracy: 0.9881 - auc: 0.7922\n",
      "Epoch 00016: val_loss improved from 0.06395 to 0.06380, saving model to my_checkpoint.ckpt\n",
      "570/570 [==============================] - 154s 271ms/step - loss: 0.0624 - accuracy: 0.9881 - auc: 0.7922 - val_loss: 0.0638 - val_accuracy: 0.9878 - val_auc: 0.7930\n",
      "Epoch 17/200\n",
      "570/570 [==============================] - ETA: 0s - loss: 0.0623 - accuracy: 0.9881 - auc: 0.7951\n",
      "Epoch 00017: val_loss improved from 0.06380 to 0.06379, saving model to my_checkpoint.ckpt\n",
      "570/570 [==============================] - 154s 271ms/step - loss: 0.0623 - accuracy: 0.9881 - auc: 0.7951 - val_loss: 0.0638 - val_accuracy: 0.9879 - val_auc: 0.7924\n",
      "Epoch 18/200\n",
      "570/570 [==============================] - ETA: 0s - loss: 0.0622 - accuracy: 0.9881 - auc: 0.7968\n",
      "Epoch 00018: val_loss improved from 0.06379 to 0.06361, saving model to my_checkpoint.ckpt\n",
      "570/570 [==============================] - 154s 271ms/step - loss: 0.0622 - accuracy: 0.9881 - auc: 0.7968 - val_loss: 0.0636 - val_accuracy: 0.9879 - val_auc: 0.7927\n",
      "Epoch 19/200\n",
      "570/570 [==============================] - ETA: 0s - loss: 0.0622 - accuracy: 0.9881 - auc: 0.7970\n",
      "Epoch 00019: val_loss did not improve from 0.06361\n",
      "570/570 [==============================] - 154s 271ms/step - loss: 0.0622 - accuracy: 0.9881 - auc: 0.7970 - val_loss: 0.0638 - val_accuracy: 0.9879 - val_auc: 0.7955\n",
      "Epoch 20/200\n",
      "570/570 [==============================] - ETA: 0s - loss: 0.0620 - accuracy: 0.9881 - auc: 0.7990\n",
      "Epoch 00020: val_loss improved from 0.06361 to 0.06340, saving model to my_checkpoint.ckpt\n",
      "570/570 [==============================] - 154s 271ms/step - loss: 0.0620 - accuracy: 0.9881 - auc: 0.7990 - val_loss: 0.0634 - val_accuracy: 0.9879 - val_auc: 0.7992\n",
      "Epoch 21/200\n",
      "570/570 [==============================] - ETA: 0s - loss: 0.0618 - accuracy: 0.9881 - auc: 0.8013\n",
      "Epoch 00021: val_loss improved from 0.06340 to 0.06340, saving model to my_checkpoint.ckpt\n",
      "570/570 [==============================] - 154s 271ms/step - loss: 0.0618 - accuracy: 0.9881 - auc: 0.8013 - val_loss: 0.0634 - val_accuracy: 0.9880 - val_auc: 0.7974\n",
      "Epoch 22/200\n",
      "570/570 [==============================] - ETA: 0s - loss: 0.0616 - accuracy: 0.9881 - auc: 0.8054\n",
      "Epoch 00022: val_loss improved from 0.06340 to 0.06331, saving model to my_checkpoint.ckpt\n",
      "570/570 [==============================] - 154s 271ms/step - loss: 0.0616 - accuracy: 0.9881 - auc: 0.8054 - val_loss: 0.0633 - val_accuracy: 0.9880 - val_auc: 0.8039\n",
      "Epoch 23/200\n",
      "570/570 [==============================] - ETA: 0s - loss: 0.0615 - accuracy: 0.9881 - auc: 0.8106\n",
      "Epoch 00023: val_loss improved from 0.06331 to 0.06316, saving model to my_checkpoint.ckpt\n",
      "570/570 [==============================] - 154s 271ms/step - loss: 0.0615 - accuracy: 0.9881 - auc: 0.8106 - val_loss: 0.0632 - val_accuracy: 0.9880 - val_auc: 0.8026\n",
      "Epoch 24/200\n",
      "570/570 [==============================] - ETA: 0s - loss: 0.0612 - accuracy: 0.9881 - auc: 0.8171\n",
      "Epoch 00024: val_loss improved from 0.06316 to 0.06271, saving model to my_checkpoint.ckpt\n",
      "570/570 [==============================] - 154s 271ms/step - loss: 0.0612 - accuracy: 0.9881 - auc: 0.8171 - val_loss: 0.0627 - val_accuracy: 0.9879 - val_auc: 0.8188\n"
     ]
    },
    {
     "name": "stdout",
     "output_type": "stream",
     "text": [
      "Epoch 25/200\n",
      "570/570 [==============================] - ETA: 0s - loss: 0.0608 - accuracy: 0.9881 - auc: 0.8217\n",
      "Epoch 00025: val_loss improved from 0.06271 to 0.06244, saving model to my_checkpoint.ckpt\n",
      "570/570 [==============================] - 154s 271ms/step - loss: 0.0608 - accuracy: 0.9881 - auc: 0.8217 - val_loss: 0.0624 - val_accuracy: 0.9880 - val_auc: 0.8192\n",
      "Epoch 26/200\n",
      "570/570 [==============================] - ETA: 0s - loss: 0.0602 - accuracy: 0.9881 - auc: 0.8312\n",
      "Epoch 00026: val_loss did not improve from 0.06244\n",
      "570/570 [==============================] - 155s 271ms/step - loss: 0.0602 - accuracy: 0.9881 - auc: 0.8312 - val_loss: 0.0645 - val_accuracy: 0.9879 - val_auc: 0.7600\n",
      "Epoch 27/200\n",
      "570/570 [==============================] - ETA: 0s - loss: 0.0616 - accuracy: 0.9881 - auc: 0.8034\n",
      "Epoch 00027: val_loss did not improve from 0.06244\n",
      "570/570 [==============================] - 154s 271ms/step - loss: 0.0616 - accuracy: 0.9881 - auc: 0.8034 - val_loss: 0.0626 - val_accuracy: 0.9880 - val_auc: 0.8099\n",
      "Epoch 28/200\n",
      "570/570 [==============================] - ETA: 0s - loss: 0.0607 - accuracy: 0.9882 - auc: 0.8181\n",
      "Epoch 00028: val_loss did not improve from 0.06244\n",
      "570/570 [==============================] - 154s 271ms/step - loss: 0.0607 - accuracy: 0.9882 - auc: 0.8181 - val_loss: 0.0627 - val_accuracy: 0.9880 - val_auc: 0.8113\n",
      "Epoch 29/200\n",
      "570/570 [==============================] - ETA: 0s - loss: 0.0600 - accuracy: 0.9883 - auc: 0.8284\n",
      "Epoch 00029: val_loss improved from 0.06244 to 0.06178, saving model to my_checkpoint.ckpt\n",
      "570/570 [==============================] - 154s 271ms/step - loss: 0.0600 - accuracy: 0.9883 - auc: 0.8284 - val_loss: 0.0618 - val_accuracy: 0.9881 - val_auc: 0.8227\n",
      "Epoch 30/200\n",
      "570/570 [==============================] - ETA: 0s - loss: 0.0596 - accuracy: 0.9882 - auc: 0.8386\n",
      "Epoch 00030: val_loss improved from 0.06178 to 0.06162, saving model to my_checkpoint.ckpt\n",
      "570/570 [==============================] - 154s 271ms/step - loss: 0.0596 - accuracy: 0.9882 - auc: 0.8386 - val_loss: 0.0616 - val_accuracy: 0.9880 - val_auc: 0.8276\n",
      "Epoch 31/200\n",
      "570/570 [==============================] - ETA: 0s - loss: 0.0591 - accuracy: 0.9882 - auc: 0.8484\n",
      "Epoch 00031: val_loss improved from 0.06162 to 0.05999, saving model to my_checkpoint.ckpt\n",
      "570/570 [==============================] - 154s 271ms/step - loss: 0.0591 - accuracy: 0.9882 - auc: 0.8484 - val_loss: 0.0600 - val_accuracy: 0.9879 - val_auc: 0.8525\n",
      "Epoch 32/200\n",
      "570/570 [==============================] - ETA: 0s - loss: 0.0576 - accuracy: 0.9883 - auc: 0.8613\n",
      "Epoch 00032: val_loss improved from 0.05999 to 0.05839, saving model to my_checkpoint.ckpt\n",
      "570/570 [==============================] - 154s 271ms/step - loss: 0.0576 - accuracy: 0.9883 - auc: 0.8613 - val_loss: 0.0584 - val_accuracy: 0.9880 - val_auc: 0.8656\n",
      "Epoch 33/200\n",
      "570/570 [==============================] - ETA: 0s - loss: 0.0560 - accuracy: 0.9883 - auc: 0.8725\n",
      "Epoch 00033: val_loss improved from 0.05839 to 0.05690, saving model to my_checkpoint.ckpt\n",
      "570/570 [==============================] - 154s 271ms/step - loss: 0.0560 - accuracy: 0.9883 - auc: 0.8725 - val_loss: 0.0569 - val_accuracy: 0.9880 - val_auc: 0.8778\n",
      "Epoch 34/200\n",
      "570/570 [==============================] - ETA: 0s - loss: 0.0546 - accuracy: 0.9883 - auc: 0.8810\n",
      "Epoch 00034: val_loss improved from 0.05690 to 0.05594, saving model to my_checkpoint.ckpt\n",
      "570/570 [==============================] - 155s 271ms/step - loss: 0.0546 - accuracy: 0.9883 - auc: 0.8810 - val_loss: 0.0559 - val_accuracy: 0.9881 - val_auc: 0.8759\n",
      "Epoch 35/200\n",
      "570/570 [==============================] - ETA: 0s - loss: 0.0515 - accuracy: 0.9885 - auc: 0.8940\n",
      "Epoch 00035: val_loss improved from 0.05594 to 0.05098, saving model to my_checkpoint.ckpt\n",
      "570/570 [==============================] - 154s 271ms/step - loss: 0.0515 - accuracy: 0.9885 - auc: 0.8940 - val_loss: 0.0510 - val_accuracy: 0.9886 - val_auc: 0.8984\n",
      "Epoch 36/200\n",
      "570/570 [==============================] - ETA: 0s - loss: 0.0475 - accuracy: 0.9894 - auc: 0.9058\n",
      "Epoch 00036: val_loss did not improve from 0.05098\n",
      "570/570 [==============================] - 154s 271ms/step - loss: 0.0475 - accuracy: 0.9894 - auc: 0.9058 - val_loss: 0.0513 - val_accuracy: 0.9893 - val_auc: 0.8820\n",
      "Epoch 37/200\n",
      "570/570 [==============================] - ETA: 0s - loss: 0.0422 - accuracy: 0.9909 - auc: 0.9194\n",
      "Epoch 00037: val_loss improved from 0.05098 to 0.04294, saving model to my_checkpoint.ckpt\n",
      "570/570 [==============================] - 155s 271ms/step - loss: 0.0422 - accuracy: 0.9909 - auc: 0.9194 - val_loss: 0.0429 - val_accuracy: 0.9909 - val_auc: 0.9097\n",
      "Epoch 38/200\n",
      "570/570 [==============================] - ETA: 0s - loss: 0.0397 - accuracy: 0.9915 - auc: 0.9240\n",
      "Epoch 00038: val_loss improved from 0.04294 to 0.03994, saving model to my_checkpoint.ckpt\n",
      "570/570 [==============================] - 154s 271ms/step - loss: 0.0397 - accuracy: 0.9915 - auc: 0.9240 - val_loss: 0.0399 - val_accuracy: 0.9916 - val_auc: 0.9199\n",
      "Epoch 39/200\n",
      "570/570 [==============================] - ETA: 0s - loss: 0.0352 - accuracy: 0.9925 - auc: 0.9351\n",
      "Epoch 00039: val_loss improved from 0.03994 to 0.03693, saving model to my_checkpoint.ckpt\n",
      "570/570 [==============================] - 154s 271ms/step - loss: 0.0352 - accuracy: 0.9925 - auc: 0.9351 - val_loss: 0.0369 - val_accuracy: 0.9924 - val_auc: 0.9276\n",
      "Epoch 40/200\n",
      "570/570 [==============================] - ETA: 0s - loss: 0.0322 - accuracy: 0.9931 - auc: 0.9411\n",
      "Epoch 00040: val_loss did not improve from 0.03693\n",
      "570/570 [==============================] - 154s 271ms/step - loss: 0.0322 - accuracy: 0.9931 - auc: 0.9411 - val_loss: 0.0389 - val_accuracy: 0.9918 - val_auc: 0.9184\n",
      "Epoch 41/200\n",
      "570/570 [==============================] - ETA: 0s - loss: 0.0299 - accuracy: 0.9936 - auc: 0.9480\n",
      "Epoch 00041: val_loss improved from 0.03693 to 0.03159, saving model to my_checkpoint.ckpt\n",
      "570/570 [==============================] - 154s 271ms/step - loss: 0.0299 - accuracy: 0.9936 - auc: 0.9480 - val_loss: 0.0316 - val_accuracy: 0.9935 - val_auc: 0.9396\n",
      "Epoch 42/200\n",
      "570/570 [==============================] - ETA: 0s - loss: 0.0275 - accuracy: 0.9942 - auc: 0.9516\n",
      "Epoch 00042: val_loss did not improve from 0.03159\n",
      "570/570 [==============================] - 154s 271ms/step - loss: 0.0275 - accuracy: 0.9942 - auc: 0.9516 - val_loss: 0.0324 - val_accuracy: 0.9935 - val_auc: 0.9328\n",
      "Epoch 43/200\n",
      "570/570 [==============================] - ETA: 0s - loss: 0.0270 - accuracy: 0.9944 - auc: 0.9539\n",
      "Epoch 00043: val_loss improved from 0.03159 to 0.03061, saving model to my_checkpoint.ckpt\n",
      "570/570 [==============================] - 154s 271ms/step - loss: 0.0270 - accuracy: 0.9944 - auc: 0.9539 - val_loss: 0.0306 - val_accuracy: 0.9936 - val_auc: 0.9392\n",
      "Epoch 44/200\n",
      "570/570 [==============================] - ETA: 0s - loss: 0.0248 - accuracy: 0.9949 - auc: 0.9588\n",
      "Epoch 00044: val_loss improved from 0.03061 to 0.02893, saving model to my_checkpoint.ckpt\n",
      "570/570 [==============================] - 154s 271ms/step - loss: 0.0248 - accuracy: 0.9949 - auc: 0.9588 - val_loss: 0.0289 - val_accuracy: 0.9944 - val_auc: 0.9341\n",
      "Epoch 45/200\n",
      "570/570 [==============================] - ETA: 0s - loss: 0.0251 - accuracy: 0.9947 - auc: 0.9581\n",
      "Epoch 00045: val_loss improved from 0.02893 to 0.02772, saving model to my_checkpoint.ckpt\n",
      "570/570 [==============================] - 154s 271ms/step - loss: 0.0251 - accuracy: 0.9947 - auc: 0.9581 - val_loss: 0.0277 - val_accuracy: 0.9946 - val_auc: 0.9436\n",
      "Epoch 46/200\n",
      "570/570 [==============================] - ETA: 0s - loss: 0.0227 - accuracy: 0.9953 - auc: 0.9633\n",
      "Epoch 00046: val_loss improved from 0.02772 to 0.02732, saving model to my_checkpoint.ckpt\n",
      "570/570 [==============================] - 154s 271ms/step - loss: 0.0227 - accuracy: 0.9953 - auc: 0.9633 - val_loss: 0.0273 - val_accuracy: 0.9948 - val_auc: 0.9448\n",
      "Epoch 47/200\n",
      "570/570 [==============================] - ETA: 0s - loss: 0.0232 - accuracy: 0.9950 - auc: 0.9646\n",
      "Epoch 00047: val_loss improved from 0.02732 to 0.02571, saving model to my_checkpoint.ckpt\n",
      "570/570 [==============================] - 154s 271ms/step - loss: 0.0232 - accuracy: 0.9950 - auc: 0.9646 - val_loss: 0.0257 - val_accuracy: 0.9948 - val_auc: 0.9472\n"
     ]
    },
    {
     "name": "stdout",
     "output_type": "stream",
     "text": [
      "Epoch 48/200\n",
      "570/570 [==============================] - ETA: 0s - loss: 0.0214 - accuracy: 0.9955 - auc: 0.9666\n",
      "Epoch 00048: val_loss improved from 0.02571 to 0.02477, saving model to my_checkpoint.ckpt\n",
      "570/570 [==============================] - 154s 271ms/step - loss: 0.0214 - accuracy: 0.9955 - auc: 0.9666 - val_loss: 0.0248 - val_accuracy: 0.9953 - val_auc: 0.9466\n",
      "Epoch 49/200\n",
      "570/570 [==============================] - ETA: 0s - loss: 0.0197 - accuracy: 0.9960 - auc: 0.9696\n",
      "Epoch 00049: val_loss did not improve from 0.02477\n",
      "570/570 [==============================] - 154s 271ms/step - loss: 0.0197 - accuracy: 0.9960 - auc: 0.9696 - val_loss: 0.0251 - val_accuracy: 0.9953 - val_auc: 0.9620\n",
      "Epoch 50/200\n",
      "570/570 [==============================] - ETA: 0s - loss: 0.0198 - accuracy: 0.9958 - auc: 0.9708\n",
      "Epoch 00050: val_loss improved from 0.02477 to 0.02434, saving model to my_checkpoint.ckpt\n",
      "570/570 [==============================] - 155s 271ms/step - loss: 0.0198 - accuracy: 0.9958 - auc: 0.9708 - val_loss: 0.0243 - val_accuracy: 0.9953 - val_auc: 0.9532\n",
      "Epoch 51/200\n",
      "570/570 [==============================] - ETA: 0s - loss: 0.0182 - accuracy: 0.9962 - auc: 0.9723\n",
      "Epoch 00051: val_loss improved from 0.02434 to 0.02261, saving model to my_checkpoint.ckpt\n",
      "570/570 [==============================] - 155s 271ms/step - loss: 0.0182 - accuracy: 0.9962 - auc: 0.9723 - val_loss: 0.0226 - val_accuracy: 0.9958 - val_auc: 0.9641\n",
      "Epoch 52/200\n",
      "570/570 [==============================] - ETA: 0s - loss: 0.0186 - accuracy: 0.9962 - auc: 0.9730\n",
      "Epoch 00052: val_loss did not improve from 0.02261\n",
      "570/570 [==============================] - 154s 271ms/step - loss: 0.0186 - accuracy: 0.9962 - auc: 0.9730 - val_loss: 0.0234 - val_accuracy: 0.9954 - val_auc: 0.9535\n",
      "Epoch 53/200\n",
      "570/570 [==============================] - ETA: 0s - loss: 0.0167 - accuracy: 0.9966 - auc: 0.9760\n",
      "Epoch 00053: val_loss did not improve from 0.02261\n",
      "570/570 [==============================] - 154s 271ms/step - loss: 0.0167 - accuracy: 0.9966 - auc: 0.9760 - val_loss: 0.0247 - val_accuracy: 0.9953 - val_auc: 0.9550\n",
      "Epoch 54/200\n",
      "570/570 [==============================] - ETA: 0s - loss: 0.0167 - accuracy: 0.9966 - auc: 0.9768\n",
      "Epoch 00054: val_loss did not improve from 0.02261\n",
      "570/570 [==============================] - 154s 271ms/step - loss: 0.0167 - accuracy: 0.9966 - auc: 0.9768 - val_loss: 0.0260 - val_accuracy: 0.9950 - val_auc: 0.9557\n",
      "Epoch 55/200\n",
      "570/570 [==============================] - ETA: 0s - loss: 0.0168 - accuracy: 0.9964 - auc: 0.9776\n",
      "Epoch 00055: val_loss did not improve from 0.02261\n",
      "570/570 [==============================] - 155s 273ms/step - loss: 0.0168 - accuracy: 0.9964 - auc: 0.9776 - val_loss: 0.0234 - val_accuracy: 0.9952 - val_auc: 0.9695\n",
      "Epoch 56/200\n",
      "570/570 [==============================] - ETA: 0s - loss: 0.0157 - accuracy: 0.9966 - auc: 0.9801\n",
      "Epoch 00056: val_loss did not improve from 0.02261\n",
      "570/570 [==============================] - 155s 272ms/step - loss: 0.0157 - accuracy: 0.9966 - auc: 0.9801 - val_loss: 0.0231 - val_accuracy: 0.9955 - val_auc: 0.9526\n",
      "Epoch 57/200\n",
      "570/570 [==============================] - ETA: 0s - loss: 0.0141 - accuracy: 0.9970 - auc: 0.9821\n",
      "Epoch 00057: val_loss improved from 0.02261 to 0.02030, saving model to my_checkpoint.ckpt\n",
      "570/570 [==============================] - 155s 271ms/step - loss: 0.0141 - accuracy: 0.9970 - auc: 0.9821 - val_loss: 0.0203 - val_accuracy: 0.9964 - val_auc: 0.9593\n",
      "Epoch 58/200\n",
      "570/570 [==============================] - ETA: 0s - loss: 0.0141 - accuracy: 0.9970 - auc: 0.9826\n",
      "Epoch 00058: val_loss did not improve from 0.02030\n",
      "570/570 [==============================] - 155s 272ms/step - loss: 0.0141 - accuracy: 0.9970 - auc: 0.9826 - val_loss: 0.0238 - val_accuracy: 0.9952 - val_auc: 0.9567\n",
      "Epoch 59/200\n",
      "570/570 [==============================] - ETA: 0s - loss: 0.0138 - accuracy: 0.9970 - auc: 0.9834\n",
      "Epoch 00059: val_loss did not improve from 0.02030\n",
      "570/570 [==============================] - 154s 271ms/step - loss: 0.0138 - accuracy: 0.9970 - auc: 0.9834 - val_loss: 0.0207 - val_accuracy: 0.9960 - val_auc: 0.9643\n",
      "Epoch 60/200\n",
      "570/570 [==============================] - ETA: 0s - loss: 0.0129 - accuracy: 0.9971 - auc: 0.9856\n",
      "Epoch 00060: val_loss did not improve from 0.02030\n",
      "570/570 [==============================] - 155s 272ms/step - loss: 0.0129 - accuracy: 0.9971 - auc: 0.9856 - val_loss: 0.0206 - val_accuracy: 0.9960 - val_auc: 0.9640\n",
      "Epoch 61/200\n",
      "570/570 [==============================] - ETA: 0s - loss: 0.0132 - accuracy: 0.9970 - auc: 0.9847\n",
      "Epoch 00061: val_loss did not improve from 0.02030\n",
      "570/570 [==============================] - 155s 272ms/step - loss: 0.0132 - accuracy: 0.9970 - auc: 0.9847 - val_loss: 0.0208 - val_accuracy: 0.9959 - val_auc: 0.9618\n",
      "Epoch 62/200\n",
      "570/570 [==============================] - ETA: 0s - loss: 0.0114 - accuracy: 0.9974 - auc: 0.9875\n",
      "Epoch 00062: val_loss improved from 0.02030 to 0.01777, saving model to my_checkpoint.ckpt\n",
      "570/570 [==============================] - 155s 271ms/step - loss: 0.0114 - accuracy: 0.9974 - auc: 0.9875 - val_loss: 0.0178 - val_accuracy: 0.9965 - val_auc: 0.9687\n",
      "Epoch 63/200\n",
      "570/570 [==============================] - ETA: 0s - loss: 0.0113 - accuracy: 0.9974 - auc: 0.9876\n",
      "Epoch 00063: val_loss did not improve from 0.01777\n",
      "570/570 [==============================] - 155s 271ms/step - loss: 0.0113 - accuracy: 0.9974 - auc: 0.9876 - val_loss: 0.0185 - val_accuracy: 0.9965 - val_auc: 0.9646\n",
      "Epoch 64/200\n",
      "570/570 [==============================] - ETA: 0s - loss: 0.0107 - accuracy: 0.9975 - auc: 0.9880\n",
      "Epoch 00064: val_loss did not improve from 0.01777\n",
      "570/570 [==============================] - 155s 271ms/step - loss: 0.0107 - accuracy: 0.9975 - auc: 0.9880 - val_loss: 0.0178 - val_accuracy: 0.9963 - val_auc: 0.9700\n",
      "Epoch 65/200\n",
      "570/570 [==============================] - ETA: 0s - loss: 0.0103 - accuracy: 0.9975 - auc: 0.9892\n",
      "Epoch 00065: val_loss did not improve from 0.01777\n",
      "570/570 [==============================] - 154s 271ms/step - loss: 0.0103 - accuracy: 0.9975 - auc: 0.9892 - val_loss: 0.0179 - val_accuracy: 0.9967 - val_auc: 0.9688\n",
      "Epoch 66/200\n",
      "570/570 [==============================] - ETA: 0s - loss: 0.0095 - accuracy: 0.9978 - auc: 0.9902\n",
      "Epoch 00066: val_loss did not improve from 0.01777\n",
      "570/570 [==============================] - 154s 271ms/step - loss: 0.0095 - accuracy: 0.9978 - auc: 0.9902 - val_loss: 0.0183 - val_accuracy: 0.9968 - val_auc: 0.9645\n",
      "Epoch 67/200\n",
      "570/570 [==============================] - ETA: 0s - loss: 0.0101 - accuracy: 0.9975 - auc: 0.9890\n",
      "Epoch 00067: val_loss did not improve from 0.01777\n",
      "570/570 [==============================] - 155s 271ms/step - loss: 0.0101 - accuracy: 0.9975 - auc: 0.9890 - val_loss: 0.0199 - val_accuracy: 0.9962 - val_auc: 0.9619\n",
      "Epoch 68/200\n",
      "570/570 [==============================] - ETA: 0s - loss: 0.0084 - accuracy: 0.9980 - auc: 0.9900\n",
      "Epoch 00068: val_loss improved from 0.01777 to 0.01732, saving model to my_checkpoint.ckpt\n",
      "570/570 [==============================] - 154s 271ms/step - loss: 0.0084 - accuracy: 0.9980 - auc: 0.9900 - val_loss: 0.0173 - val_accuracy: 0.9965 - val_auc: 0.9700\n",
      "Epoch 69/200\n",
      "570/570 [==============================] - ETA: 0s - loss: 0.0083 - accuracy: 0.9981 - auc: 0.9909\n",
      "Epoch 00069: val_loss improved from 0.01732 to 0.01713, saving model to my_checkpoint.ckpt\n",
      "570/570 [==============================] - 154s 271ms/step - loss: 0.0083 - accuracy: 0.9981 - auc: 0.9909 - val_loss: 0.0171 - val_accuracy: 0.9967 - val_auc: 0.9695\n",
      "Epoch 70/200\n",
      "570/570 [==============================] - ETA: 0s - loss: 0.0081 - accuracy: 0.9980 - auc: 0.9920\n",
      "Epoch 00070: val_loss did not improve from 0.01713\n",
      "570/570 [==============================] - 155s 271ms/step - loss: 0.0081 - accuracy: 0.9980 - auc: 0.9920 - val_loss: 0.0177 - val_accuracy: 0.9966 - val_auc: 0.9696\n",
      "Epoch 71/200\n",
      "570/570 [==============================] - ETA: 0s - loss: 0.0077 - accuracy: 0.9981 - auc: 0.9921\n",
      "Epoch 00071: val_loss did not improve from 0.01713\n",
      "570/570 [==============================] - 155s 272ms/step - loss: 0.0077 - accuracy: 0.9981 - auc: 0.9921 - val_loss: 0.0173 - val_accuracy: 0.9968 - val_auc: 0.9658\n"
     ]
    },
    {
     "name": "stdout",
     "output_type": "stream",
     "text": [
      "Epoch 72/200\n",
      "570/570 [==============================] - ETA: 0s - loss: 0.0078 - accuracy: 0.9981 - auc: 0.9911\n",
      "Epoch 00072: val_loss did not improve from 0.01713\n",
      "570/570 [==============================] - 155s 271ms/step - loss: 0.0078 - accuracy: 0.9981 - auc: 0.9911 - val_loss: 0.0184 - val_accuracy: 0.9966 - val_auc: 0.9679\n",
      "Epoch 73/200\n",
      "570/570 [==============================] - ETA: 0s - loss: 0.0080 - accuracy: 0.9980 - auc: 0.9909\n",
      "Epoch 00073: val_loss improved from 0.01713 to 0.01532, saving model to my_checkpoint.ckpt\n",
      "570/570 [==============================] - 155s 272ms/step - loss: 0.0080 - accuracy: 0.9980 - auc: 0.9909 - val_loss: 0.0153 - val_accuracy: 0.9971 - val_auc: 0.9715\n",
      "Epoch 74/200\n",
      "570/570 [==============================] - ETA: 0s - loss: 0.0060 - accuracy: 0.9985 - auc: 0.9949\n",
      "Epoch 00074: val_loss did not improve from 0.01532\n",
      "570/570 [==============================] - 155s 272ms/step - loss: 0.0060 - accuracy: 0.9985 - auc: 0.9949 - val_loss: 0.0182 - val_accuracy: 0.9967 - val_auc: 0.9668\n",
      "Epoch 75/200\n",
      "570/570 [==============================] - ETA: 0s - loss: 0.0059 - accuracy: 0.9985 - auc: 0.9941\n",
      "Epoch 00075: val_loss did not improve from 0.01532\n",
      "570/570 [==============================] - 155s 271ms/step - loss: 0.0059 - accuracy: 0.9985 - auc: 0.9941 - val_loss: 0.0176 - val_accuracy: 0.9969 - val_auc: 0.9652\n",
      "Epoch 76/200\n",
      "570/570 [==============================] - ETA: 0s - loss: 0.0065 - accuracy: 0.9984 - auc: 0.9945\n",
      "Epoch 00076: val_loss improved from 0.01532 to 0.01517, saving model to my_checkpoint.ckpt\n",
      "570/570 [==============================] - 155s 272ms/step - loss: 0.0065 - accuracy: 0.9984 - auc: 0.9945 - val_loss: 0.0152 - val_accuracy: 0.9971 - val_auc: 0.9742\n",
      "Epoch 77/200\n",
      "570/570 [==============================] - ETA: 0s - loss: 0.0065 - accuracy: 0.9984 - auc: 0.9933\n",
      "Epoch 00077: val_loss improved from 0.01517 to 0.01397, saving model to my_checkpoint.ckpt\n",
      "570/570 [==============================] - 155s 272ms/step - loss: 0.0065 - accuracy: 0.9984 - auc: 0.9933 - val_loss: 0.0140 - val_accuracy: 0.9973 - val_auc: 0.9779\n",
      "Epoch 78/200\n",
      "570/570 [==============================] - ETA: 0s - loss: 0.0051 - accuracy: 0.9987 - auc: 0.9956\n",
      "Epoch 00078: val_loss did not improve from 0.01397\n",
      "570/570 [==============================] - 155s 271ms/step - loss: 0.0051 - accuracy: 0.9987 - auc: 0.9956 - val_loss: 0.0148 - val_accuracy: 0.9972 - val_auc: 0.9757\n",
      "Epoch 79/200\n",
      "570/570 [==============================] - ETA: 0s - loss: 0.0043 - accuracy: 0.9989 - auc: 0.9960\n",
      "Epoch 00079: val_loss did not improve from 0.01397\n",
      "570/570 [==============================] - 155s 271ms/step - loss: 0.0043 - accuracy: 0.9989 - auc: 0.9960 - val_loss: 0.0165 - val_accuracy: 0.9970 - val_auc: 0.9719\n",
      "Epoch 80/200\n",
      "570/570 [==============================] - ETA: 0s - loss: 0.0048 - accuracy: 0.9988 - auc: 0.9954\n",
      "Epoch 00080: val_loss did not improve from 0.01397\n",
      "570/570 [==============================] - 156s 273ms/step - loss: 0.0048 - accuracy: 0.9988 - auc: 0.9954 - val_loss: 0.0155 - val_accuracy: 0.9973 - val_auc: 0.9735\n",
      "Epoch 81/200\n",
      "570/570 [==============================] - ETA: 0s - loss: 0.0053 - accuracy: 0.9986 - auc: 0.9949\n",
      "Epoch 00081: val_loss did not improve from 0.01397\n",
      "570/570 [==============================] - 155s 271ms/step - loss: 0.0053 - accuracy: 0.9986 - auc: 0.9949 - val_loss: 0.0173 - val_accuracy: 0.9966 - val_auc: 0.9703\n",
      "Epoch 82/200\n",
      "570/570 [==============================] - ETA: 0s - loss: 0.0037 - accuracy: 0.9990 - auc: 0.9968\n",
      "Epoch 00082: val_loss improved from 0.01397 to 0.01394, saving model to my_checkpoint.ckpt\n",
      "570/570 [==============================] - 155s 271ms/step - loss: 0.0037 - accuracy: 0.9990 - auc: 0.9968 - val_loss: 0.0139 - val_accuracy: 0.9974 - val_auc: 0.9769\n",
      "Epoch 83/200\n",
      "570/570 [==============================] - ETA: 0s - loss: 0.0041 - accuracy: 0.9989 - auc: 0.9960\n",
      "Epoch 00083: val_loss did not improve from 0.01394\n",
      "570/570 [==============================] - 155s 271ms/step - loss: 0.0041 - accuracy: 0.9989 - auc: 0.9960 - val_loss: 0.0158 - val_accuracy: 0.9967 - val_auc: 0.9732\n",
      "Epoch 84/200\n",
      "570/570 [==============================] - ETA: 0s - loss: 0.0041 - accuracy: 0.9989 - auc: 0.9968\n",
      "Epoch 00084: val_loss did not improve from 0.01394\n",
      "570/570 [==============================] - 155s 272ms/step - loss: 0.0041 - accuracy: 0.9989 - auc: 0.9968 - val_loss: 0.0143 - val_accuracy: 0.9975 - val_auc: 0.9735\n",
      "Epoch 85/200\n",
      "570/570 [==============================] - ETA: 0s - loss: 0.0035 - accuracy: 0.9991 - auc: 0.9968\n",
      "Epoch 00085: val_loss did not improve from 0.01394\n",
      "570/570 [==============================] - 155s 271ms/step - loss: 0.0035 - accuracy: 0.9991 - auc: 0.9968 - val_loss: 0.0153 - val_accuracy: 0.9975 - val_auc: 0.9723\n",
      "Epoch 86/200\n",
      "570/570 [==============================] - ETA: 0s - loss: 0.0044 - accuracy: 0.9987 - auc: 0.9966\n",
      "Epoch 00086: val_loss did not improve from 0.01394\n",
      "570/570 [==============================] - 155s 271ms/step - loss: 0.0044 - accuracy: 0.9987 - auc: 0.9966 - val_loss: 0.0145 - val_accuracy: 0.9965 - val_auc: 0.9819\n",
      "Epoch 87/200\n",
      "570/570 [==============================] - ETA: 0s - loss: 0.0029 - accuracy: 0.9992 - auc: 0.9976\n",
      "Epoch 00087: val_loss improved from 0.01394 to 0.01223, saving model to my_checkpoint.ckpt\n",
      "570/570 [==============================] - 155s 271ms/step - loss: 0.0029 - accuracy: 0.9992 - auc: 0.9976 - val_loss: 0.0122 - val_accuracy: 0.9977 - val_auc: 0.9793\n",
      "Epoch 88/200\n",
      "570/570 [==============================] - ETA: 0s - loss: 0.0030 - accuracy: 0.9992 - auc: 0.9976\n",
      "Epoch 00088: val_loss did not improve from 0.01223\n",
      "570/570 [==============================] - 155s 271ms/step - loss: 0.0030 - accuracy: 0.9992 - auc: 0.9976 - val_loss: 0.0132 - val_accuracy: 0.9973 - val_auc: 0.9812\n",
      "Epoch 89/200\n",
      "570/570 [==============================] - ETA: 0s - loss: 0.0028 - accuracy: 0.9992 - auc: 0.9982\n",
      "Epoch 00089: val_loss did not improve from 0.01223\n",
      "570/570 [==============================] - 155s 271ms/step - loss: 0.0028 - accuracy: 0.9992 - auc: 0.9982 - val_loss: 0.0127 - val_accuracy: 0.9976 - val_auc: 0.9813\n",
      "Epoch 90/200\n",
      "570/570 [==============================] - ETA: 0s - loss: 0.0033 - accuracy: 0.9991 - auc: 0.9971\n",
      "Epoch 00090: val_loss did not improve from 0.01223\n",
      "570/570 [==============================] - 154s 271ms/step - loss: 0.0033 - accuracy: 0.9991 - auc: 0.9971 - val_loss: 0.0144 - val_accuracy: 0.9974 - val_auc: 0.9755\n",
      "Epoch 91/200\n",
      "570/570 [==============================] - ETA: 0s - loss: 0.0038 - accuracy: 0.9989 - auc: 0.9976\n",
      "Epoch 00091: val_loss did not improve from 0.01223\n",
      "570/570 [==============================] - 155s 271ms/step - loss: 0.0038 - accuracy: 0.9989 - auc: 0.9976 - val_loss: 0.0135 - val_accuracy: 0.9974 - val_auc: 0.9763\n",
      "Epoch 92/200\n",
      "570/570 [==============================] - ETA: 0s - loss: 0.0027 - accuracy: 0.9993 - auc: 0.9981\n",
      "Epoch 00092: val_loss did not improve from 0.01223\n",
      "570/570 [==============================] - 155s 271ms/step - loss: 0.0027 - accuracy: 0.9993 - auc: 0.9981 - val_loss: 0.0138 - val_accuracy: 0.9977 - val_auc: 0.9755\n",
      "Epoch 93/200\n",
      "570/570 [==============================] - ETA: 0s - loss: 0.0022 - accuracy: 0.9994 - auc: 0.9984\n",
      "Epoch 00093: val_loss did not improve from 0.01223\n",
      "570/570 [==============================] - 155s 271ms/step - loss: 0.0022 - accuracy: 0.9994 - auc: 0.9984 - val_loss: 0.0124 - val_accuracy: 0.9979 - val_auc: 0.9807\n",
      "Epoch 94/200\n",
      "570/570 [==============================] - ETA: 0s - loss: 0.0021 - accuracy: 0.9994 - auc: 0.9988\n",
      "Epoch 00094: val_loss did not improve from 0.01223\n",
      "570/570 [==============================] - 155s 272ms/step - loss: 0.0021 - accuracy: 0.9994 - auc: 0.9988 - val_loss: 0.0144 - val_accuracy: 0.9976 - val_auc: 0.9772\n",
      "Epoch 95/200\n",
      "570/570 [==============================] - ETA: 0s - loss: 0.0027 - accuracy: 0.9993 - auc: 0.9985\n",
      "Epoch 00095: val_loss did not improve from 0.01223\n",
      "570/570 [==============================] - 155s 271ms/step - loss: 0.0027 - accuracy: 0.9993 - auc: 0.9985 - val_loss: 0.0155 - val_accuracy: 0.9975 - val_auc: 0.9760\n",
      "Epoch 96/200\n"
     ]
    },
    {
     "name": "stdout",
     "output_type": "stream",
     "text": [
      "570/570 [==============================] - ETA: 0s - loss: 0.0021 - accuracy: 0.9994 - auc: 0.9984\n",
      "Epoch 00096: val_loss did not improve from 0.01223\n",
      "570/570 [==============================] - 155s 272ms/step - loss: 0.0021 - accuracy: 0.9994 - auc: 0.9984 - val_loss: 0.0144 - val_accuracy: 0.9976 - val_auc: 0.9756\n",
      "Epoch 97/200\n",
      "570/570 [==============================] - ETA: 0s - loss: 0.0033 - accuracy: 0.9991 - auc: 0.9978\n",
      "Epoch 00097: val_loss did not improve from 0.01223\n",
      "570/570 [==============================] - 155s 272ms/step - loss: 0.0033 - accuracy: 0.9991 - auc: 0.9978 - val_loss: 0.0139 - val_accuracy: 0.9977 - val_auc: 0.9768\n"
     ]
    }
   ],
   "source": [
    "callback = tf.keras.callbacks.EarlyStopping(monitor='loss', patience=EARLY_STOP)\n",
    "history = model.fit(X_train, y_train, validation_data=(X_vali, y_vali), epochs=EPOCHS, callbacks=[callback, checkpoint], batch_size=BATCH)"
   ]
  },
  {
   "cell_type": "code",
   "execution_count": 20,
   "metadata": {
    "ExecuteTime": {
     "end_time": "2021-01-23T14:32:51.832159Z",
     "start_time": "2021-01-23T14:32:51.579480Z"
    }
   },
   "outputs": [
    {
     "data": {
      "text/plain": [
       "<tensorflow.python.training.tracking.util.CheckpointLoadStatus at 0x296cac83988>"
      ]
     },
     "execution_count": 20,
     "metadata": {},
     "output_type": "execute_result"
    }
   ],
   "source": [
    "model.load_weights(checkpoint_path)"
   ]
  },
  {
   "cell_type": "code",
   "execution_count": 21,
   "metadata": {
    "ExecuteTime": {
     "end_time": "2021-01-23T14:32:51.998609Z",
     "start_time": "2021-01-23T14:32:51.834088Z"
    }
   },
   "outputs": [],
   "source": [
    "import seaborn as sns\n",
    "import matplotlib.pyplot as plt\n",
    "from sklearn import metrics"
   ]
  },
  {
   "cell_type": "code",
   "execution_count": 22,
   "metadata": {
    "ExecuteTime": {
     "end_time": "2021-01-23T14:32:52.164449Z",
     "start_time": "2021-01-23T14:32:51.999610Z"
    }
   },
   "outputs": [
    {
     "data": {
      "image/png": "[encoded data removed]",
      "text/plain": [
       "<Figure size 432x288 with 1 Axes>"
      ]
     },
     "metadata": {
      "needs_background": "light"
     },
     "output_type": "display_data"
    }
   ],
   "source": [
    "plt.plot(history.history['loss'], label='train loss')\n",
    "plt.plot(history.history['val_loss'], label='valid loss')\n",
    "plt.legend()\n",
    "plt.xlabel('Epoch', fontsize=12)\n",
    "plt.ylabel('loss', fontsize=12)\n",
    "# plt.yscale(\"logit\")\n",
    "plt.title(\"loss value graph\", fontsize=14)\n",
    "plt.show()"
   ]
  },
  {
   "cell_type": "code",
   "execution_count": 23,
   "metadata": {
    "ExecuteTime": {
     "end_time": "2021-01-23T14:32:52.179399Z",
     "start_time": "2021-01-23T14:32:52.165431Z"
    }
   },
   "outputs": [],
   "source": [
    "# roc_curve_multiclass(model, X_test, y_test)"
   ]
  },
  {
   "cell_type": "code",
   "execution_count": 24,
   "metadata": {
    "ExecuteTime": {
     "end_time": "2021-01-23T14:33:45.445454Z",
     "start_time": "2021-01-23T14:32:52.180359Z"
    }
   },
   "outputs": [],
   "source": [
    "y_pred_ = model.predict(X_test)"
   ]
  },
  {
   "cell_type": "code",
   "execution_count": 25,
   "metadata": {
    "ExecuteTime": {
     "end_time": "2021-01-23T14:33:45.595416Z",
     "start_time": "2021-01-23T14:33:45.446454Z"
    }
   },
   "outputs": [],
   "source": [
    "y_pred = []\n",
    "for i in y_pred_:\n",
    "    if i > 0.5:\n",
    "        y_pred.append(1)\n",
    "    else:\n",
    "        y_pred.append(0)"
   ]
  },
  {
   "cell_type": "code",
   "execution_count": 26,
   "metadata": {
    "ExecuteTime": {
     "end_time": "2021-01-23T14:33:45.701449Z",
     "start_time": "2021-01-23T14:33:45.598070Z"
    }
   },
   "outputs": [],
   "source": [
    "conf_matrix = metrics.confusion_matrix(y_test, y_pred)"
   ]
  },
  {
   "cell_type": "code",
   "execution_count": 27,
   "metadata": {
    "ExecuteTime": {
     "end_time": "2021-01-23T14:33:45.821088Z",
     "start_time": "2021-01-23T14:33:45.702309Z"
    }
   },
   "outputs": [
    {
     "data": {
      "image/png": "[encoded data removed]",
      "text/plain": [
       "<Figure size 360x360 with 2 Axes>"
      ]
     },
     "metadata": {
      "needs_background": "light"
     },
     "output_type": "display_data"
    }
   ],
   "source": [
    "LABELS = ['Normal', 'Attack']\n",
    "plt.figure(figsize=(5, 5))\n",
    "sns.heatmap(conf_matrix, xticklabels=LABELS, yticklabels=LABELS, annot=True, fmt='d')\n",
    "plt.title('Confusion Matrix')\n",
    "plt.xlabel('Predicted Class'); plt.ylabel('True Class')\n",
    "plt.show()"
   ]
  },
  {
   "cell_type": "code",
   "execution_count": 28,
   "metadata": {
    "ExecuteTime": {
     "end_time": "2021-01-23T14:33:45.851008Z",
     "start_time": "2021-01-23T14:33:45.822087Z"
    }
   },
   "outputs": [],
   "source": [
    "false_pos_rate, true_pos_rate, thresholds = metrics.roc_curve(y_test, y_pred_)\n",
    "roc_auc = metrics.auc(false_pos_rate, true_pos_rate,)"
   ]
  },
  {
   "cell_type": "code",
   "execution_count": 29,
   "metadata": {
    "ExecuteTime": {
     "end_time": "2021-01-23T14:33:45.955964Z",
     "start_time": "2021-01-23T14:33:45.852006Z"
    }
   },
   "outputs": [
    {
     "data": {
      "image/png": "[encoded data removed]",
      "text/plain": [
       "<Figure size 432x288 with 1 Axes>"
      ]
     },
     "metadata": {
      "needs_background": "light"
     },
     "output_type": "display_data"
    }
   ],
   "source": [
    "plt.plot(false_pos_rate, true_pos_rate, linewidth=2, label='AUC = %0.3f'% roc_auc)\n",
    "plt.plot([0,1],[0,1], linewidth=2)\n",
    "\n",
    "plt.xlim([-0.01, 1])\n",
    "plt.ylim([0, 1.01])\n",
    "plt.legend(loc='lower right')\n",
    "plt.title('Receiver operating characteristic curve (ROC)')\n",
    "plt.ylabel('True Positive Rate'); plt.xlabel('False Positive Rate')\n",
    "plt.show()"
   ]
  },
  {
   "cell_type": "code",
   "execution_count": 30,
   "metadata": {
    "ExecuteTime": {
     "end_time": "2021-01-23T14:35:34.127738Z",
     "start_time": "2021-01-23T14:35:34.111750Z"
    }
   },
   "outputs": [
    {
     "data": {
      "text/plain": [
       "0.9093090211132437"
      ]
     },
     "execution_count": 30,
     "metadata": {},
     "output_type": "execute_result"
    }
   ],
   "source": [
    "Recall = conf_matrix[1][1]/(np.sum(conf_matrix[1]))\n",
    "Recall"
   ]
  },
  {
   "cell_type": "code",
   "execution_count": 31,
   "metadata": {
    "ExecuteTime": {
     "end_time": "2021-01-23T14:35:37.748031Z",
     "start_time": "2021-01-23T14:35:37.743045Z"
    }
   },
   "outputs": [
    {
     "data": {
      "text/plain": [
       "0.9869791666666666"
      ]
     },
     "execution_count": 31,
     "metadata": {},
     "output_type": "execute_result"
    }
   ],
   "source": [
    "Precision = conf_matrix[1][1]/(conf_matrix[1][1]+conf_matrix[0][1])\n",
    "Precision"
   ]
  },
  {
   "cell_type": "code",
   "execution_count": 32,
   "metadata": {
    "ExecuteTime": {
     "end_time": "2021-01-23T14:35:40.662709Z",
     "start_time": "2021-01-23T14:35:40.649715Z"
    }
   },
   "outputs": [
    {
     "data": {
      "text/plain": [
       "0.9465534465534465"
      ]
     },
     "execution_count": 32,
     "metadata": {},
     "output_type": "execute_result"
    }
   ],
   "source": [
    "F1_Score = 2*(Recall*Precision)/(Recall+Precision)\n",
    "F1_Score"
   ]
  },
  {
   "cell_type": "code",
   "execution_count": null,
   "metadata": {},
   "outputs": [],
   "source": []
  }
 ],
 "metadata": {
  "kernelspec": {
   "display_name": "tf2.3",
   "language": "python",
   "name": "tf2.3"
  },
  "language_info": {
   "codemirror_mode": {
    "name": "ipython",
    "version": 3
   },
   "file_extension": ".py",
   "mimetype": "text/x-python",
   "name": "python",
   "nbconvert_exporter": "python",
   "pygments_lexer": "ipython3",
   "version": "3.7.9"
  },
  "toc": {
   "base_numbering": 1,
   "nav_menu": {},
   "number_sections": true,
   "sideBar": true,
   "skip_h1_title": false,
   "title_cell": "Table of Contents",
   "title_sidebar": "Contents",
   "toc_cell": false,
   "toc_position": {},
   "toc_section_display": true,
   "toc_window_display": false
  }
 },
 "nbformat": 4,
 "nbformat_minor": 4
}
