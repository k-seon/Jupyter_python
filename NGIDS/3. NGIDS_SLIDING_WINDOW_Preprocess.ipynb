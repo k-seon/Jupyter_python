{
 "cells": [
  {
   "cell_type": "code",
   "execution_count": 1,
   "metadata": {
    "ExecuteTime": {
     "end_time": "2021-01-23T10:05:02.057388Z",
     "start_time": "2021-01-23T10:05:01.599529Z"
    }
   },
   "outputs": [],
   "source": [
    "import pandas as pd\n",
    "import numpy as np\n",
    "import matplotlib.pyplot as plt"
   ]
  },
  {
   "cell_type": "code",
   "execution_count": 2,
   "metadata": {
    "ExecuteTime": {
     "end_time": "2021-01-23T10:06:13.015687Z",
     "start_time": "2021-01-23T10:05:02.059503Z"
    }
   },
   "outputs": [],
   "source": [
    "NGIDS = pd.read_csv(\"./NGIDS_host_log.csv\")"
   ]
  },
  {
   "cell_type": "code",
   "execution_count": 3,
   "metadata": {
    "ExecuteTime": {
     "end_time": "2021-01-23T10:06:13.022272Z",
     "start_time": "2021-01-23T10:06:13.018236Z"
    }
   },
   "outputs": [],
   "source": [
    "def vc_mapping(DF, column, start=1):\n",
    "    df_tmp = DF\n",
    "    tmp = DF[column].value_counts().index\n",
    "    print(column, len(tmp))\n",
    "    dict_tmp = dict()\n",
    "    for i, t in enumerate(tmp):\n",
    "        dict_tmp[t] = i+start\n",
    "    DF[column] = DF[column].map(dict_tmp)\n",
    "    return DF, len(tmp)"
   ]
  },
  {
   "cell_type": "code",
   "execution_count": 4,
   "metadata": {
    "ExecuteTime": {
     "end_time": "2021-01-23T10:06:34.625759Z",
     "start_time": "2021-01-23T10:06:13.023827Z"
    }
   },
   "outputs": [
    {
     "name": "stdout",
     "output_type": "stream",
     "text": [
      "date_time 367290\n",
      "path 100\n",
      "sys_call 122\n",
      "pro_id 5576\n"
     ]
    }
   ],
   "source": [
    "NGIDS, date_len = vc_mapping(NGIDS, \"date_time\")\n",
    "NGIDS, path_len = vc_mapping(NGIDS, \"path\")\n",
    "NGIDS, sys_len = vc_mapping(NGIDS, \"sys_call\")\n",
    "NGIDS, pro_len = vc_mapping(NGIDS, \"pro_id\")\n",
    "# NGIDS = vc_mapping(NGIDS, \"attack_subcat\")"
   ]
  },
  {
   "cell_type": "code",
   "execution_count": 5,
   "metadata": {
    "ExecuteTime": {
     "end_time": "2021-01-23T10:06:35.626724Z",
     "start_time": "2021-01-23T10:06:34.627191Z"
    }
   },
   "outputs": [],
   "source": [
    "DT_VC = NGIDS['date_time'].value_counts()"
   ]
  },
  {
   "cell_type": "code",
   "execution_count": 6,
   "metadata": {
    "ExecuteTime": {
     "end_time": "2021-01-23T10:06:35.635491Z",
     "start_time": "2021-01-23T10:06:35.628222Z"
    }
   },
   "outputs": [
    {
     "data": {
      "text/plain": [
       "1         2257\n",
       "2         2238\n",
       "3         1810\n",
       "4         1792\n",
       "5         1711\n",
       "          ... \n",
       "367121       1\n",
       "365407       1\n",
       "365404       1\n",
       "367122       1\n",
       "366738       1\n",
       "Name: date_time, Length: 367290, dtype: int64"
      ]
     },
     "execution_count": 6,
     "metadata": {},
     "output_type": "execute_result"
    }
   ],
   "source": [
    "DT_VC"
   ]
  },
  {
   "cell_type": "code",
   "execution_count": 7,
   "metadata": {
    "ExecuteTime": {
     "end_time": "2021-01-23T10:06:35.641849Z",
     "start_time": "2021-01-23T10:06:35.636750Z"
    }
   },
   "outputs": [],
   "source": [
    "tmp = [72, 113, 135, 162, 198, 371, 387]"
   ]
  },
  {
   "cell_type": "code",
   "execution_count": 8,
   "metadata": {
    "ExecuteTime": {
     "end_time": "2021-01-23T10:06:42.952573Z",
     "start_time": "2021-01-23T10:06:35.643124Z"
    }
   },
   "outputs": [
    {
     "name": "stdout",
     "output_type": "stream",
     "text": [
      "72  :  360152\n",
      "113  :  358571\n",
      "135  :  298254\n",
      "162  :  223483\n",
      "198  :  199948\n",
      "371  :  80380\n",
      "387  :  46154\n"
     ]
    }
   ],
   "source": [
    "for t in tmp:\n",
    "    print(t,\" : \",sum(DT_VC.values >= t))"
   ]
  },
  {
   "cell_type": "code",
   "execution_count": 9,
   "metadata": {
    "ExecuteTime": {
     "end_time": "2021-01-23T10:06:51.581989Z",
     "start_time": "2021-01-23T10:06:42.954999Z"
    }
   },
   "outputs": [],
   "source": [
    "NGIDS_1 = NGIDS[NGIDS['label']==1]"
   ]
  },
  {
   "cell_type": "code",
   "execution_count": 10,
   "metadata": {
    "ExecuteTime": {
     "end_time": "2021-01-23T10:06:51.598355Z",
     "start_time": "2021-01-23T10:06:51.583979Z"
    }
   },
   "outputs": [],
   "source": [
    "DT_VC_1 = NGIDS_1['date_time'].value_counts()"
   ]
  },
  {
   "cell_type": "code",
   "execution_count": 11,
   "metadata": {
    "ExecuteTime": {
     "end_time": "2021-01-23T10:06:51.603676Z",
     "start_time": "2021-01-23T10:06:51.599672Z"
    }
   },
   "outputs": [
    {
     "data": {
      "text/plain": [
       "84        1017\n",
       "89        1012\n",
       "90        1007\n",
       "101        980\n",
       "123        952\n",
       "          ... \n",
       "366709       1\n",
       "366089       1\n",
       "365154       1\n",
       "365803       1\n",
       "365456       1\n",
       "Name: date_time, Length: 5081, dtype: int64"
      ]
     },
     "execution_count": 11,
     "metadata": {},
     "output_type": "execute_result"
    }
   ],
   "source": [
    "DT_VC_1"
   ]
  },
  {
   "cell_type": "code",
   "execution_count": 12,
   "metadata": {
    "ExecuteTime": {
     "end_time": "2021-01-23T10:06:51.708899Z",
     "start_time": "2021-01-23T10:06:51.604906Z"
    }
   },
   "outputs": [
    {
     "name": "stdout",
     "output_type": "stream",
     "text": [
      "72  :  4964\n",
      "113  :  4942\n",
      "135  :  4073\n",
      "162  :  3064\n",
      "198  :  2721\n",
      "371  :  1110\n",
      "387  :  706\n"
     ]
    }
   ],
   "source": [
    "for t in tmp:\n",
    "    print(t,\" : \",sum(DT_VC_1.values >= t))"
   ]
  },
  {
   "cell_type": "code",
   "execution_count": 13,
   "metadata": {
    "ExecuteTime": {
     "end_time": "2021-01-23T10:06:51.723173Z",
     "start_time": "2021-01-23T10:06:51.710179Z"
    }
   },
   "outputs": [
    {
     "data": {
      "text/html": [
       "<div>\n",
       "<style scoped>\n",
       "    .dataframe tbody tr th:only-of-type {\n",
       "        vertical-align: middle;\n",
       "    }\n",
       "\n",
       "    .dataframe tbody tr th {\n",
       "        vertical-align: top;\n",
       "    }\n",
       "\n",
       "    .dataframe thead th {\n",
       "        text-align: right;\n",
       "    }\n",
       "</style>\n",
       "<table border=\"1\" class=\"dataframe\">\n",
       "  <thead>\n",
       "    <tr style=\"text-align: right;\">\n",
       "      <th></th>\n",
       "      <th>Unnamed: 0</th>\n",
       "      <th>date_time</th>\n",
       "      <th>pro_id</th>\n",
       "      <th>path</th>\n",
       "      <th>sys_call</th>\n",
       "      <th>event_id</th>\n",
       "      <th>attack_cat</th>\n",
       "      <th>attack_subcat</th>\n",
       "      <th>label</th>\n",
       "    </tr>\n",
       "  </thead>\n",
       "  <tbody>\n",
       "    <tr>\n",
       "      <th>0</th>\n",
       "      <td>0</td>\n",
       "      <td>361840</td>\n",
       "      <td>23</td>\n",
       "      <td>15</td>\n",
       "      <td>6</td>\n",
       "      <td>45350</td>\n",
       "      <td>0</td>\n",
       "      <td>0</td>\n",
       "      <td>0</td>\n",
       "    </tr>\n",
       "    <tr>\n",
       "      <th>1</th>\n",
       "      <td>1</td>\n",
       "      <td>361840</td>\n",
       "      <td>32</td>\n",
       "      <td>15</td>\n",
       "      <td>6</td>\n",
       "      <td>45351</td>\n",
       "      <td>0</td>\n",
       "      <td>0</td>\n",
       "      <td>0</td>\n",
       "    </tr>\n",
       "    <tr>\n",
       "      <th>2</th>\n",
       "      <td>2</td>\n",
       "      <td>361840</td>\n",
       "      <td>18</td>\n",
       "      <td>6</td>\n",
       "      <td>6</td>\n",
       "      <td>45353</td>\n",
       "      <td>0</td>\n",
       "      <td>0</td>\n",
       "      <td>0</td>\n",
       "    </tr>\n",
       "    <tr>\n",
       "      <th>3</th>\n",
       "      <td>3</td>\n",
       "      <td>361840</td>\n",
       "      <td>20</td>\n",
       "      <td>16</td>\n",
       "      <td>9</td>\n",
       "      <td>45354</td>\n",
       "      <td>0</td>\n",
       "      <td>0</td>\n",
       "      <td>0</td>\n",
       "    </tr>\n",
       "    <tr>\n",
       "      <th>4</th>\n",
       "      <td>4</td>\n",
       "      <td>361840</td>\n",
       "      <td>17</td>\n",
       "      <td>6</td>\n",
       "      <td>6</td>\n",
       "      <td>45355</td>\n",
       "      <td>0</td>\n",
       "      <td>0</td>\n",
       "      <td>0</td>\n",
       "    </tr>\n",
       "    <tr>\n",
       "      <th>...</th>\n",
       "      <td>...</td>\n",
       "      <td>...</td>\n",
       "      <td>...</td>\n",
       "      <td>...</td>\n",
       "      <td>...</td>\n",
       "      <td>...</td>\n",
       "      <td>...</td>\n",
       "      <td>...</td>\n",
       "      <td>...</td>\n",
       "    </tr>\n",
       "    <tr>\n",
       "      <th>90054234</th>\n",
       "      <td>90054234</td>\n",
       "      <td>360199</td>\n",
       "      <td>2825</td>\n",
       "      <td>23</td>\n",
       "      <td>17</td>\n",
       "      <td>102975641</td>\n",
       "      <td>0</td>\n",
       "      <td>0</td>\n",
       "      <td>0</td>\n",
       "    </tr>\n",
       "    <tr>\n",
       "      <th>90054235</th>\n",
       "      <td>90054235</td>\n",
       "      <td>360199</td>\n",
       "      <td>2825</td>\n",
       "      <td>23</td>\n",
       "      <td>3</td>\n",
       "      <td>102975643</td>\n",
       "      <td>0</td>\n",
       "      <td>0</td>\n",
       "      <td>0</td>\n",
       "    </tr>\n",
       "    <tr>\n",
       "      <th>90054236</th>\n",
       "      <td>90054236</td>\n",
       "      <td>360199</td>\n",
       "      <td>53</td>\n",
       "      <td>26</td>\n",
       "      <td>15</td>\n",
       "      <td>102975644</td>\n",
       "      <td>0</td>\n",
       "      <td>0</td>\n",
       "      <td>0</td>\n",
       "    </tr>\n",
       "    <tr>\n",
       "      <th>90054237</th>\n",
       "      <td>90054237</td>\n",
       "      <td>360199</td>\n",
       "      <td>3</td>\n",
       "      <td>2</td>\n",
       "      <td>4</td>\n",
       "      <td>102975646</td>\n",
       "      <td>0</td>\n",
       "      <td>0</td>\n",
       "      <td>0</td>\n",
       "    </tr>\n",
       "    <tr>\n",
       "      <th>90054238</th>\n",
       "      <td>90054238</td>\n",
       "      <td>360199</td>\n",
       "      <td>4</td>\n",
       "      <td>2</td>\n",
       "      <td>4</td>\n",
       "      <td>102975647</td>\n",
       "      <td>0</td>\n",
       "      <td>0</td>\n",
       "      <td>0</td>\n",
       "    </tr>\n",
       "  </tbody>\n",
       "</table>\n",
       "<p>90054239 rows × 9 columns</p>\n",
       "</div>"
      ],
      "text/plain": [
       "          Unnamed: 0  date_time  pro_id  path  sys_call   event_id  \\\n",
       "0                  0     361840      23    15         6      45350   \n",
       "1                  1     361840      32    15         6      45351   \n",
       "2                  2     361840      18     6         6      45353   \n",
       "3                  3     361840      20    16         9      45354   \n",
       "4                  4     361840      17     6         6      45355   \n",
       "...              ...        ...     ...   ...       ...        ...   \n",
       "90054234    90054234     360199    2825    23        17  102975641   \n",
       "90054235    90054235     360199    2825    23         3  102975643   \n",
       "90054236    90054236     360199      53    26        15  102975644   \n",
       "90054237    90054237     360199       3     2         4  102975646   \n",
       "90054238    90054238     360199       4     2         4  102975647   \n",
       "\n",
       "          attack_cat  attack_subcat  label  \n",
       "0                  0              0      0  \n",
       "1                  0              0      0  \n",
       "2                  0              0      0  \n",
       "3                  0              0      0  \n",
       "4                  0              0      0  \n",
       "...              ...            ...    ...  \n",
       "90054234           0              0      0  \n",
       "90054235           0              0      0  \n",
       "90054236           0              0      0  \n",
       "90054237           0              0      0  \n",
       "90054238           0              0      0  \n",
       "\n",
       "[90054239 rows x 9 columns]"
      ]
     },
     "execution_count": 13,
     "metadata": {},
     "output_type": "execute_result"
    }
   ],
   "source": [
    "NGIDS"
   ]
  },
  {
   "cell_type": "code",
   "execution_count": 14,
   "metadata": {
    "ExecuteTime": {
     "end_time": "2021-01-23T10:06:51.726446Z",
     "start_time": "2021-01-23T10:06:51.724426Z"
    }
   },
   "outputs": [],
   "source": [
    "from collections import Counter\n",
    "from IPython.display import display, clear_output"
   ]
  },
  {
   "cell_type": "code",
   "execution_count": 15,
   "metadata": {
    "ExecuteTime": {
     "end_time": "2021-01-11T22:23:30.991444Z",
     "start_time": "2021-01-11T22:23:30.989408Z"
    }
   },
   "outputs": [],
   "source": [
    "# NGIDS = NGIDS[40000367:]"
   ]
  },
  {
   "cell_type": "code",
   "execution_count": 15,
   "metadata": {
    "ExecuteTime": {
     "end_time": "2021-01-23T10:06:52.334175Z",
     "start_time": "2021-01-23T10:06:52.122805Z"
    }
   },
   "outputs": [],
   "source": [
    "DATE_TIME = NGIDS[\"date_time\"].values.astype(\"int32\")\n",
    "ATTACK_CAT = NGIDS[\"attack_cat\"].values.astype(\"int16\")\n",
    "# ATTACK_SUBCAT = NGIDS[\"attack_subcat\"].values.astype(\"int16\")\n",
    "# PATH = NGIDS[\"path\"].values.astype(\"int16\")\n",
    "# SYS_CALL = NGIDS[\"sys_call\"].values.astype(\"int16\")"
   ]
  },
  {
   "cell_type": "code",
   "execution_count": 16,
   "metadata": {
    "ExecuteTime": {
     "end_time": "2021-01-23T10:09:44.152613Z",
     "start_time": "2021-01-23T10:06:52.363909Z"
    }
   },
   "outputs": [
    {
     "name": "stdout",
     "output_type": "stream",
     "text": [
      "1670\n"
     ]
    }
   ],
   "source": [
    "PS_V = NGIDS[[\"path\", \"sys_call\"]].values\n",
    "PS_DD_V = NGIDS[[\"path\", \"sys_call\"]].drop_duplicates().values\n",
    "\n",
    "PS_DICT = dict()\n",
    "for i, V in enumerate(PS_DD_V):\n",
    "    PS_DICT[tuple(V)] = i+1\n",
    "print(len(PS_DICT))\n",
    "\n",
    "PS = np.zeros(len(PS_V))\n",
    "for i, V in enumerate(PS_V):\n",
    "    PS[i] = PS_DICT[tuple(V)]\n",
    "\n",
    "del PS_V, PS_DD_V, PS_DICT"
   ]
  },
  {
   "cell_type": "code",
   "execution_count": 17,
   "metadata": {
    "ExecuteTime": {
     "end_time": "2021-01-23T10:09:44.587196Z",
     "start_time": "2021-01-23T10:09:44.194767Z"
    }
   },
   "outputs": [],
   "source": [
    "PS = PS.astype(\"int16\")"
   ]
  },
  {
   "cell_type": "code",
   "execution_count": 18,
   "metadata": {
    "ExecuteTime": {
     "end_time": "2021-01-23T10:09:44.620106Z",
     "start_time": "2021-01-23T10:09:44.618224Z"
    }
   },
   "outputs": [],
   "source": [
    "del NGIDS"
   ]
  },
  {
   "cell_type": "code",
   "execution_count": 19,
   "metadata": {
    "ExecuteTime": {
     "end_time": "2021-01-23T10:09:44.644543Z",
     "start_time": "2021-01-23T10:09:44.642263Z"
    }
   },
   "outputs": [],
   "source": [
    "def most_com(list):\n",
    "    return Counter(list).most_common(n=1)[0][0]"
   ]
  },
  {
   "cell_type": "code",
   "execution_count": 20,
   "metadata": {
    "ExecuteTime": {
     "end_time": "2021-01-23T10:09:44.669908Z",
     "start_time": "2021-01-23T10:09:44.666765Z"
    }
   },
   "outputs": [],
   "source": [
    "def sliding_window_arr(vecs, Arr, window=5, jump=10):\n",
    "    Arr_len = len(Arr)\n",
    "    y_len = int(((Arr_len-window)/jump) + 1)\n",
    "    res = vecs\n",
    "    for i in range(y_len):\n",
    "        res.append(Arr[i*jump:i*jump + window])\n",
    "    return res, y_len"
   ]
  },
  {
   "cell_type": "code",
   "execution_count": 21,
   "metadata": {
    "ExecuteTime": {
     "end_time": "2021-01-23T10:09:44.694807Z",
     "start_time": "2021-01-23T10:09:44.691930Z"
    }
   },
   "outputs": [],
   "source": [
    "def padding(re, len_tmp, cut):\n",
    "    re = np.array(re)\n",
    "    if len_tmp>=cut:\n",
    "        re = re[:cut]\n",
    "    else:\n",
    "        tmp = np.zeros(cut)\n",
    "        tmp[:len(re)] = re\n",
    "        re = tmp\n",
    "    return re"
   ]
  },
  {
   "cell_type": "code",
   "execution_count": 22,
   "metadata": {
    "ExecuteTime": {
     "end_time": "2021-01-23T10:09:44.723729Z",
     "start_time": "2021-01-23T10:09:44.716681Z"
    }
   },
   "outputs": [],
   "source": [
    "def make_SW_vector(WINDOW, JUMP_1, JUMP_0):\n",
    "    vecs_PS = []\n",
    "    atcas = []\n",
    "    start = 0\n",
    "    end = 0\n",
    "    check = DATE_TIME[0]\n",
    "    for i, DT in enumerate(DATE_TIME):\n",
    "        if (check != DT) | (i == (len(DATE_TIME) - 1)):\n",
    "            check = DT\n",
    "            end = i\n",
    "            len_tmp = end-start\n",
    "\n",
    "            l_val = most_com(ATTACK_CAT[start:end])\n",
    "            if l_val!=(np.mean(ATTACK_CAT[start:end])):\n",
    "                print(\"ATTACK_CAT_ERR!!\", DT)\n",
    "                break\n",
    "\n",
    "            if len_tmp < WINDOW:\n",
    "#                 vecs_sys_call.append(padding(SYS_CALL[start:end], len_tmp, WINDOW))\n",
    "#                 vecs_path.append(padding(PATH[start:end], len_tmp, WINDOW))\n",
    "#                 atcas.append(l_val)\n",
    "                start = i\n",
    "                continue\n",
    "\n",
    "            if l_val != 0:\n",
    "                vecs_PS, y_len = sliding_window_arr(vecs_PS, PS[start:end], WINDOW, JUMP_1)\n",
    "            else:\n",
    "                vecs_PS, y_len = sliding_window_arr(vecs_PS, PS[start:end], WINDOW, JUMP_0)\n",
    "\n",
    "            for v in range(y_len):\n",
    "                atcas.append(l_val)\n",
    "\n",
    "            start = i\n",
    "        if i%1000000 == 0:\n",
    "            print(\"processing...\",i, JUMP_1)\n",
    "            clear_output(wait=True)\n",
    "    \n",
    "    col = []\n",
    "    for i in range(WINDOW):\n",
    "        col.append(\"sys\"+str(i+1))\n",
    "    vecs_PS = pd.DataFrame(vecs_PS, columns=col)\n",
    "\n",
    "    vecs_PS[\"attack_cat\"] = atcas\n",
    "    vecs_PS = vecs_PS.drop_duplicates()\n",
    "    return vecs_PS"
   ]
  },
  {
   "cell_type": "code",
   "execution_count": 24,
   "metadata": {
    "ExecuteTime": {
     "end_time": "2021-01-11T22:42:04.258131Z",
     "start_time": "2021-01-11T22:24:59.597858Z"
    }
   },
   "outputs": [
    {
     "name": "stdout",
     "output_type": "stream",
     "text": [
      "processing... 50000000 8\n"
     ]
    }
   ],
   "source": [
    "for t in [135, 162]:\n",
    "    file_name = \"./NGIDS_PAT_sliding_\"+str(int(t))+\"_\"+str(8)+\"_2.csv\"\n",
    "    make_SW_vector(t, 8, 8).to_csv(file_name, index=False)"
   ]
  }
 ],
 "metadata": {
  "kernelspec": {
   "display_name": "Python 3",
   "language": "python",
   "name": "python3"
  },
  "language_info": {
   "codemirror_mode": {
    "name": "ipython",
    "version": 3
   },
   "file_extension": ".py",
   "mimetype": "text/x-python",
   "name": "python",
   "nbconvert_exporter": "python",
   "pygments_lexer": "ipython3",
   "version": "3.8.5"
  },
  "toc": {
   "base_numbering": 1,
   "nav_menu": {},
   "number_sections": true,
   "sideBar": true,
   "skip_h1_title": false,
   "title_cell": "Table of Contents",
   "title_sidebar": "Contents",
   "toc_cell": false,
   "toc_position": {},
   "toc_section_display": true,
   "toc_window_display": false
  },
  "varInspector": {
   "cols": {
    "lenName": 16,
    "lenType": 16,
    "lenVar": 40
   },
   "kernels_config": {
    "python": {
     "delete_cmd_postfix": "",
     "delete_cmd_prefix": "del ",
     "library": "var_list.py",
     "varRefreshCmd": "print(var_dic_list())"
    },
    "r": {
     "delete_cmd_postfix": ") ",
     "delete_cmd_prefix": "rm(",
     "library": "var_list.r",
     "varRefreshCmd": "cat(var_dic_list()) "
    }
   },
   "types_to_exclude": [
    "module",
    "function",
    "builtin_function_or_method",
    "instance",
    "_Feature"
   ],
   "window_display": false
  }
 },
 "nbformat": 4,
 "nbformat_minor": 4
}
