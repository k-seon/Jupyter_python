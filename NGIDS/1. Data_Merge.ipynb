{
 "cells": [
  {
   "cell_type": "code",
   "execution_count": 1,
   "metadata": {},
   "outputs": [],
   "source": [
    "import pandas as pd\n",
    "from datetime import datetime, timedelta"
   ]
  },
  {
   "cell_type": "markdown",
   "metadata": {},
   "source": [
    "## Data Load"
   ]
  },
  {
   "cell_type": "code",
   "execution_count": 2,
   "metadata": {},
   "outputs": [],
   "source": [
    "data = pd.DataFrame(columns=[\"date\", \"time\", \"pro_id\", \"path\", \"sys_call\", \"event_id\", \"attack_cat\", \"attack_subcat\", \"label\"])\n",
    "for i in range(1,100):\n",
    "    tmp=pd.read_csv(\"./host_log/\"+str(i)+\".csv\", names=[\"date\", \"time\", \"pro_id\", \"path\", \"sys_call\", \"event_id\", \"attack_cat\", \"attack_subcat\", \"label\"])\n",
    "    data = data.append(tmp)"
   ]
  },
  {
   "cell_type": "code",
   "execution_count": 3,
   "metadata": {},
   "outputs": [],
   "source": [
    "def re_index(df):\n",
    "    tmp = df.reset_index()\n",
    "    tmp = tmp.drop(tmp.columns[0], axis=1)\n",
    "    return tmp"
   ]
  },
  {
   "cell_type": "code",
   "execution_count": 4,
   "metadata": {},
   "outputs": [],
   "source": [
    "data = re_index(data)"
   ]
  },
  {
   "cell_type": "markdown",
   "metadata": {},
   "source": [
    "## Data preprocessor"
   ]
  },
  {
   "cell_type": "code",
   "execution_count": 5,
   "metadata": {},
   "outputs": [],
   "source": [
    "def make_datetime(string_date, string_time):\n",
    "    date = string_date.split(\"/\")\n",
    "    time = string_time.split(\":\")\n",
    "    return datetime(int(date[2]),int(date[1]),int(date[0]),int(time[0]),int(time[1]),int(time[2]))"
   ]
  },
  {
   "cell_type": "code",
   "execution_count": 6,
   "metadata": {},
   "outputs": [],
   "source": [
    "date_time = []\n",
    "for i in range(data.shape[0]):\n",
    "    date_time.append(make_datetime(data.loc[i,data.columns[0]], data.loc[i,data.columns[1]]))"
   ]
  },
  {
   "cell_type": "code",
   "execution_count": 7,
   "metadata": {},
   "outputs": [],
   "source": [
    "data.insert(0, \"date_time\", date_time)\n",
    "data = data.drop(\"date\",axis=1)\n",
    "data = data.drop(\"time\",axis=1)"
   ]
  },
  {
   "cell_type": "code",
   "execution_count": 8,
   "metadata": {},
   "outputs": [],
   "source": [
    "data = data.sort_values(by=[\"date_time\", \"event_id\"], axis=0)\n",
    "data = re_index(data)\n",
    "mapping_data = data"
   ]
  },
  {
   "cell_type": "code",
   "execution_count": 9,
   "metadata": {},
   "outputs": [],
   "source": [
    "cat_mapping = {\"normal\":0, \"Exploits\":1, \"Denial of Service\":2, \"Backdoors\":3, \"Generic\":4, \"Shellcode\":5, \"Worms\":6, \"Reconnaissance\":7}\n",
    "mapping_data[\"attack_cat\"] = mapping_data[\"attack_cat\"].map(cat_mapping)"
   ]
  },
  {
   "cell_type": "code",
   "execution_count": 10,
   "metadata": {},
   "outputs": [
    {
     "data": {
      "text/plain": [
       "normal                                          88791812\n",
       "Office Document Batch                             276578\n",
       "Browser                                           152319\n",
       " Clientside                                       102893\n",
       " IXIA Batch                                        79624\n",
       "Clientside Microsoft Office Batch                  71920\n",
       " Clientside Microsoft Paint                        71869\n",
       "All Batch                                          70712\n",
       "Browser FTP Batch                                  48994\n",
       "Linux Batch                                        44245\n",
       "Microsoft Office Batch                             38646\n",
       "Miscellaneous Batch                                35779\n",
       " Microsoft IIS Batch                               33509\n",
       "Browser Batch                                      26935\n",
       " SMB Batch                                         23225\n",
       " Clientside Microsoft Office Batch                 21470\n",
       " Browser                                           17271\n",
       " NetBIOS/SMB Batch                                 16823\n",
       "All Batch                                          14125\n",
       "Multiple OS Batch                                  13018\n",
       "IIS Web Server                                     12277\n",
       " Miscellaneous Batch                               12141\n",
       " FrontPage HTTP Batch                               9515\n",
       "DCERPC Batch                                        7880\n",
       "Windows Explorer                                    7792\n",
       " Web Application Cross-Site Scripting Batch         5549\n",
       "Microsoft IIS                                       3879\n",
       "All                                                 3761\n",
       "SMTP Batch                                          3553\n",
       " LDAP                                               3461\n",
       "HTTP                                                3129\n",
       "Microsoft IIS Batch                                 2778\n",
       " ICMP                                               2661\n",
       " Hypervisor                                         2604\n",
       "TCP                                                 2300\n",
       "Backup Appliance                                    2158\n",
       "FTP                                                 2107\n",
       " SMTP                                               1638\n",
       " Browser FTP Batch                                  1396\n",
       "NNTP                                                1378\n",
       "RDesktop                                            1301\n",
       "WINS                                                1290\n",
       " TFTP                                               1100\n",
       "FrontPage HTTP Batch                                 917\n",
       " DNS                                                 781\n",
       "SNMP                                                 753\n",
       "TFTP                                                 735\n",
       " POP3                                                732\n",
       " Webserver                                           701\n",
       " PPTP                                                686\n",
       " DCERPC                                              654\n",
       " MSSQL                                               607\n",
       "Microsoft IIS HTTP 200/200+A308969                   258\n",
       "Name: attack_subcat, dtype: int64"
      ]
     },
     "execution_count": 10,
     "metadata": {},
     "output_type": "execute_result"
    }
   ],
   "source": [
    "mapping_data[\"attack_subcat\"].value_counts()"
   ]
  },
  {
   "cell_type": "code",
   "execution_count": 11,
   "metadata": {},
   "outputs": [],
   "source": [
    "subcat_mapping = {\"normal\":0, \"Office Document Batch\":1, \"Browser\":2, \" Clientside\":3, \" IXIA Batch\":4, \"Clientside Microsoft Office Batch\":5, \" Clientside Microsoft Paint\":6, \"All Batch\":7, \"Browser FTP Batch\":8, \"Linux Batch\":9, \"Microsoft Office Batch\":10, \"Miscellaneous Batch\":11, \" Microsoft IIS Batch\":12, \"Browser Batch\":13, \" SMB Batch\":14, \" Clientside Microsoft Office Batch\":15, \" Browser\":16, \" NetBIOS/SMB Batch\":17, \"All Batch\":18, \"Multiple OS Batch\":19, \"IIS Web Server\":20, \" Miscellaneous Batch\":21, \" FrontPage HTTP Batch\":22, \"DCERPC Batch\":23, \"Windows Explorer\":24, \" Web Application Cross-Site Scripting Batch\":25, \"Microsoft IIS\":26, \"All\":27, \"SMTP Batch\":28, \" LDAP\":29, \"HTTP\":30, \"Microsoft IIS Batch\":31, \" ICMP\":32, \" Hypervisor\":33, \"TCP\":34, \"Backup Appliance\":35, \"FTP\":36, \" SMTP\":37, \" Browser FTP Batch\":38, \"NNTP\":39, \"RDesktop\":40, \"WINS\":41, \" TFTP\":42, \"FrontPage HTTP Batch\":43, \" DNS\":44, \"SNMP \":45, \"TFTP \":46, \" POP3\":47, \" Webserver\":48, \" PPTP\":49, \" DCERPC\":50, \" MSSQL\":51, \"Microsoft IIS HTTP 200/200+A308969\":52}\n",
    "mapping_data[\"attack_subcat\"] = mapping_data[\"attack_subcat\"].map(subcat_mapping)"
   ]
  },
  {
   "cell_type": "code",
   "execution_count": 12,
   "metadata": {},
   "outputs": [
    {
     "data": {
      "text/plain": [
       "0.0     88791812\n",
       "1.0       276578\n",
       "2.0       152319\n",
       "3.0       102893\n",
       "4.0        79624\n",
       "5.0        71920\n",
       "6.0        71869\n",
       "18.0       70712\n",
       "9.0        44245\n",
       "10.0       38646\n",
       "11.0       35779\n",
       "12.0       33509\n",
       "13.0       26935\n",
       "14.0       23225\n",
       "15.0       21470\n",
       "16.0       17271\n",
       "20.0       12277\n",
       "21.0       12141\n",
       "22.0        9515\n",
       "23.0        7880\n",
       "24.0        7792\n",
       "27.0        3761\n",
       "28.0        3553\n",
       "30.0        3129\n",
       "32.0        2661\n",
       "33.0        2604\n",
       "34.0        2300\n",
       "35.0        2158\n",
       "36.0        2107\n",
       "37.0        1638\n",
       "38.0        1396\n",
       "39.0        1378\n",
       "41.0        1290\n",
       "42.0        1100\n",
       "43.0         917\n",
       "44.0         781\n",
       "47.0         732\n",
       "48.0         701\n",
       "50.0         654\n",
       "51.0         607\n",
       "52.0         258\n",
       "Name: attack_subcat, dtype: int64"
      ]
     },
     "execution_count": 12,
     "metadata": {},
     "output_type": "execute_result"
    }
   ],
   "source": [
    "mapping_data[\"attack_subcat\"].value_counts()"
   ]
  },
  {
   "cell_type": "code",
   "execution_count": 13,
   "metadata": {},
   "outputs": [],
   "source": [
    "mapping_data.to_csv(\"./NGIDS_host_log.csv\")"
   ]
  },
  {
   "cell_type": "code",
   "execution_count": 14,
   "metadata": {},
   "outputs": [
    {
     "data": {
      "text/html": [
       "<div>\n",
       "<style scoped>\n",
       "    .dataframe tbody tr th:only-of-type {\n",
       "        vertical-align: middle;\n",
       "    }\n",
       "\n",
       "    .dataframe tbody tr th {\n",
       "        vertical-align: top;\n",
       "    }\n",
       "\n",
       "    .dataframe thead th {\n",
       "        text-align: right;\n",
       "    }\n",
       "</style>\n",
       "<table border=\"1\" class=\"dataframe\">\n",
       "  <thead>\n",
       "    <tr style=\"text-align: right;\">\n",
       "      <th></th>\n",
       "      <th>date_time</th>\n",
       "      <th>pro_id</th>\n",
       "      <th>path</th>\n",
       "      <th>sys_call</th>\n",
       "      <th>event_id</th>\n",
       "      <th>attack_cat</th>\n",
       "      <th>attack_subcat</th>\n",
       "      <th>label</th>\n",
       "    </tr>\n",
       "  </thead>\n",
       "  <tbody>\n",
       "    <tr>\n",
       "      <th>0</th>\n",
       "      <td>2016-03-11 02:45:01</td>\n",
       "      <td>1951</td>\n",
       "      <td>/usr/lib/i386-linux-gnu/indicator-datetime/ind...</td>\n",
       "      <td>168</td>\n",
       "      <td>45350</td>\n",
       "      <td>0</td>\n",
       "      <td>0.0</td>\n",
       "      <td>0</td>\n",
       "    </tr>\n",
       "    <tr>\n",
       "      <th>1</th>\n",
       "      <td>2016-03-11 02:45:01</td>\n",
       "      <td>1966</td>\n",
       "      <td>/usr/lib/i386-linux-gnu/indicator-datetime/ind...</td>\n",
       "      <td>168</td>\n",
       "      <td>45351</td>\n",
       "      <td>0</td>\n",
       "      <td>0.0</td>\n",
       "      <td>0</td>\n",
       "    </tr>\n",
       "    <tr>\n",
       "      <th>2</th>\n",
       "      <td>2016-03-11 02:45:01</td>\n",
       "      <td>1885</td>\n",
       "      <td>/usr/lib/unity/unity-panel-service</td>\n",
       "      <td>168</td>\n",
       "      <td>45353</td>\n",
       "      <td>0</td>\n",
       "      <td>0.0</td>\n",
       "      <td>0</td>\n",
       "    </tr>\n",
       "    <tr>\n",
       "      <th>3</th>\n",
       "      <td>2016-03-11 02:45:01</td>\n",
       "      <td>1830</td>\n",
       "      <td>/sbin/upstart-dbus-bridge</td>\n",
       "      <td>142</td>\n",
       "      <td>45354</td>\n",
       "      <td>0</td>\n",
       "      <td>0.0</td>\n",
       "      <td>0</td>\n",
       "    </tr>\n",
       "    <tr>\n",
       "      <th>4</th>\n",
       "      <td>2016-03-11 02:45:01</td>\n",
       "      <td>1872</td>\n",
       "      <td>/usr/lib/unity/unity-panel-service</td>\n",
       "      <td>168</td>\n",
       "      <td>45355</td>\n",
       "      <td>0</td>\n",
       "      <td>0.0</td>\n",
       "      <td>0</td>\n",
       "    </tr>\n",
       "    <tr>\n",
       "      <th>5</th>\n",
       "      <td>2016-03-11 02:45:01</td>\n",
       "      <td>2114</td>\n",
       "      <td>/usr/bin/compiz</td>\n",
       "      <td>168</td>\n",
       "      <td>45357</td>\n",
       "      <td>0</td>\n",
       "      <td>0.0</td>\n",
       "      <td>0</td>\n",
       "    </tr>\n",
       "    <tr>\n",
       "      <th>6</th>\n",
       "      <td>2016-03-11 02:45:06</td>\n",
       "      <td>1804</td>\n",
       "      <td>/bin/dbus-daemon</td>\n",
       "      <td>256</td>\n",
       "      <td>45352</td>\n",
       "      <td>0</td>\n",
       "      <td>0.0</td>\n",
       "      <td>0</td>\n",
       "    </tr>\n",
       "    <tr>\n",
       "      <th>7</th>\n",
       "      <td>2016-03-11 02:45:06</td>\n",
       "      <td>2834</td>\n",
       "      <td>/usr/bin/update-notifier</td>\n",
       "      <td>142</td>\n",
       "      <td>45360</td>\n",
       "      <td>0</td>\n",
       "      <td>0.0</td>\n",
       "      <td>0</td>\n",
       "    </tr>\n",
       "    <tr>\n",
       "      <th>8</th>\n",
       "      <td>2016-03-11 02:45:06</td>\n",
       "      <td>2133</td>\n",
       "      <td>/usr/lib/i386-linux-gnu/gconf/gconfd-2</td>\n",
       "      <td>168</td>\n",
       "      <td>45372</td>\n",
       "      <td>0</td>\n",
       "      <td>0.0</td>\n",
       "      <td>0</td>\n",
       "    </tr>\n",
       "    <tr>\n",
       "      <th>9</th>\n",
       "      <td>2016-03-11 02:45:11</td>\n",
       "      <td>3989</td>\n",
       "      <td>/sbin/auditd</td>\n",
       "      <td>256</td>\n",
       "      <td>45374</td>\n",
       "      <td>0</td>\n",
       "      <td>0.0</td>\n",
       "      <td>0</td>\n",
       "    </tr>\n",
       "  </tbody>\n",
       "</table>\n",
       "</div>"
      ],
      "text/plain": [
       "            date_time pro_id  \\\n",
       "0 2016-03-11 02:45:01   1951   \n",
       "1 2016-03-11 02:45:01   1966   \n",
       "2 2016-03-11 02:45:01   1885   \n",
       "3 2016-03-11 02:45:01   1830   \n",
       "4 2016-03-11 02:45:01   1872   \n",
       "5 2016-03-11 02:45:01   2114   \n",
       "6 2016-03-11 02:45:06   1804   \n",
       "7 2016-03-11 02:45:06   2834   \n",
       "8 2016-03-11 02:45:06   2133   \n",
       "9 2016-03-11 02:45:11   3989   \n",
       "\n",
       "                                                path sys_call event_id  \\\n",
       "0  /usr/lib/i386-linux-gnu/indicator-datetime/ind...      168    45350   \n",
       "1  /usr/lib/i386-linux-gnu/indicator-datetime/ind...      168    45351   \n",
       "2                 /usr/lib/unity/unity-panel-service      168    45353   \n",
       "3                          /sbin/upstart-dbus-bridge      142    45354   \n",
       "4                 /usr/lib/unity/unity-panel-service      168    45355   \n",
       "5                                    /usr/bin/compiz      168    45357   \n",
       "6                                   /bin/dbus-daemon      256    45352   \n",
       "7                           /usr/bin/update-notifier      142    45360   \n",
       "8             /usr/lib/i386-linux-gnu/gconf/gconfd-2      168    45372   \n",
       "9                                       /sbin/auditd      256    45374   \n",
       "\n",
       "   attack_cat  attack_subcat label  \n",
       "0           0            0.0     0  \n",
       "1           0            0.0     0  \n",
       "2           0            0.0     0  \n",
       "3           0            0.0     0  \n",
       "4           0            0.0     0  \n",
       "5           0            0.0     0  \n",
       "6           0            0.0     0  \n",
       "7           0            0.0     0  \n",
       "8           0            0.0     0  \n",
       "9           0            0.0     0  "
      ]
     },
     "execution_count": 14,
     "metadata": {},
     "output_type": "execute_result"
    }
   ],
   "source": [
    "mapping_data.head(10)"
   ]
  }
 ],
 "metadata": {
  "hide_input": false,
  "kernelspec": {
   "display_name": "Python 3",
   "language": "python",
   "name": "python3"
  },
  "language_info": {
   "codemirror_mode": {
    "name": "ipython",
    "version": 3
   },
   "file_extension": ".py",
   "mimetype": "text/x-python",
   "name": "python",
   "nbconvert_exporter": "python",
   "pygments_lexer": "ipython3",
   "version": "3.8.5"
  },
  "toc": {
   "base_numbering": 1,
   "nav_menu": {},
   "number_sections": true,
   "sideBar": true,
   "skip_h1_title": false,
   "title_cell": "Table of Contents",
   "title_sidebar": "Contents",
   "toc_cell": false,
   "toc_position": {},
   "toc_section_display": true,
   "toc_window_display": false
  }
 },
 "nbformat": 4,
 "nbformat_minor": 4
}
