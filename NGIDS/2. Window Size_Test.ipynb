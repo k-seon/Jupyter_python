{
 "cells": [
  {
   "cell_type": "code",
   "execution_count": 1,
   "metadata": {
    "ExecuteTime": {
     "end_time": "2021-01-11T15:44:38.997035Z",
     "start_time": "2021-01-11T15:44:38.810648Z"
    }
   },
   "outputs": [],
   "source": [
    "# from pyarrow import csv\n",
    "import pandas as pd\n",
    "from collections import Counter\n",
    "from IPython.display import display, clear_output\n",
    "import numpy as np"
   ]
  },
  {
   "cell_type": "code",
   "execution_count": 2,
   "metadata": {
    "ExecuteTime": {
     "end_time": "2021-01-11T15:44:40.012780Z",
     "start_time": "2021-01-11T15:44:39.761209Z"
    }
   },
   "outputs": [],
   "source": [
    "import matplotlib.pyplot as plt\n",
    "import gzip\n",
    "import pickle"
   ]
  },
  {
   "cell_type": "code",
   "execution_count": 3,
   "metadata": {
    "ExecuteTime": {
     "end_time": "2021-01-11T15:45:42.974232Z",
     "start_time": "2021-01-11T15:44:40.761658Z"
    }
   },
   "outputs": [],
   "source": [
    "HOST_LOGS = pd.read_csv(\"./NGIDS_host_log.csv\")"
   ]
  },
  {
   "cell_type": "code",
   "execution_count": 4,
   "metadata": {
    "ExecuteTime": {
     "end_time": "2021-01-11T15:45:43.023904Z",
     "start_time": "2021-01-11T15:45:43.007566Z"
    }
   },
   "outputs": [
    {
     "data": {
      "text/html": [
       "<div>\n",
       "<style scoped>\n",
       "    .dataframe tbody tr th:only-of-type {\n",
       "        vertical-align: middle;\n",
       "    }\n",
       "\n",
       "    .dataframe tbody tr th {\n",
       "        vertical-align: top;\n",
       "    }\n",
       "\n",
       "    .dataframe thead th {\n",
       "        text-align: right;\n",
       "    }\n",
       "</style>\n",
       "<table border=\"1\" class=\"dataframe\">\n",
       "  <thead>\n",
       "    <tr style=\"text-align: right;\">\n",
       "      <th></th>\n",
       "      <th>Unnamed: 0</th>\n",
       "      <th>date_time</th>\n",
       "      <th>pro_id</th>\n",
       "      <th>path</th>\n",
       "      <th>sys_call</th>\n",
       "      <th>event_id</th>\n",
       "      <th>attack_cat</th>\n",
       "      <th>attack_subcat</th>\n",
       "      <th>label</th>\n",
       "    </tr>\n",
       "  </thead>\n",
       "  <tbody>\n",
       "    <tr>\n",
       "      <th>0</th>\n",
       "      <td>0</td>\n",
       "      <td>2016-03-11 02:45:01</td>\n",
       "      <td>1951</td>\n",
       "      <td>14</td>\n",
       "      <td>168</td>\n",
       "      <td>45350</td>\n",
       "      <td>0</td>\n",
       "      <td>0</td>\n",
       "      <td>0</td>\n",
       "    </tr>\n",
       "    <tr>\n",
       "      <th>1</th>\n",
       "      <td>1</td>\n",
       "      <td>2016-03-11 02:45:01</td>\n",
       "      <td>1966</td>\n",
       "      <td>14</td>\n",
       "      <td>168</td>\n",
       "      <td>45351</td>\n",
       "      <td>0</td>\n",
       "      <td>0</td>\n",
       "      <td>0</td>\n",
       "    </tr>\n",
       "    <tr>\n",
       "      <th>2</th>\n",
       "      <td>2</td>\n",
       "      <td>2016-03-11 02:45:01</td>\n",
       "      <td>1885</td>\n",
       "      <td>5</td>\n",
       "      <td>168</td>\n",
       "      <td>45353</td>\n",
       "      <td>0</td>\n",
       "      <td>0</td>\n",
       "      <td>0</td>\n",
       "    </tr>\n",
       "    <tr>\n",
       "      <th>3</th>\n",
       "      <td>3</td>\n",
       "      <td>2016-03-11 02:45:01</td>\n",
       "      <td>1830</td>\n",
       "      <td>15</td>\n",
       "      <td>142</td>\n",
       "      <td>45354</td>\n",
       "      <td>0</td>\n",
       "      <td>0</td>\n",
       "      <td>0</td>\n",
       "    </tr>\n",
       "    <tr>\n",
       "      <th>4</th>\n",
       "      <td>4</td>\n",
       "      <td>2016-03-11 02:45:01</td>\n",
       "      <td>1872</td>\n",
       "      <td>5</td>\n",
       "      <td>168</td>\n",
       "      <td>45355</td>\n",
       "      <td>0</td>\n",
       "      <td>0</td>\n",
       "      <td>0</td>\n",
       "    </tr>\n",
       "    <tr>\n",
       "      <th>...</th>\n",
       "      <td>...</td>\n",
       "      <td>...</td>\n",
       "      <td>...</td>\n",
       "      <td>...</td>\n",
       "      <td>...</td>\n",
       "      <td>...</td>\n",
       "      <td>...</td>\n",
       "      <td>...</td>\n",
       "      <td>...</td>\n",
       "    </tr>\n",
       "    <tr>\n",
       "      <th>90054234</th>\n",
       "      <td>90054234</td>\n",
       "      <td>2016-03-16 19:45:19</td>\n",
       "      <td>22939</td>\n",
       "      <td>22</td>\n",
       "      <td>221</td>\n",
       "      <td>102975641</td>\n",
       "      <td>0</td>\n",
       "      <td>0</td>\n",
       "      <td>0</td>\n",
       "    </tr>\n",
       "    <tr>\n",
       "      <th>90054235</th>\n",
       "      <td>90054235</td>\n",
       "      <td>2016-03-16 19:45:19</td>\n",
       "      <td>22939</td>\n",
       "      <td>22</td>\n",
       "      <td>102</td>\n",
       "      <td>102975643</td>\n",
       "      <td>0</td>\n",
       "      <td>0</td>\n",
       "      <td>0</td>\n",
       "    </tr>\n",
       "    <tr>\n",
       "      <th>90054236</th>\n",
       "      <td>90054236</td>\n",
       "      <td>2016-03-16 19:45:19</td>\n",
       "      <td>16489</td>\n",
       "      <td>25</td>\n",
       "      <td>7</td>\n",
       "      <td>102975644</td>\n",
       "      <td>0</td>\n",
       "      <td>0</td>\n",
       "      <td>0</td>\n",
       "    </tr>\n",
       "    <tr>\n",
       "      <th>90054237</th>\n",
       "      <td>90054237</td>\n",
       "      <td>2016-03-16 19:45:19</td>\n",
       "      <td>11364</td>\n",
       "      <td>1</td>\n",
       "      <td>256</td>\n",
       "      <td>102975646</td>\n",
       "      <td>0</td>\n",
       "      <td>0</td>\n",
       "      <td>0</td>\n",
       "    </tr>\n",
       "    <tr>\n",
       "      <th>90054238</th>\n",
       "      <td>90054238</td>\n",
       "      <td>2016-03-16 19:45:19</td>\n",
       "      <td>11378</td>\n",
       "      <td>1</td>\n",
       "      <td>256</td>\n",
       "      <td>102975647</td>\n",
       "      <td>0</td>\n",
       "      <td>0</td>\n",
       "      <td>0</td>\n",
       "    </tr>\n",
       "  </tbody>\n",
       "</table>\n",
       "<p>90054239 rows × 9 columns</p>\n",
       "</div>"
      ],
      "text/plain": [
       "          Unnamed: 0            date_time  pro_id  path  sys_call   event_id  \\\n",
       "0                  0  2016-03-11 02:45:01    1951    14       168      45350   \n",
       "1                  1  2016-03-11 02:45:01    1966    14       168      45351   \n",
       "2                  2  2016-03-11 02:45:01    1885     5       168      45353   \n",
       "3                  3  2016-03-11 02:45:01    1830    15       142      45354   \n",
       "4                  4  2016-03-11 02:45:01    1872     5       168      45355   \n",
       "...              ...                  ...     ...   ...       ...        ...   \n",
       "90054234    90054234  2016-03-16 19:45:19   22939    22       221  102975641   \n",
       "90054235    90054235  2016-03-16 19:45:19   22939    22       102  102975643   \n",
       "90054236    90054236  2016-03-16 19:45:19   16489    25         7  102975644   \n",
       "90054237    90054237  2016-03-16 19:45:19   11364     1       256  102975646   \n",
       "90054238    90054238  2016-03-16 19:45:19   11378     1       256  102975647   \n",
       "\n",
       "          attack_cat  attack_subcat  label  \n",
       "0                  0              0      0  \n",
       "1                  0              0      0  \n",
       "2                  0              0      0  \n",
       "3                  0              0      0  \n",
       "4                  0              0      0  \n",
       "...              ...            ...    ...  \n",
       "90054234           0              0      0  \n",
       "90054235           0              0      0  \n",
       "90054236           0              0      0  \n",
       "90054237           0              0      0  \n",
       "90054238           0              0      0  \n",
       "\n",
       "[90054239 rows x 9 columns]"
      ]
     },
     "execution_count": 4,
     "metadata": {},
     "output_type": "execute_result"
    }
   ],
   "source": [
    "HOST_LOGS"
   ]
  },
  {
   "cell_type": "code",
   "execution_count": 5,
   "metadata": {
    "ExecuteTime": {
     "end_time": "2021-01-11T15:45:43.056611Z",
     "start_time": "2021-01-11T15:45:43.053349Z"
    }
   },
   "outputs": [],
   "source": [
    "def vc_mapping(DF, column):\n",
    "    df_tmp = DF\n",
    "    tmp = DF[column].value_counts().index\n",
    "    print(column, len(tmp))\n",
    "    dict_tmp = dict()\n",
    "    for i, t in enumerate(tmp):\n",
    "        dict_tmp[t] = i+1\n",
    "    DF[column] = DF[column].map(dict_tmp)\n",
    "    return DF"
   ]
  },
  {
   "cell_type": "code",
   "execution_count": 6,
   "metadata": {
    "ExecuteTime": {
     "end_time": "2021-01-11T15:46:05.962647Z",
     "start_time": "2021-01-11T15:45:43.084418Z"
    }
   },
   "outputs": [
    {
     "name": "stdout",
     "output_type": "stream",
     "text": [
      "date_time 367290\n",
      "path 100\n",
      "sys_call 122\n",
      "attack_cat 8\n"
     ]
    }
   ],
   "source": [
    "HOST_LOGS = vc_mapping(HOST_LOGS, \"date_time\")\n",
    "HOST_LOGS = vc_mapping(HOST_LOGS, \"path\")\n",
    "HOST_LOGS = vc_mapping(HOST_LOGS, \"sys_call\")\n",
    "HOST_LOGS = vc_mapping(HOST_LOGS, \"attack_cat\")"
   ]
  },
  {
   "cell_type": "code",
   "execution_count": 7,
   "metadata": {
    "ExecuteTime": {
     "end_time": "2021-01-11T15:46:06.076092Z",
     "start_time": "2021-01-11T15:46:05.989747Z"
    }
   },
   "outputs": [],
   "source": [
    "DATE_TIME = HOST_LOGS[\"date_time\"].values.astype(\"int32\")"
   ]
  },
  {
   "cell_type": "code",
   "execution_count": 8,
   "metadata": {
    "ExecuteTime": {
     "end_time": "2021-01-11T15:46:06.226184Z",
     "start_time": "2021-01-11T15:46:06.102325Z"
    }
   },
   "outputs": [],
   "source": [
    "ATTACK_CAT = HOST_LOGS[\"attack_cat\"].values.astype(\"int16\")"
   ]
  },
  {
   "cell_type": "code",
   "execution_count": 9,
   "metadata": {
    "ExecuteTime": {
     "end_time": "2021-01-11T15:46:15.444467Z",
     "start_time": "2021-01-11T15:46:06.255273Z"
    }
   },
   "outputs": [],
   "source": [
    "PS_V = HOST_LOGS[[\"path\", \"sys_call\"]].values"
   ]
  },
  {
   "cell_type": "code",
   "execution_count": 10,
   "metadata": {
    "ExecuteTime": {
     "end_time": "2021-01-11T15:46:19.722044Z",
     "start_time": "2021-01-11T15:46:15.472113Z"
    }
   },
   "outputs": [],
   "source": [
    "PS_DD_V = HOST_LOGS[[\"path\", \"sys_call\"]].drop_duplicates().values"
   ]
  },
  {
   "cell_type": "code",
   "execution_count": 17,
   "metadata": {
    "ExecuteTime": {
     "end_time": "2021-01-11T15:46:58.583860Z",
     "start_time": "2021-01-11T15:46:58.581447Z"
    }
   },
   "outputs": [],
   "source": [
    "x = PS_DD_V[:,0]\n",
    "y = PS_DD_V[:,1]"
   ]
  },
  {
   "cell_type": "code",
   "execution_count": 30,
   "metadata": {
    "ExecuteTime": {
     "end_time": "2021-01-11T15:53:12.811270Z",
     "start_time": "2021-01-11T15:53:12.642908Z"
    }
   },
   "outputs": [
    {
     "data": {
      "image/png": "[encoded data removed]",
      "text/plain": [
       "<Figure size 720x576 with 1 Axes>"
      ]
     },
     "metadata": {
      "needs_background": "light"
     },
     "output_type": "display_data"
    }
   ],
   "source": [
    "plt.figure(figsize=(10,8))\n",
    "\n",
    "plt.scatter(x, y, s=8, c='b', alpha=1)\n",
    "\n",
    "plt.title(\"path, sys_call\", fontsize=15)\n",
    "plt.xlabel(\"Mapped [path]\")\n",
    "plt.ylabel(\"Mapped [sys_call]\")\n",
    "\n",
    "plt.show()"
   ]
  },
  {
   "cell_type": "code",
   "execution_count": 12,
   "metadata": {
    "ExecuteTime": {
     "end_time": "2021-01-11T13:31:16.745755Z",
     "start_time": "2021-01-11T13:31:16.740912Z"
    }
   },
   "outputs": [],
   "source": [
    "PS_DICT = dict()\n",
    "for i, V in enumerate(PS_DD_V):\n",
    "    PS_DICT[tuple(V)] = i+1"
   ]
  },
  {
   "cell_type": "code",
   "execution_count": 13,
   "metadata": {
    "ExecuteTime": {
     "end_time": "2021-01-11T13:34:06.573940Z",
     "start_time": "2021-01-11T13:31:16.758686Z"
    }
   },
   "outputs": [],
   "source": [
    "PS = np.zeros(len(PS_V))\n",
    "for i, V in enumerate(PS_V):\n",
    "    PS[i] = PS_DICT[tuple(V)]"
   ]
  },
  {
   "cell_type": "code",
   "execution_count": 14,
   "metadata": {
    "ExecuteTime": {
     "end_time": "2021-01-11T13:34:06.595789Z",
     "start_time": "2021-01-11T13:34:06.593308Z"
    }
   },
   "outputs": [],
   "source": [
    "del HOST_LOGS, PS_V, PS_DD_V, PS_DICT"
   ]
  },
  {
   "cell_type": "code",
   "execution_count": 15,
   "metadata": {
    "ExecuteTime": {
     "end_time": "2021-01-11T13:34:06.606061Z",
     "start_time": "2021-01-11T13:34:06.603780Z"
    }
   },
   "outputs": [],
   "source": [
    "def most_com(list):\n",
    "    return Counter(list).most_common(n=1)[0][0]"
   ]
  },
  {
   "cell_type": "code",
   "execution_count": 16,
   "metadata": {
    "ExecuteTime": {
     "end_time": "2021-01-11T13:34:06.615429Z",
     "start_time": "2021-01-11T13:34:06.612270Z"
    }
   },
   "outputs": [],
   "source": [
    "def sliding_window_arr(vecs, Arr, window=5, jump=10):\n",
    "    Arr_len = len(Arr)\n",
    "    y_len = int(((Arr_len-window)/jump) + 1)\n",
    "    res = vecs\n",
    "    for i in range(y_len):\n",
    "        res.append(Arr[i*jump:i*jump + window])\n",
    "    return res, y_len"
   ]
  },
  {
   "cell_type": "code",
   "execution_count": 17,
   "metadata": {
    "ExecuteTime": {
     "end_time": "2021-01-11T13:34:06.623848Z",
     "start_time": "2021-01-11T13:34:06.621006Z"
    }
   },
   "outputs": [],
   "source": [
    "def padding(re, len_tmp, cut):\n",
    "    re = np.array(re)\n",
    "    if len_tmp>=cut:\n",
    "        re = re[:cut]\n",
    "    else:\n",
    "        tmp = np.zeros(cut)\n",
    "        tmp[:len(re)] = re\n",
    "        re = tmp\n",
    "    return re"
   ]
  },
  {
   "cell_type": "code",
   "execution_count": 18,
   "metadata": {
    "ExecuteTime": {
     "end_time": "2021-01-11T13:34:06.635516Z",
     "start_time": "2021-01-11T13:34:06.629500Z"
    }
   },
   "outputs": [],
   "source": [
    "def make_SW_vector(WINDOW):\n",
    "    vecs = []\n",
    "    atcas = []\n",
    "    start = 0\n",
    "    end = 0\n",
    "    check = DATE_TIME[0]\n",
    "    for i, DT in enumerate(DATE_TIME):\n",
    "        if (check != DT) | (i == (len(DATE_TIME) - 1)):\n",
    "            check = DT\n",
    "            end = i\n",
    "            len_tmp = end-start\n",
    "\n",
    "            l_val = most_com(ATTACK_CAT[start:end])\n",
    "            if l_val!=(np.mean(ATTACK_CAT[start:end])):\n",
    "                print(\"ATTACK_CAT_ERR!!\", DT)\n",
    "                break\n",
    "\n",
    "            \n",
    "            vecs.append(padding(PS[start:end], len_tmp, WINDOW))\n",
    "            atcas.append(l_val)\n",
    "            start = i\n",
    "            \n",
    "        if i%1000000 == 0:\n",
    "            print(\"processing...\",i)\n",
    "            clear_output(wait=True)\n",
    "    col = []\n",
    "    for i in range(WINDOW):\n",
    "        col.append(\"sys\"+str(i+1))\n",
    "    vecs = pd.DataFrame(vecs, columns=col)\n",
    "    vecs[\"attack_cat\"] = atcas\n",
    "    return vecs"
   ]
  },
  {
   "cell_type": "code",
   "execution_count": 46,
   "metadata": {
    "ExecuteTime": {
     "end_time": "2021-01-11T14:58:10.531371Z",
     "start_time": "2021-01-11T14:58:10.528967Z"
    }
   },
   "outputs": [],
   "source": [
    "START = 64\n",
    "LAST = 600"
   ]
  },
  {
   "cell_type": "code",
   "execution_count": 20,
   "metadata": {
    "ExecuteTime": {
     "end_time": "2021-01-11T13:40:29.916469Z",
     "start_time": "2021-01-11T13:34:06.648702Z"
    }
   },
   "outputs": [
    {
     "name": "stdout",
     "output_type": "stream",
     "text": [
      "processing... 90000000\n"
     ]
    }
   ],
   "source": [
    "NGIDS_MAP = make_SW_vector(LAST)"
   ]
  },
  {
   "cell_type": "code",
   "execution_count": 21,
   "metadata": {
    "ExecuteTime": {
     "end_time": "2021-01-11T13:40:29.998249Z",
     "start_time": "2021-01-11T13:40:29.995031Z"
    }
   },
   "outputs": [
    {
     "data": {
      "text/plain": [
       "(367290, 601)"
      ]
     },
     "execution_count": 21,
     "metadata": {},
     "output_type": "execute_result"
    }
   ],
   "source": [
    "NGIDS_MAP.shape"
   ]
  },
  {
   "cell_type": "code",
   "execution_count": 22,
   "metadata": {
    "ExecuteTime": {
     "end_time": "2021-01-11T13:40:30.046553Z",
     "start_time": "2021-01-11T13:40:30.043918Z"
    }
   },
   "outputs": [],
   "source": [
    "col = []\n",
    "for i in range(LAST):\n",
    "    col.append(\"sys\"+str(i+1))"
   ]
  },
  {
   "cell_type": "code",
   "execution_count": 23,
   "metadata": {
    "ExecuteTime": {
     "end_time": "2021-01-11T13:40:36.534723Z",
     "start_time": "2021-01-11T13:40:30.091971Z"
    }
   },
   "outputs": [],
   "source": [
    "NGIDS_MAP = NGIDS_MAP.drop_duplicates()"
   ]
  },
  {
   "cell_type": "code",
   "execution_count": 24,
   "metadata": {
    "ExecuteTime": {
     "end_time": "2021-01-11T13:40:36.596254Z",
     "start_time": "2021-01-11T13:40:36.593245Z"
    }
   },
   "outputs": [
    {
     "data": {
      "text/plain": [
       "(306634, 601)"
      ]
     },
     "execution_count": 24,
     "metadata": {},
     "output_type": "execute_result"
    }
   ],
   "source": [
    "NGIDS_MAP.shape"
   ]
  },
  {
   "cell_type": "code",
   "execution_count": 25,
   "metadata": {
    "ExecuteTime": {
     "end_time": "2021-01-11T13:40:36.641674Z",
     "start_time": "2021-01-11T13:40:36.639515Z"
    }
   },
   "outputs": [],
   "source": [
    "ng_len = NGIDS_MAP.shape[0]"
   ]
  },
  {
   "cell_type": "code",
   "execution_count": 26,
   "metadata": {
    "ExecuteTime": {
     "end_time": "2021-01-11T13:40:36.686516Z",
     "start_time": "2021-01-11T13:40:36.684739Z"
    }
   },
   "outputs": [],
   "source": [
    "# y = NGIDS_MAP[\"attack_cat\"]\n",
    "# NGIDS_MAP = NGIDS_MAP.drop(NGIDS_MAP.columns[0], axis=1)\n",
    "# NGIDS_MAP = NGIDS_MAP.drop(NGIDS_MAP.columns[-1], axis=1)"
   ]
  },
  {
   "cell_type": "code",
   "execution_count": 27,
   "metadata": {
    "ExecuteTime": {
     "end_time": "2021-01-11T13:40:36.732750Z",
     "start_time": "2021-01-11T13:40:36.729487Z"
    }
   },
   "outputs": [],
   "source": [
    "def cut_drop_duplicate_len(DF, col, cut):\n",
    "    col_tmp = col[:cut]\n",
    "    DF_tmp = DF[col_tmp]\n",
    "    DF_tmp[\"attack_cat\"] = DF[\"attack_cat\"]\n",
    "    DF_tmp = DF_tmp.drop_duplicates()\n",
    "    DF_tmp_2 = DF_tmp.drop_duplicates(col_tmp)\n",
    "    \n",
    "    rate = (DF_tmp_2.shape[0]/DF_tmp.shape[0])*100\n",
    "    \n",
    "    return rate"
   ]
  },
  {
   "cell_type": "code",
   "execution_count": 28,
   "metadata": {
    "ExecuteTime": {
     "end_time": "2021-01-11T14:41:53.045728Z",
     "start_time": "2021-01-11T13:40:36.775787Z"
    },
    "scrolled": true
   },
   "outputs": [
    {
     "name": "stderr",
     "output_type": "stream",
     "text": [
      "<ipython-input-27-c4091de543fe>:4: SettingWithCopyWarning: \n",
      "A value is trying to be set on a copy of a slice from a DataFrame.\n",
      "Try using .loc[row_indexer,col_indexer] = value instead\n",
      "\n",
      "See the caveats in the documentation: https://pandas.pydata.org/pandas-docs/stable/user_guide/indexing.html#returning-a-view-versus-a-copy\n",
      "  DF_tmp[\"attack_cat\"] = DF[\"attack_cat\"]\n"
     ]
    },
    {
     "name": "stdout",
     "output_type": "stream",
     "text": [
      "64 : rate :  98.86770115428523\n",
      "65 : rate :  98.88650110769078\n",
      "66 : rate :  98.91420681541516\n",
      "67 : rate :  98.93232403118292\n",
      "68 : rate :  98.94553807867786\n",
      "69 : rate :  98.9700926209611\n",
      "70 : rate :  98.98345098587393\n",
      "71 : rate :  98.99375699845075\n",
      "72 : rate :  99.00891746792442\n",
      "73 : rate :  99.01398847655226\n",
      "74 : rate :  99.0244913366245\n",
      "75 : rate :  99.03771512266569\n",
      "76 : rate :  99.05292882484976\n",
      "77 : rate :  99.07503155732736\n",
      "78 : rate :  99.08576741303169\n",
      "79 : rate :  99.09576911832268\n",
      "80 : rate :  99.10999229668758\n",
      "81 : rate :  99.1246505743843\n",
      "82 : rate :  99.138336943215\n",
      "83 : rate :  99.14850522023599\n",
      "84 : rate :  99.15637140765267\n",
      "85 : rate :  99.175078905496\n",
      "86 : rate :  99.18509143506562\n",
      "87 : rate :  99.18882783062622\n",
      "88 : rate :  99.19647715337796\n",
      "89 : rate :  99.21743046954172\n",
      "90 : rate :  99.23141661922324\n",
      "91 : rate :  99.24248000392562\n",
      "92 : rate :  99.25395259906456\n",
      "93 : rate :  99.27024230096706\n",
      "94 : rate :  99.28441757583235\n",
      "95 : rate :  99.29474283986652\n",
      "96 : rate :  99.30468848440417\n",
      "97 : rate :  99.3338130628858\n",
      "98 : rate :  99.35331081568249\n",
      "99 : rate :  99.3667134954781\n",
      "100 : rate :  99.37645003758605\n",
      "101 : rate :  99.39991609446277\n",
      "102 : rate :  99.41060903732809\n",
      "103 : rate :  99.41911350990893\n",
      "104 : rate :  99.42992041565296\n",
      "105 : rate :  99.44043827239139\n",
      "106 : rate :  99.44715644360895\n",
      "107 : rate :  99.45365883025798\n",
      "108 : rate :  99.45978480930802\n",
      "109 : rate :  99.46949733021448\n",
      "110 : rate :  99.47743654411367\n",
      "111 : rate :  99.48469957887855\n",
      "112 : rate :  99.49085523736697\n",
      "113 : rate :  99.49892489632929\n",
      "114 : rate :  99.50534957046025\n",
      "115 : rate :  99.51058270061604\n",
      "116 : rate :  99.51417881612305\n",
      "117 : rate :  99.52036910521932\n",
      "118 : rate :  99.52192272634261\n",
      "119 : rate :  99.52649630407917\n",
      "120 : rate :  99.5326027951825\n",
      "121 : rate :  99.53706031011932\n",
      "122 : rate :  99.54433324095821\n",
      "123 : rate :  99.5478281295172\n",
      "124 : rate :  99.55386054544147\n",
      "125 : rate :  99.55845935452669\n",
      "126 : rate :  99.56221998557064\n",
      "127 : rate :  99.56631715107136\n",
      "128 : rate :  99.57226930734939\n",
      "129 : rate :  99.57689968540939\n",
      "130 : rate :  99.58371213933681\n",
      "131 : rate :  99.5884328422802\n",
      "132 : rate :  99.59222556047432\n",
      "133 : rate :  99.59528765477135\n",
      "134 : rate :  99.59935931660438\n",
      "135 : rate :  99.60445225143226\n",
      "136 : rate :  99.60810398590021\n",
      "137 : rate :  99.61147109446188\n",
      "138 : rate :  99.61490166763957\n",
      "139 : rate :  99.62079720384972\n",
      "140 : rate :  99.62666378097609\n",
      "141 : rate :  99.63046065919846\n",
      "142 : rate :  99.63368601894757\n",
      "143 : rate :  99.6371117054104\n",
      "144 : rate :  99.63996768730496\n",
      "145 : rate :  99.64276945740241\n",
      "146 : rate :  99.64777379159473\n",
      "147 : rate :  99.64999959302278\n",
      "148 : rate :  99.65328127151803\n",
      "149 : rate :  99.65547742427975\n",
      "150 : rate :  99.6572887553662\n",
      "151 : rate :  99.66060985797827\n",
      "152 : rate :  99.66461218282238\n",
      "153 : rate :  99.66600079904116\n",
      "154 : rate :  99.66849023600149\n",
      "155 : rate :  99.67109580378697\n",
      "156 : rate :  99.67785997962937\n",
      "157 : rate :  99.68093801081352\n",
      "158 : rate :  99.68468697553782\n",
      "159 : rate :  99.68815779215717\n",
      "160 : rate :  99.69436115678499\n",
      "161 : rate :  99.69843672370564\n",
      "162 : rate :  99.70616066537178\n",
      "163 : rate :  99.7118254616518\n",
      "164 : rate :  99.72141491107865\n",
      "165 : rate :  99.73330060035262\n",
      "166 : rate :  99.74077552861823\n",
      "167 : rate :  99.74463380930447\n",
      "168 : rate :  99.74977527471519\n",
      "169 : rate :  99.75205523536468\n",
      "170 : rate :  99.7538400945254\n",
      "171 : rate :  99.75569973276245\n",
      "172 : rate :  99.75835156581654\n",
      "173 : rate :  99.76120526216768\n",
      "174 : rate :  99.76250203028279\n",
      "175 : rate :  99.76412971065378\n",
      "176 : rate :  99.76605202916623\n",
      "177 : rate :  99.76787822037578\n",
      "178 : rate :  99.76900514635047\n",
      "179 : rate :  99.7704240361028\n",
      "180 : rate :  99.77240865132507\n",
      "181 : rate :  99.77430654439826\n",
      "182 : rate :  99.7771395667906\n",
      "183 : rate :  99.77850269239916\n",
      "184 : rate :  99.77913753740127\n",
      "185 : rate :  99.78018399413824\n",
      "186 : rate :  99.78122106215584\n",
      "187 : rate :  99.78254653539443\n",
      "188 : rate :  99.78323317413602\n",
      "189 : rate :  99.78541225471918\n",
      "190 : rate :  99.78812814909031\n",
      "191 : rate :  99.79024756399554\n",
      "192 : rate :  99.79187980883775\n",
      "193 : rate :  99.79357709895355\n",
      "194 : rate :  99.79448679367941\n",
      "195 : rate :  99.79476654694716\n",
      "196 : rate :  99.79638797852311\n",
      "197 : rate :  99.79885367474847\n",
      "198 : rate :  99.79973645874259\n",
      "199 : rate :  99.800439380425\n",
      "200 : rate :  99.80134861065368\n",
      "201 : rate :  99.802728575285\n",
      "202 : rate :  99.80363143556484\n",
      "203 : rate :  99.80426745281879\n",
      "204 : rate :  99.80548504580068\n",
      "205 : rate :  99.80642716908346\n",
      "206 : rate :  99.80770355387224\n",
      "207 : rate :  99.80922644066634\n",
      "208 : rate :  99.8111128600661\n",
      "209 : rate :  99.81242504689374\n",
      "210 : rate :  99.8133679074687\n",
      "211 : rate :  99.8147549078031\n",
      "212 : rate :  99.81679503477156\n",
      "213 : rate :  99.81866032770185\n",
      "214 : rate :  99.8202457545778\n",
      "215 : rate :  99.82129742133533\n",
      "216 : rate :  99.82347183312518\n",
      "217 : rate :  99.82401014133131\n",
      "218 : rate :  99.82516658020441\n",
      "219 : rate :  99.82703212020259\n",
      "220 : rate :  99.82717402634083\n",
      "221 : rate :  99.82828204757696\n",
      "222 : rate :  99.82875102413603\n",
      "223 : rate :  99.82922844134886\n",
      "224 : rate :  99.82934810304826\n",
      "225 : rate :  99.82945731239467\n",
      "226 : rate :  99.8302070670029\n",
      "227 : rate :  99.83098044728264\n",
      "228 : rate :  99.83104660771698\n",
      "229 : rate :  99.83179564006274\n",
      "230 : rate :  99.8318799696515\n",
      "231 : rate :  99.83194175762861\n",
      "232 : rate :  99.83200125581565\n",
      "233 : rate :  99.83282279215969\n",
      "234 : rate :  99.83286406277105\n",
      "235 : rate :  99.83290698488825\n",
      "236 : rate :  99.83328109474301\n",
      "237 : rate :  99.83365613155499\n",
      "238 : rate :  99.83372707916124\n",
      "239 : rate :  99.83410727729401\n",
      "240 : rate :  99.83447403040748\n",
      "241 : rate :  99.83485273258795\n",
      "242 : rate :  99.83488296997601\n",
      "243 : rate :  99.83491869079872\n",
      "244 : rate :  99.83528002395927\n",
      "245 : rate :  99.83532112380857\n",
      "246 : rate :  99.83671650526765\n",
      "247 : rate :  99.83746431028695\n",
      "248 : rate :  99.8375042783894\n",
      "249 : rate :  99.83757606356124\n",
      "250 : rate :  99.83761166273702\n",
      "251 : rate :  99.83767419318431\n",
      "252 : rate :  99.83804001871832\n",
      "253 : rate :  99.8380862323529\n",
      "254 : rate :  99.83913070878678\n",
      "255 : rate :  99.83923628950727\n",
      "256 : rate :  99.8399437980707\n",
      "257 : rate :  99.84039682250604\n",
      "258 : rate :  99.84041954430178\n",
      "259 : rate :  99.84050033918497\n",
      "260 : rate :  99.84085547625902\n",
      "261 : rate :  99.84155022758547\n",
      "262 : rate :  99.84158114584125\n",
      "263 : rate :  99.84167382825412\n",
      "264 : rate :  99.84270390662692\n",
      "265 : rate :  99.84344448554668\n",
      "266 : rate :  99.8434605134099\n",
      "267 : rate :  99.84350186047894\n",
      "268 : rate :  99.84352614169796\n",
      "269 : rate :  99.84387480938204\n",
      "270 : rate :  99.8448829526365\n",
      "271 : rate :  99.84524925099318\n",
      "272 : rate :  99.84527630880078\n",
      "273 : rate :  99.84598031714202\n",
      "274 : rate :  99.84599860178602\n",
      "275 : rate :  99.84601586663061\n",
      "276 : rate :  99.84604175664047\n",
      "277 : rate :  99.8460610415767\n",
      "278 : rate :  99.84608387275388\n",
      "279 : rate :  99.84611278252474\n",
      "280 : rate :  99.84648075244198\n",
      "281 : rate :  99.84720205223451\n",
      "282 : rate :  99.84723978086811\n",
      "283 : rate :  99.84758757130959\n",
      "284 : rate :  99.8479482892537\n",
      "285 : rate :  99.84797330648186\n",
      "286 : rate :  99.84798881302953\n",
      "287 : rate :  99.84800631662061\n",
      "288 : rate :  99.84835825608705\n",
      "289 : rate :  99.84840612689163\n",
      "290 : rate :  99.84845994543244\n",
      "291 : rate :  99.84847737842857\n",
      "292 : rate :  99.84882792345435\n",
      "293 : rate :  99.84917142866531\n",
      "294 : rate :  99.84918778256755\n",
      "295 : rate :  99.84952524887473\n",
      "296 : rate :  99.84954057312558\n",
      "297 : rate :  99.84956725952932\n",
      "298 : rate :  99.84995781089431\n",
      "299 : rate :  99.84997997544531\n",
      "300 : rate :  99.85000065645227\n",
      "301 : rate :  99.85001640958319\n",
      "302 : rate :  99.85003560423839\n",
      "303 : rate :  99.85004790592065\n",
      "304 : rate :  99.85038486524795\n",
      "305 : rate :  99.85039860896953\n",
      "306 : rate :  99.85043442894488\n",
      "307 : rate :  99.85046974143727\n",
      "308 : rate :  99.85048150856288\n",
      "309 : rate :  99.85082358495515\n",
      "310 : rate :  99.85116169282266\n",
      "311 : rate :  99.85117535411415\n",
      "312 : rate :  99.85118023253908\n",
      "313 : rate :  99.85118803735377\n",
      "314 : rate :  99.85119876763737\n",
      "315 : rate :  99.85190184893334\n",
      "316 : rate :  99.85223918249936\n",
      "317 : rate :  99.85225273627277\n",
      "318 : rate :  99.85226386786951\n",
      "319 : rate :  99.85229048010507\n",
      "320 : rate :  99.85262475314646\n",
      "321 : rate :  99.85264646940941\n",
      "322 : rate :  99.85266721452636\n"
     ]
    },
    {
     "name": "stdout",
     "output_type": "stream",
     "text": [
      "323 : rate :  99.85272796892232\n",
      "324 : rate :  99.85310475691945\n",
      "325 : rate :  99.85312109495116\n",
      "326 : rate :  99.85313262549147\n",
      "327 : rate :  99.85316240434298\n",
      "328 : rate :  99.85351386877066\n",
      "329 : rate :  99.85352680001832\n",
      "330 : rate :  99.85353781372494\n",
      "331 : rate :  99.85456850967037\n",
      "332 : rate :  99.85494794133885\n",
      "333 : rate :  99.85495836586425\n",
      "334 : rate :  99.85496926262975\n",
      "335 : rate :  99.85497684202275\n",
      "336 : rate :  99.85498584152303\n",
      "337 : rate :  99.85498963045217\n",
      "338 : rate :  99.85499341918333\n",
      "339 : rate :  99.85500951908224\n",
      "340 : rate :  99.85502845556329\n",
      "341 : rate :  99.85504076162367\n",
      "342 : rate :  99.85505495832831\n",
      "343 : rate :  99.85538660416408\n",
      "344 : rate :  99.85539038068563\n",
      "345 : rate :  99.85572340675553\n",
      "346 : rate :  99.85574742091401\n",
      "347 : rate :  99.85575212863516\n",
      "348 : rate :  99.85575636532148\n",
      "349 : rate :  99.85577189770899\n",
      "350 : rate :  99.85578460353817\n",
      "351 : rate :  99.85578883831711\n",
      "352 : rate :  99.85578930883274\n",
      "353 : rate :  99.85579166136489\n",
      "354 : rate :  99.85580107072599\n",
      "355 : rate :  99.85580436371228\n",
      "356 : rate :  99.85580671575327\n",
      "357 : rate :  99.8558076565482\n",
      "358 : rate :  99.85581565280931\n",
      "359 : rate :  99.85581847480738\n",
      "360 : rate :  99.85582411847213\n",
      "361 : rate :  99.85582694013883\n",
      "362 : rate :  99.85583446404343\n",
      "363 : rate :  99.85583493426138\n",
      "364 : rate :  99.85583869589466\n",
      "365 : rate :  99.85584057663769\n",
      "366 : rate :  99.85584151699081\n",
      "367 : rate :  99.85584386781991\n",
      "368 : rate :  99.85584480813009\n",
      "369 : rate :  99.85584997961679\n",
      "370 : rate :  99.85585233016991\n",
      "371 : rate :  99.85585374046498\n",
      "372 : rate :  99.85585374046498\n",
      "373 : rate :  99.85585374046498\n",
      "374 : rate :  99.85585374046498\n",
      "375 : rate :  99.85585374046498\n",
      "376 : rate :  99.85585374046498\n",
      "377 : rate :  99.85585374046498\n",
      "378 : rate :  99.85585374046498\n",
      "379 : rate :  99.85585374046498\n",
      "380 : rate :  99.85585374046498\n",
      "381 : rate :  99.85585374046498\n",
      "382 : rate :  99.85585374046498\n",
      "383 : rate :  99.85585374046498\n",
      "384 : rate :  99.85585374046498\n",
      "385 : rate :  99.85585374046498\n",
      "386 : rate :  99.85585374046498\n",
      "387 : rate :  99.85585421055721\n",
      "388 : rate :  99.85585421055721\n",
      "389 : rate :  99.85585421055721\n",
      "390 : rate :  99.85585421055721\n",
      "391 : rate :  99.85585421055721\n",
      "392 : rate :  99.85585421055721\n",
      "393 : rate :  99.85585421055721\n",
      "394 : rate :  99.85585421055721\n",
      "395 : rate :  99.85585421055721\n",
      "396 : rate :  99.85585421055721\n",
      "397 : rate :  99.85585421055721\n",
      "398 : rate :  99.85585421055721\n",
      "399 : rate :  99.85585421055721\n",
      "400 : rate :  99.85585421055721\n",
      "401 : rate :  99.85585421055721\n",
      "402 : rate :  99.85585421055721\n",
      "403 : rate :  99.85585421055721\n",
      "404 : rate :  99.85585421055721\n",
      "405 : rate :  99.85585421055721\n",
      "406 : rate :  99.85585421055721\n",
      "407 : rate :  99.85585421055721\n",
      "408 : rate :  99.85585421055721\n",
      "409 : rate :  99.85585421055721\n",
      "410 : rate :  99.85585421055721\n",
      "411 : rate :  99.85585421055721\n",
      "412 : rate :  99.85585421055721\n",
      "413 : rate :  99.85585421055721\n",
      "414 : rate :  99.85585421055721\n",
      "415 : rate :  99.85585421055721\n",
      "416 : rate :  99.85585421055721\n",
      "417 : rate :  99.85585421055721\n",
      "418 : rate :  99.85585421055721\n",
      "419 : rate :  99.85585421055721\n",
      "420 : rate :  99.85585421055721\n",
      "421 : rate :  99.85585421055721\n",
      "422 : rate :  99.85585421055721\n",
      "423 : rate :  99.85585421055721\n",
      "424 : rate :  99.85585421055721\n",
      "425 : rate :  99.85585421055721\n",
      "426 : rate :  99.85585421055721\n",
      "427 : rate :  99.85585421055721\n",
      "428 : rate :  99.85585421055721\n",
      "429 : rate :  99.85585421055721\n",
      "430 : rate :  99.85585421055721\n",
      "431 : rate :  99.85585421055721\n",
      "432 : rate :  99.85585421055721\n",
      "433 : rate :  99.85585421055721\n",
      "434 : rate :  99.85585421055721\n",
      "435 : rate :  99.85585421055721\n",
      "436 : rate :  99.85585421055721\n",
      "437 : rate :  99.85585421055721\n",
      "438 : rate :  99.85585421055721\n",
      "439 : rate :  99.85585421055721\n",
      "440 : rate :  99.85585421055721\n",
      "441 : rate :  99.85585421055721\n",
      "442 : rate :  99.85585421055721\n",
      "443 : rate :  99.85585421055721\n",
      "444 : rate :  99.85585421055721\n",
      "445 : rate :  99.85585421055721\n",
      "446 : rate :  99.85585421055721\n",
      "447 : rate :  99.85585421055721\n",
      "448 : rate :  99.85585421055721\n",
      "449 : rate :  99.85585421055721\n",
      "450 : rate :  99.85585421055721\n",
      "451 : rate :  99.85585421055721\n",
      "452 : rate :  99.85585421055721\n",
      "453 : rate :  99.85585421055721\n",
      "454 : rate :  99.85585421055721\n",
      "455 : rate :  99.85585421055721\n",
      "456 : rate :  99.85585421055721\n",
      "457 : rate :  99.85585421055721\n",
      "458 : rate :  99.85585421055721\n",
      "459 : rate :  99.85585421055721\n",
      "460 : rate :  99.85585421055721\n",
      "461 : rate :  99.85585421055721\n",
      "462 : rate :  99.85585421055721\n",
      "463 : rate :  99.85585421055721\n",
      "464 : rate :  99.85585421055721\n",
      "465 : rate :  99.85585421055721\n",
      "466 : rate :  99.85585421055721\n",
      "467 : rate :  99.85585421055721\n",
      "468 : rate :  99.85585421055721\n",
      "469 : rate :  99.85585421055721\n",
      "470 : rate :  99.85585421055721\n",
      "471 : rate :  99.85585421055721\n",
      "472 : rate :  99.85585421055721\n",
      "473 : rate :  99.85585421055721\n",
      "474 : rate :  99.85585421055721\n",
      "475 : rate :  99.85585421055721\n",
      "476 : rate :  99.85585421055721\n",
      "477 : rate :  99.85585421055721\n",
      "478 : rate :  99.85585421055721\n",
      "479 : rate :  99.85585421055721\n",
      "480 : rate :  99.85585421055721\n",
      "481 : rate :  99.85585421055721\n",
      "482 : rate :  99.85585421055721\n",
      "483 : rate :  99.85585421055721\n",
      "484 : rate :  99.85585421055721\n",
      "485 : rate :  99.85585421055721\n",
      "486 : rate :  99.85585421055721\n",
      "487 : rate :  99.85585421055721\n",
      "488 : rate :  99.85585421055721\n",
      "489 : rate :  99.85585421055721\n",
      "490 : rate :  99.85585421055721\n",
      "491 : rate :  99.85585421055721\n",
      "492 : rate :  99.85585421055721\n",
      "493 : rate :  99.85585421055721\n",
      "494 : rate :  99.85585421055721\n",
      "495 : rate :  99.85585421055721\n",
      "496 : rate :  99.85585421055721\n",
      "497 : rate :  99.85585421055721\n",
      "498 : rate :  99.85585421055721\n",
      "499 : rate :  99.85585421055721\n",
      "500 : rate :  99.85585421055721\n",
      "501 : rate :  99.85585421055721\n",
      "502 : rate :  99.85585421055721\n",
      "503 : rate :  99.85585421055721\n",
      "504 : rate :  99.85585421055721\n",
      "505 : rate :  99.85585421055721\n",
      "506 : rate :  99.85585421055721\n",
      "507 : rate :  99.85585421055721\n",
      "508 : rate :  99.85585421055721\n",
      "509 : rate :  99.85585421055721\n",
      "510 : rate :  99.85585421055721\n",
      "511 : rate :  99.85585421055721\n",
      "512 : rate :  99.85585421055721\n",
      "513 : rate :  99.85585421055721\n",
      "514 : rate :  99.85585421055721\n",
      "515 : rate :  99.85585421055721\n",
      "516 : rate :  99.85585421055721\n",
      "517 : rate :  99.85585421055721\n",
      "518 : rate :  99.85585421055721\n",
      "519 : rate :  99.85585421055721\n",
      "520 : rate :  99.85585421055721\n",
      "521 : rate :  99.85585421055721\n",
      "522 : rate :  99.85585421055721\n",
      "523 : rate :  99.85585421055721\n",
      "524 : rate :  99.85585421055721\n",
      "525 : rate :  99.85585421055721\n",
      "526 : rate :  99.85585421055721\n",
      "527 : rate :  99.85585421055721\n",
      "528 : rate :  99.85585421055721\n",
      "529 : rate :  99.85585421055721\n",
      "530 : rate :  99.85585421055721\n",
      "531 : rate :  99.85585421055721\n",
      "532 : rate :  99.85585421055721\n",
      "533 : rate :  99.85585421055721\n",
      "534 : rate :  99.85585421055721\n",
      "535 : rate :  99.85585421055721\n",
      "536 : rate :  99.85585421055721\n",
      "537 : rate :  99.85585421055721\n",
      "538 : rate :  99.85585421055721\n",
      "539 : rate :  99.85585421055721\n",
      "540 : rate :  99.85585421055721\n",
      "541 : rate :  99.85585421055721\n",
      "542 : rate :  99.85585421055721\n",
      "543 : rate :  99.85585421055721\n",
      "544 : rate :  99.85585421055721\n",
      "545 : rate :  99.85585421055721\n",
      "546 : rate :  99.85585421055721\n",
      "547 : rate :  99.85585421055721\n",
      "548 : rate :  99.85585421055721\n",
      "549 : rate :  99.85585421055721\n",
      "550 : rate :  99.85585421055721\n",
      "551 : rate :  99.85585421055721\n",
      "552 : rate :  99.85585421055721\n",
      "553 : rate :  99.85585421055721\n",
      "554 : rate :  99.85585421055721\n",
      "555 : rate :  99.85585421055721\n",
      "556 : rate :  99.85585421055721\n",
      "557 : rate :  99.85585421055721\n",
      "558 : rate :  99.85585421055721\n",
      "559 : rate :  99.85585421055721\n",
      "560 : rate :  99.85585421055721\n",
      "561 : rate :  99.85585421055721\n",
      "562 : rate :  99.85585421055721\n",
      "563 : rate :  99.85585421055721\n",
      "564 : rate :  99.85585421055721\n",
      "565 : rate :  99.85585421055721\n",
      "566 : rate :  99.85585421055721\n",
      "567 : rate :  99.85585421055721\n",
      "568 : rate :  99.85585421055721\n",
      "569 : rate :  99.85585421055721\n",
      "570 : rate :  99.85585421055721\n",
      "571 : rate :  99.85585421055721\n",
      "572 : rate :  99.85585421055721\n",
      "573 : rate :  99.85585421055721\n",
      "574 : rate :  99.85585421055721\n",
      "575 : rate :  99.85585421055721\n",
      "576 : rate :  99.85585421055721\n",
      "577 : rate :  99.85585421055721\n",
      "578 : rate :  99.85585421055721\n",
      "579 : rate :  99.85585421055721\n"
     ]
    },
    {
     "name": "stdout",
     "output_type": "stream",
     "text": [
      "580 : rate :  99.85585421055721\n",
      "581 : rate :  99.85585421055721\n",
      "582 : rate :  99.85585421055721\n",
      "583 : rate :  99.85585421055721\n",
      "584 : rate :  99.85585421055721\n",
      "585 : rate :  99.85585421055721\n",
      "586 : rate :  99.85585421055721\n",
      "587 : rate :  99.85585421055721\n",
      "588 : rate :  99.85585421055721\n",
      "589 : rate :  99.85585421055721\n",
      "590 : rate :  99.85585421055721\n",
      "591 : rate :  99.85585421055721\n",
      "592 : rate :  99.85585421055721\n",
      "593 : rate :  99.85585421055721\n",
      "594 : rate :  99.85585421055721\n",
      "595 : rate :  99.85585421055721\n",
      "596 : rate :  99.85585421055721\n",
      "597 : rate :  99.85585421055721\n",
      "598 : rate :  99.85585421055721\n",
      "599 : rate :  99.85585421055721\n",
      "600 : rate :  99.85585421055721\n"
     ]
    }
   ],
   "source": [
    "rate_arr = []\n",
    "flag=0\n",
    "first_index=0\n",
    "last_index=0\n",
    "for i in range(START, LAST+1):\n",
    "    rate = cut_drop_duplicate_len(NGIDS_MAP, col, i)\n",
    "    print(i, \":\", \"rate : \", rate)\n",
    "    if rate>=100:\n",
    "        flag+=1\n",
    "        if flag==1:\n",
    "            first_index=i\n",
    "    if flag>=5:\n",
    "        last_index=i\n",
    "        break\n",
    "    rate_arr.append(rate)\n",
    "if first_index==0:\n",
    "    first_index = LAST\n",
    "if last_index==0:\n",
    "    last_index = LAST"
   ]
  },
  {
   "cell_type": "code",
   "execution_count": 82,
   "metadata": {
    "ExecuteTime": {
     "end_time": "2021-01-11T15:42:07.991659Z",
     "start_time": "2021-01-11T15:42:07.988808Z"
    }
   },
   "outputs": [],
   "source": [
    "with gzip.open(\"./cutting_test_rate_arr.pkl\", \"wb\") as f:\n",
    "    pickle.dump(rate_arr, f)"
   ]
  },
  {
   "cell_type": "code",
   "execution_count": 83,
   "metadata": {
    "ExecuteTime": {
     "end_time": "2021-01-11T15:42:24.813043Z",
     "start_time": "2021-01-11T15:42:24.810081Z"
    }
   },
   "outputs": [],
   "source": [
    "with gzip.open(\"./cutting_test_rate_arr.pkl\", \"rb\") as f:\n",
    "    tmp = pickle.load(f)"
   ]
  },
  {
   "cell_type": "code",
   "execution_count": 84,
   "metadata": {
    "ExecuteTime": {
     "end_time": "2021-01-11T15:42:27.928645Z",
     "start_time": "2021-01-11T15:42:27.920711Z"
    }
   },
   "outputs": [
    {
     "data": {
      "text/plain": [
       "[98.86770115428523,\n",
       " 98.88650110769078,\n",
       " 98.91420681541516,\n",
       " 98.93232403118292,\n",
       " 98.94553807867786,\n",
       " 98.9700926209611,\n",
       " 98.98345098587393,\n",
       " 98.99375699845075,\n",
       " 99.00891746792442,\n",
       " 99.01398847655226,\n",
       " 99.0244913366245,\n",
       " 99.03771512266569,\n",
       " 99.05292882484976,\n",
       " 99.07503155732736,\n",
       " 99.08576741303169,\n",
       " 99.09576911832268,\n",
       " 99.10999229668758,\n",
       " 99.1246505743843,\n",
       " 99.138336943215,\n",
       " 99.14850522023599,\n",
       " 99.15637140765267,\n",
       " 99.175078905496,\n",
       " 99.18509143506562,\n",
       " 99.18882783062622,\n",
       " 99.19647715337796,\n",
       " 99.21743046954172,\n",
       " 99.23141661922324,\n",
       " 99.24248000392562,\n",
       " 99.25395259906456,\n",
       " 99.27024230096706,\n",
       " 99.28441757583235,\n",
       " 99.29474283986652,\n",
       " 99.30468848440417,\n",
       " 99.3338130628858,\n",
       " 99.35331081568249,\n",
       " 99.3667134954781,\n",
       " 99.37645003758605,\n",
       " 99.39991609446277,\n",
       " 99.41060903732809,\n",
       " 99.41911350990893,\n",
       " 99.42992041565296,\n",
       " 99.44043827239139,\n",
       " 99.44715644360895,\n",
       " 99.45365883025798,\n",
       " 99.45978480930802,\n",
       " 99.46949733021448,\n",
       " 99.47743654411367,\n",
       " 99.48469957887855,\n",
       " 99.49085523736697,\n",
       " 99.49892489632929,\n",
       " 99.50534957046025,\n",
       " 99.51058270061604,\n",
       " 99.51417881612305,\n",
       " 99.52036910521932,\n",
       " 99.52192272634261,\n",
       " 99.52649630407917,\n",
       " 99.5326027951825,\n",
       " 99.53706031011932,\n",
       " 99.54433324095821,\n",
       " 99.5478281295172,\n",
       " 99.55386054544147,\n",
       " 99.55845935452669,\n",
       " 99.56221998557064,\n",
       " 99.56631715107136,\n",
       " 99.57226930734939,\n",
       " 99.57689968540939,\n",
       " 99.58371213933681,\n",
       " 99.5884328422802,\n",
       " 99.59222556047432,\n",
       " 99.59528765477135,\n",
       " 99.59935931660438,\n",
       " 99.60445225143226,\n",
       " 99.60810398590021,\n",
       " 99.61147109446188,\n",
       " 99.61490166763957,\n",
       " 99.62079720384972,\n",
       " 99.62666378097609,\n",
       " 99.63046065919846,\n",
       " 99.63368601894757,\n",
       " 99.6371117054104,\n",
       " 99.63996768730496,\n",
       " 99.64276945740241,\n",
       " 99.64777379159473,\n",
       " 99.64999959302278,\n",
       " 99.65328127151803,\n",
       " 99.65547742427975,\n",
       " 99.6572887553662,\n",
       " 99.66060985797827,\n",
       " 99.66461218282238,\n",
       " 99.66600079904116,\n",
       " 99.66849023600149,\n",
       " 99.67109580378697,\n",
       " 99.67785997962937,\n",
       " 99.68093801081352,\n",
       " 99.68468697553782,\n",
       " 99.68815779215717,\n",
       " 99.69436115678499,\n",
       " 99.69843672370564,\n",
       " 99.70616066537178,\n",
       " 99.7118254616518,\n",
       " 99.72141491107865,\n",
       " 99.73330060035262,\n",
       " 99.74077552861823,\n",
       " 99.74463380930447,\n",
       " 99.74977527471519,\n",
       " 99.75205523536468,\n",
       " 99.7538400945254,\n",
       " 99.75569973276245,\n",
       " 99.75835156581654,\n",
       " 99.76120526216768,\n",
       " 99.76250203028279,\n",
       " 99.76412971065378,\n",
       " 99.76605202916623,\n",
       " 99.76787822037578,\n",
       " 99.76900514635047,\n",
       " 99.7704240361028,\n",
       " 99.77240865132507,\n",
       " 99.77430654439826,\n",
       " 99.7771395667906,\n",
       " 99.77850269239916,\n",
       " 99.77913753740127,\n",
       " 99.78018399413824,\n",
       " 99.78122106215584,\n",
       " 99.78254653539443,\n",
       " 99.78323317413602,\n",
       " 99.78541225471918,\n",
       " 99.78812814909031,\n",
       " 99.79024756399554,\n",
       " 99.79187980883775,\n",
       " 99.79357709895355,\n",
       " 99.79448679367941,\n",
       " 99.79476654694716,\n",
       " 99.79638797852311,\n",
       " 99.79885367474847,\n",
       " 99.79973645874259,\n",
       " 99.800439380425,\n",
       " 99.80134861065368,\n",
       " 99.802728575285,\n",
       " 99.80363143556484,\n",
       " 99.80426745281879,\n",
       " 99.80548504580068,\n",
       " 99.80642716908346,\n",
       " 99.80770355387224,\n",
       " 99.80922644066634,\n",
       " 99.8111128600661,\n",
       " 99.81242504689374,\n",
       " 99.8133679074687,\n",
       " 99.8147549078031,\n",
       " 99.81679503477156,\n",
       " 99.81866032770185,\n",
       " 99.8202457545778,\n",
       " 99.82129742133533,\n",
       " 99.82347183312518,\n",
       " 99.82401014133131,\n",
       " 99.82516658020441,\n",
       " 99.82703212020259,\n",
       " 99.82717402634083,\n",
       " 99.82828204757696,\n",
       " 99.82875102413603,\n",
       " 99.82922844134886,\n",
       " 99.82934810304826,\n",
       " 99.82945731239467,\n",
       " 99.8302070670029,\n",
       " 99.83098044728264,\n",
       " 99.83104660771698,\n",
       " 99.83179564006274,\n",
       " 99.8318799696515,\n",
       " 99.83194175762861,\n",
       " 99.83200125581565,\n",
       " 99.83282279215969,\n",
       " 99.83286406277105,\n",
       " 99.83290698488825,\n",
       " 99.83328109474301,\n",
       " 99.83365613155499,\n",
       " 99.83372707916124,\n",
       " 99.83410727729401,\n",
       " 99.83447403040748,\n",
       " 99.83485273258795,\n",
       " 99.83488296997601,\n",
       " 99.83491869079872,\n",
       " 99.83528002395927,\n",
       " 99.83532112380857,\n",
       " 99.83671650526765,\n",
       " 99.83746431028695,\n",
       " 99.8375042783894,\n",
       " 99.83757606356124,\n",
       " 99.83761166273702,\n",
       " 99.83767419318431,\n",
       " 99.83804001871832,\n",
       " 99.8380862323529,\n",
       " 99.83913070878678,\n",
       " 99.83923628950727,\n",
       " 99.8399437980707,\n",
       " 99.84039682250604,\n",
       " 99.84041954430178,\n",
       " 99.84050033918497,\n",
       " 99.84085547625902,\n",
       " 99.84155022758547,\n",
       " 99.84158114584125,\n",
       " 99.84167382825412,\n",
       " 99.84270390662692,\n",
       " 99.84344448554668,\n",
       " 99.8434605134099,\n",
       " 99.84350186047894,\n",
       " 99.84352614169796,\n",
       " 99.84387480938204,\n",
       " 99.8448829526365,\n",
       " 99.84524925099318,\n",
       " 99.84527630880078,\n",
       " 99.84598031714202,\n",
       " 99.84599860178602,\n",
       " 99.84601586663061,\n",
       " 99.84604175664047,\n",
       " 99.8460610415767,\n",
       " 99.84608387275388,\n",
       " 99.84611278252474,\n",
       " 99.84648075244198,\n",
       " 99.84720205223451,\n",
       " 99.84723978086811,\n",
       " 99.84758757130959,\n",
       " 99.8479482892537,\n",
       " 99.84797330648186,\n",
       " 99.84798881302953,\n",
       " 99.84800631662061,\n",
       " 99.84835825608705,\n",
       " 99.84840612689163,\n",
       " 99.84845994543244,\n",
       " 99.84847737842857,\n",
       " 99.84882792345435,\n",
       " 99.84917142866531,\n",
       " 99.84918778256755,\n",
       " 99.84952524887473,\n",
       " 99.84954057312558,\n",
       " 99.84956725952932,\n",
       " 99.84995781089431,\n",
       " 99.84997997544531,\n",
       " 99.85000065645227,\n",
       " 99.85001640958319,\n",
       " 99.85003560423839,\n",
       " 99.85004790592065,\n",
       " 99.85038486524795,\n",
       " 99.85039860896953,\n",
       " 99.85043442894488,\n",
       " 99.85046974143727,\n",
       " 99.85048150856288,\n",
       " 99.85082358495515,\n",
       " 99.85116169282266,\n",
       " 99.85117535411415,\n",
       " 99.85118023253908,\n",
       " 99.85118803735377,\n",
       " 99.85119876763737,\n",
       " 99.85190184893334,\n",
       " 99.85223918249936,\n",
       " 99.85225273627277,\n",
       " 99.85226386786951,\n",
       " 99.85229048010507,\n",
       " 99.85262475314646,\n",
       " 99.85264646940941,\n",
       " 99.85266721452636,\n",
       " 99.85272796892232,\n",
       " 99.85310475691945,\n",
       " 99.85312109495116,\n",
       " 99.85313262549147,\n",
       " 99.85316240434298,\n",
       " 99.85351386877066,\n",
       " 99.85352680001832,\n",
       " 99.85353781372494,\n",
       " 99.85456850967037,\n",
       " 99.85494794133885,\n",
       " 99.85495836586425,\n",
       " 99.85496926262975,\n",
       " 99.85497684202275,\n",
       " 99.85498584152303,\n",
       " 99.85498963045217,\n",
       " 99.85499341918333,\n",
       " 99.85500951908224,\n",
       " 99.85502845556329,\n",
       " 99.85504076162367,\n",
       " 99.85505495832831,\n",
       " 99.85538660416408,\n",
       " 99.85539038068563,\n",
       " 99.85572340675553,\n",
       " 99.85574742091401,\n",
       " 99.85575212863516,\n",
       " 99.85575636532148,\n",
       " 99.85577189770899,\n",
       " 99.85578460353817,\n",
       " 99.85578883831711,\n",
       " 99.85578930883274,\n",
       " 99.85579166136489,\n",
       " 99.85580107072599,\n",
       " 99.85580436371228,\n",
       " 99.85580671575327,\n",
       " 99.8558076565482,\n",
       " 99.85581565280931,\n",
       " 99.85581847480738,\n",
       " 99.85582411847213,\n",
       " 99.85582694013883,\n",
       " 99.85583446404343,\n",
       " 99.85583493426138,\n",
       " 99.85583869589466,\n",
       " 99.85584057663769,\n",
       " 99.85584151699081,\n",
       " 99.85584386781991,\n",
       " 99.85584480813009,\n",
       " 99.85584997961679,\n",
       " 99.85585233016991,\n",
       " 99.85585374046498,\n",
       " 99.85585374046498,\n",
       " 99.85585374046498,\n",
       " 99.85585374046498,\n",
       " 99.85585374046498,\n",
       " 99.85585374046498,\n",
       " 99.85585374046498,\n",
       " 99.85585374046498,\n",
       " 99.85585374046498,\n",
       " 99.85585374046498,\n",
       " 99.85585374046498,\n",
       " 99.85585374046498,\n",
       " 99.85585374046498,\n",
       " 99.85585374046498,\n",
       " 99.85585374046498,\n",
       " 99.85585374046498,\n",
       " 99.85585421055721,\n",
       " 99.85585421055721,\n",
       " 99.85585421055721,\n",
       " 99.85585421055721,\n",
       " 99.85585421055721,\n",
       " 99.85585421055721,\n",
       " 99.85585421055721,\n",
       " 99.85585421055721,\n",
       " 99.85585421055721,\n",
       " 99.85585421055721,\n",
       " 99.85585421055721,\n",
       " 99.85585421055721,\n",
       " 99.85585421055721,\n",
       " 99.85585421055721,\n",
       " 99.85585421055721,\n",
       " 99.85585421055721,\n",
       " 99.85585421055721,\n",
       " 99.85585421055721,\n",
       " 99.85585421055721,\n",
       " 99.85585421055721,\n",
       " 99.85585421055721,\n",
       " 99.85585421055721,\n",
       " 99.85585421055721,\n",
       " 99.85585421055721,\n",
       " 99.85585421055721,\n",
       " 99.85585421055721,\n",
       " 99.85585421055721,\n",
       " 99.85585421055721,\n",
       " 99.85585421055721,\n",
       " 99.85585421055721,\n",
       " 99.85585421055721,\n",
       " 99.85585421055721,\n",
       " 99.85585421055721,\n",
       " 99.85585421055721,\n",
       " 99.85585421055721,\n",
       " 99.85585421055721,\n",
       " 99.85585421055721,\n",
       " 99.85585421055721,\n",
       " 99.85585421055721,\n",
       " 99.85585421055721,\n",
       " 99.85585421055721,\n",
       " 99.85585421055721,\n",
       " 99.85585421055721,\n",
       " 99.85585421055721,\n",
       " 99.85585421055721,\n",
       " 99.85585421055721,\n",
       " 99.85585421055721,\n",
       " 99.85585421055721,\n",
       " 99.85585421055721,\n",
       " 99.85585421055721,\n",
       " 99.85585421055721,\n",
       " 99.85585421055721,\n",
       " 99.85585421055721,\n",
       " 99.85585421055721,\n",
       " 99.85585421055721,\n",
       " 99.85585421055721,\n",
       " 99.85585421055721,\n",
       " 99.85585421055721,\n",
       " 99.85585421055721,\n",
       " 99.85585421055721,\n",
       " 99.85585421055721,\n",
       " 99.85585421055721,\n",
       " 99.85585421055721,\n",
       " 99.85585421055721,\n",
       " 99.85585421055721,\n",
       " 99.85585421055721,\n",
       " 99.85585421055721,\n",
       " 99.85585421055721,\n",
       " 99.85585421055721,\n",
       " 99.85585421055721,\n",
       " 99.85585421055721,\n",
       " 99.85585421055721,\n",
       " 99.85585421055721,\n",
       " 99.85585421055721,\n",
       " 99.85585421055721,\n",
       " 99.85585421055721,\n",
       " 99.85585421055721,\n",
       " 99.85585421055721,\n",
       " 99.85585421055721,\n",
       " 99.85585421055721,\n",
       " 99.85585421055721,\n",
       " 99.85585421055721,\n",
       " 99.85585421055721,\n",
       " 99.85585421055721,\n",
       " 99.85585421055721,\n",
       " 99.85585421055721,\n",
       " 99.85585421055721,\n",
       " 99.85585421055721,\n",
       " 99.85585421055721,\n",
       " 99.85585421055721,\n",
       " 99.85585421055721,\n",
       " 99.85585421055721,\n",
       " 99.85585421055721,\n",
       " 99.85585421055721,\n",
       " 99.85585421055721,\n",
       " 99.85585421055721,\n",
       " 99.85585421055721,\n",
       " 99.85585421055721,\n",
       " 99.85585421055721,\n",
       " 99.85585421055721,\n",
       " 99.85585421055721,\n",
       " 99.85585421055721,\n",
       " 99.85585421055721,\n",
       " 99.85585421055721,\n",
       " 99.85585421055721,\n",
       " 99.85585421055721,\n",
       " 99.85585421055721,\n",
       " 99.85585421055721,\n",
       " 99.85585421055721,\n",
       " 99.85585421055721,\n",
       " 99.85585421055721,\n",
       " 99.85585421055721,\n",
       " 99.85585421055721,\n",
       " 99.85585421055721,\n",
       " 99.85585421055721,\n",
       " 99.85585421055721,\n",
       " 99.85585421055721,\n",
       " 99.85585421055721,\n",
       " 99.85585421055721,\n",
       " 99.85585421055721,\n",
       " 99.85585421055721,\n",
       " 99.85585421055721,\n",
       " 99.85585421055721,\n",
       " 99.85585421055721,\n",
       " 99.85585421055721,\n",
       " 99.85585421055721,\n",
       " 99.85585421055721,\n",
       " 99.85585421055721,\n",
       " 99.85585421055721,\n",
       " 99.85585421055721,\n",
       " 99.85585421055721,\n",
       " 99.85585421055721,\n",
       " 99.85585421055721,\n",
       " 99.85585421055721,\n",
       " 99.85585421055721,\n",
       " 99.85585421055721,\n",
       " 99.85585421055721,\n",
       " 99.85585421055721,\n",
       " 99.85585421055721,\n",
       " 99.85585421055721,\n",
       " 99.85585421055721,\n",
       " 99.85585421055721,\n",
       " 99.85585421055721,\n",
       " 99.85585421055721,\n",
       " 99.85585421055721,\n",
       " 99.85585421055721,\n",
       " 99.85585421055721,\n",
       " 99.85585421055721,\n",
       " 99.85585421055721,\n",
       " 99.85585421055721,\n",
       " 99.85585421055721,\n",
       " 99.85585421055721,\n",
       " 99.85585421055721,\n",
       " 99.85585421055721,\n",
       " 99.85585421055721,\n",
       " 99.85585421055721,\n",
       " 99.85585421055721,\n",
       " 99.85585421055721,\n",
       " 99.85585421055721,\n",
       " 99.85585421055721,\n",
       " 99.85585421055721,\n",
       " 99.85585421055721,\n",
       " 99.85585421055721,\n",
       " 99.85585421055721,\n",
       " 99.85585421055721,\n",
       " 99.85585421055721,\n",
       " 99.85585421055721,\n",
       " 99.85585421055721,\n",
       " 99.85585421055721,\n",
       " 99.85585421055721,\n",
       " 99.85585421055721,\n",
       " 99.85585421055721,\n",
       " 99.85585421055721,\n",
       " 99.85585421055721,\n",
       " 99.85585421055721,\n",
       " 99.85585421055721,\n",
       " 99.85585421055721,\n",
       " 99.85585421055721,\n",
       " 99.85585421055721,\n",
       " 99.85585421055721,\n",
       " 99.85585421055721,\n",
       " 99.85585421055721,\n",
       " 99.85585421055721,\n",
       " 99.85585421055721,\n",
       " 99.85585421055721,\n",
       " 99.85585421055721,\n",
       " 99.85585421055721,\n",
       " 99.85585421055721,\n",
       " 99.85585421055721,\n",
       " 99.85585421055721,\n",
       " 99.85585421055721,\n",
       " 99.85585421055721,\n",
       " 99.85585421055721,\n",
       " 99.85585421055721,\n",
       " 99.85585421055721,\n",
       " 99.85585421055721,\n",
       " 99.85585421055721,\n",
       " 99.85585421055721,\n",
       " 99.85585421055721,\n",
       " 99.85585421055721,\n",
       " 99.85585421055721,\n",
       " 99.85585421055721,\n",
       " 99.85585421055721,\n",
       " 99.85585421055721,\n",
       " 99.85585421055721,\n",
       " 99.85585421055721,\n",
       " 99.85585421055721,\n",
       " 99.85585421055721,\n",
       " 99.85585421055721,\n",
       " 99.85585421055721,\n",
       " 99.85585421055721,\n",
       " 99.85585421055721,\n",
       " 99.85585421055721,\n",
       " 99.85585421055721]"
      ]
     },
     "execution_count": 84,
     "metadata": {},
     "output_type": "execute_result"
    }
   ],
   "source": [
    "tmp"
   ]
  },
  {
   "cell_type": "code",
   "execution_count": 47,
   "metadata": {
    "ExecuteTime": {
     "end_time": "2021-01-11T14:58:13.101434Z",
     "start_time": "2021-01-11T14:58:13.098239Z"
    }
   },
   "outputs": [],
   "source": [
    "x = [72, 113, 198, 371, 387]\n",
    "y = np.zeros(len(x))\n",
    "for i,v in enumerate(y):\n",
    "    y[i] = rate_arr[x[i]-START]"
   ]
  },
  {
   "cell_type": "code",
   "execution_count": 80,
   "metadata": {
    "ExecuteTime": {
     "end_time": "2021-01-11T15:10:54.711354Z",
     "start_time": "2021-01-11T15:10:54.528479Z"
    }
   },
   "outputs": [
    {
     "data": {
      "text/plain": [
       "<function matplotlib.pyplot.show(close=None, block=None)>"
      ]
     },
     "execution_count": 80,
     "metadata": {},
     "output_type": "execute_result"
    },
    {
     "data": {
      "image/png": "[encoded data removed]",
      "text/plain": [
       "<Figure size 720x576 with 1 Axes>"
      ]
     },
     "metadata": {
      "needs_background": "light"
     },
     "output_type": "display_data"
    }
   ],
   "source": [
    "plt.figure(figsize=(10,8))\n",
    "plt.plot(np.arange(START,last_index+1,1), rate_arr)\n",
    "plt.scatter(x, y, s=50, c='r', alpha=1)\n",
    "\n",
    "for i in range(len(x)-1):\n",
    "    tmp = \"({0} → {1:.8f})\".format(x[i], y[i])\n",
    "    plt.text(x[i]+8, y[i]-0.04, s=tmp, fontsize=13)\n",
    "    \n",
    "tmp = \"({0} → {1:.8f})\".format(x[-1], y[-1])\n",
    "plt.text(x[-1]+8, y[-1]+0.02, s=tmp, fontsize=13)\n",
    "    \n",
    "plt.title(\"Cutting Test\", fontsize=15)\n",
    "plt.xlabel(\"Padding Size\")\n",
    "plt.ylabel(\"Data Retention Rate\")\n",
    "# plt.axvline(x=first_index-1, color='r', lw=1, label=str(first_index-1))\n",
    "plt.show"
   ]
  },
  {
   "cell_type": "code",
   "execution_count": 44,
   "metadata": {
    "ExecuteTime": {
     "end_time": "2021-01-11T14:54:29.223087Z",
     "start_time": "2021-01-11T14:54:29.032226Z"
    }
   },
   "outputs": [
    {
     "data": {
      "text/plain": [
       "<function matplotlib.pyplot.show(close=None, block=None)>"
      ]
     },
     "execution_count": 44,
     "metadata": {},
     "output_type": "execute_result"
    },
    {
     "data": {
      "image/png": "[encoded data removed]",
      "text/plain": [
       "<Figure size 1080x720 with 1 Axes>"
      ]
     },
     "metadata": {
      "needs_background": "light"
     },
     "output_type": "display_data"
    }
   ],
   "source": [
    "plt.figure(figsize=(15,10))\n",
    "plt.plot(np.arange(64,last_index+1,1), rate_arr)\n",
    "plt.axvline(x=72, color='r', lw=1, label=str(72))\n",
    "plt.axhline(y=rate_arr[72-64], color='g', lw=1, label=str(rate_arr[72-64]))\n",
    "\n",
    "plt.axvline(x=113, color='r', lw=1, label=str(113))\n",
    "plt.axhline(y=rate_arr[113-64], color='g', lw=1, label=str(rate_arr[113-64]))\n",
    "\n",
    "plt.axvline(x=198, color='r', lw=1, label=str(198))\n",
    "plt.axhline(y=rate_arr[198-64], color='g', lw=1, label=str(rate_arr[198-64]))\n",
    "\n",
    "plt.axvline(x=371, color='r', lw=1, label=str(371))\n",
    "plt.axhline(y=rate_arr[371-64], color='g', lw=1, label=str(rate_arr[371-64]))\n",
    "\n",
    "plt.axvline(x=387, color='r', lw=1, label=str(387))\n",
    "plt.axhline(y=rate_arr[387-64], color='g', lw=1, label=str(rate_arr[387-64]))\n",
    "\n",
    "plt.label()\n",
    "\n",
    "plt.title(\"Cutting Test\", fontsize=15)\n",
    "plt.xlabel(\"Padding Size\")\n",
    "plt.ylabel(\"Data Retention Rate\")\n",
    "# plt.axvline(x=first_index-1, color='r', lw=1, label=str(first_index-1))\n",
    "plt.show"
   ]
  },
  {
   "cell_type": "code",
   "execution_count": null,
   "metadata": {
    "ExecuteTime": {
     "end_time": "2020-10-13T08:50:12.751645Z",
     "start_time": "2020-10-13T08:50:12.736687Z"
    }
   },
   "outputs": [],
   "source": [
    "def cut_drop_duplicate_df(DF, col, cut):\n",
    "    col_tmp = col[:cut]\n",
    "    DF_tmp = DF[col_tmp]\n",
    "    DF_tmp = DF_tmp.drop_duplicates(col_tmp)\n",
    "    return DF_tmp"
   ]
  },
  {
   "cell_type": "code",
   "execution_count": null,
   "metadata": {
    "ExecuteTime": {
     "end_time": "2020-10-13T08:50:42.735203Z",
     "start_time": "2020-10-13T08:50:37.934763Z"
    }
   },
   "outputs": [],
   "source": [
    "cut_df = cut_drop_duplicate_df(NGIDS_MAP, col, 371)"
   ]
  },
  {
   "cell_type": "code",
   "execution_count": null,
   "metadata": {
    "ExecuteTime": {
     "end_time": "2020-10-13T08:51:08.914398Z",
     "start_time": "2020-10-13T08:51:08.904421Z"
    }
   },
   "outputs": [],
   "source": [
    "cut_df[\"attack_cat\"] = y"
   ]
  },
  {
   "cell_type": "code",
   "execution_count": null,
   "metadata": {
    "ExecuteTime": {
     "start_time": "2020-10-13T08:51:33.460Z"
    }
   },
   "outputs": [],
   "source": [
    "cut_df.to_csv(\"./NGIDS_DATA_371.csv\")"
   ]
  },
  {
   "cell_type": "code",
   "execution_count": null,
   "metadata": {},
   "outputs": [],
   "source": []
  }
 ],
 "metadata": {
  "kernelspec": {
   "display_name": "Python 3",
   "language": "python",
   "name": "python3"
  },
  "language_info": {
   "codemirror_mode": {
    "name": "ipython",
    "version": 3
   },
   "file_extension": ".py",
   "mimetype": "text/x-python",
   "name": "python",
   "nbconvert_exporter": "python",
   "pygments_lexer": "ipython3",
   "version": "3.8.5"
  },
  "toc": {
   "base_numbering": 1,
   "nav_menu": {},
   "number_sections": true,
   "sideBar": true,
   "skip_h1_title": false,
   "title_cell": "Table of Contents",
   "title_sidebar": "Contents",
   "toc_cell": false,
   "toc_position": {},
   "toc_section_display": true,
   "toc_window_display": false
  },
  "varInspector": {
   "cols": {
    "lenName": 16,
    "lenType": 16,
    "lenVar": 40
   },
   "kernels_config": {
    "python": {
     "delete_cmd_postfix": "",
     "delete_cmd_prefix": "del ",
     "library": "var_list.py",
     "varRefreshCmd": "print(var_dic_list())"
    },
    "r": {
     "delete_cmd_postfix": ") ",
     "delete_cmd_prefix": "rm(",
     "library": "var_list.r",
     "varRefreshCmd": "cat(var_dic_list()) "
    }
   },
   "types_to_exclude": [
    "module",
    "function",
    "builtin_function_or_method",
    "instance",
    "_Feature"
   ],
   "window_display": false
  }
 },
 "nbformat": 4,
 "nbformat_minor": 4
}
